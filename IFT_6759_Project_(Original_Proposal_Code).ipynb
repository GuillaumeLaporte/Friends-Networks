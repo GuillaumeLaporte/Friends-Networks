{
  "nbformat": 4,
  "nbformat_minor": 0,
  "metadata": {
    "colab": {
      "provenance": []
    },
    "kernelspec": {
      "name": "python3",
      "display_name": "Python 3"
    },
    "language_info": {
      "name": "python"
    },
    "widgets": {
      "application/vnd.jupyter.widget-state+json": {
        "aebc0a2c6f2044b2b671341500b36ae8": {
          "model_module": "@jupyter-widgets/controls",
          "model_name": "HBoxModel",
          "model_module_version": "1.5.0",
          "state": {
            "_dom_classes": [],
            "_model_module": "@jupyter-widgets/controls",
            "_model_module_version": "1.5.0",
            "_model_name": "HBoxModel",
            "_view_count": null,
            "_view_module": "@jupyter-widgets/controls",
            "_view_module_version": "1.5.0",
            "_view_name": "HBoxView",
            "box_style": "",
            "children": [
              "IPY_MODEL_db98ea7ebd984f57b650e68ebe1ec377",
              "IPY_MODEL_ea95a66b178e4da2b9001fb734e856c7",
              "IPY_MODEL_eeaf84e4f2024e1c8f8b9885d257e048"
            ],
            "layout": "IPY_MODEL_ff8160f692cf496680228d0a74bd683b"
          }
        },
        "db98ea7ebd984f57b650e68ebe1ec377": {
          "model_module": "@jupyter-widgets/controls",
          "model_name": "HTMLModel",
          "model_module_version": "1.5.0",
          "state": {
            "_dom_classes": [],
            "_model_module": "@jupyter-widgets/controls",
            "_model_module_version": "1.5.0",
            "_model_name": "HTMLModel",
            "_view_count": null,
            "_view_module": "@jupyter-widgets/controls",
            "_view_module_version": "1.5.0",
            "_view_name": "HTMLView",
            "description": "",
            "description_tooltip": null,
            "layout": "IPY_MODEL_5910348bfaef4bc197ba4d30bf1f288d",
            "placeholder": "​",
            "style": "IPY_MODEL_e50c41cb9e2a434a8b4e21e0c0717533",
            "value": "100%"
          }
        },
        "ea95a66b178e4da2b9001fb734e856c7": {
          "model_module": "@jupyter-widgets/controls",
          "model_name": "FloatProgressModel",
          "model_module_version": "1.5.0",
          "state": {
            "_dom_classes": [],
            "_model_module": "@jupyter-widgets/controls",
            "_model_module_version": "1.5.0",
            "_model_name": "FloatProgressModel",
            "_view_count": null,
            "_view_module": "@jupyter-widgets/controls",
            "_view_module_version": "1.5.0",
            "_view_name": "ProgressView",
            "bar_style": "success",
            "description": "",
            "description_tooltip": null,
            "layout": "IPY_MODEL_b926f3fdf7ba4ab78dfc6dd2ad6f39ca",
            "max": 46830571,
            "min": 0,
            "orientation": "horizontal",
            "style": "IPY_MODEL_9990fa388aae4aca8ef1f878cce6ede5",
            "value": 46830571
          }
        },
        "eeaf84e4f2024e1c8f8b9885d257e048": {
          "model_module": "@jupyter-widgets/controls",
          "model_name": "HTMLModel",
          "model_module_version": "1.5.0",
          "state": {
            "_dom_classes": [],
            "_model_module": "@jupyter-widgets/controls",
            "_model_module_version": "1.5.0",
            "_model_name": "HTMLModel",
            "_view_count": null,
            "_view_module": "@jupyter-widgets/controls",
            "_view_module_version": "1.5.0",
            "_view_name": "HTMLView",
            "description": "",
            "description_tooltip": null,
            "layout": "IPY_MODEL_a89687156c1e49829420a13ba67ed463",
            "placeholder": "​",
            "style": "IPY_MODEL_9ec4fed0dd0a470d9d2c1e165db8a184",
            "value": " 44.7M/44.7M [00:01&lt;00:00, 45.6MB/s]"
          }
        },
        "ff8160f692cf496680228d0a74bd683b": {
          "model_module": "@jupyter-widgets/base",
          "model_name": "LayoutModel",
          "model_module_version": "1.2.0",
          "state": {
            "_model_module": "@jupyter-widgets/base",
            "_model_module_version": "1.2.0",
            "_model_name": "LayoutModel",
            "_view_count": null,
            "_view_module": "@jupyter-widgets/base",
            "_view_module_version": "1.2.0",
            "_view_name": "LayoutView",
            "align_content": null,
            "align_items": null,
            "align_self": null,
            "border": null,
            "bottom": null,
            "display": null,
            "flex": null,
            "flex_flow": null,
            "grid_area": null,
            "grid_auto_columns": null,
            "grid_auto_flow": null,
            "grid_auto_rows": null,
            "grid_column": null,
            "grid_gap": null,
            "grid_row": null,
            "grid_template_areas": null,
            "grid_template_columns": null,
            "grid_template_rows": null,
            "height": null,
            "justify_content": null,
            "justify_items": null,
            "left": null,
            "margin": null,
            "max_height": null,
            "max_width": null,
            "min_height": null,
            "min_width": null,
            "object_fit": null,
            "object_position": null,
            "order": null,
            "overflow": null,
            "overflow_x": null,
            "overflow_y": null,
            "padding": null,
            "right": null,
            "top": null,
            "visibility": null,
            "width": null
          }
        },
        "5910348bfaef4bc197ba4d30bf1f288d": {
          "model_module": "@jupyter-widgets/base",
          "model_name": "LayoutModel",
          "model_module_version": "1.2.0",
          "state": {
            "_model_module": "@jupyter-widgets/base",
            "_model_module_version": "1.2.0",
            "_model_name": "LayoutModel",
            "_view_count": null,
            "_view_module": "@jupyter-widgets/base",
            "_view_module_version": "1.2.0",
            "_view_name": "LayoutView",
            "align_content": null,
            "align_items": null,
            "align_self": null,
            "border": null,
            "bottom": null,
            "display": null,
            "flex": null,
            "flex_flow": null,
            "grid_area": null,
            "grid_auto_columns": null,
            "grid_auto_flow": null,
            "grid_auto_rows": null,
            "grid_column": null,
            "grid_gap": null,
            "grid_row": null,
            "grid_template_areas": null,
            "grid_template_columns": null,
            "grid_template_rows": null,
            "height": null,
            "justify_content": null,
            "justify_items": null,
            "left": null,
            "margin": null,
            "max_height": null,
            "max_width": null,
            "min_height": null,
            "min_width": null,
            "object_fit": null,
            "object_position": null,
            "order": null,
            "overflow": null,
            "overflow_x": null,
            "overflow_y": null,
            "padding": null,
            "right": null,
            "top": null,
            "visibility": null,
            "width": null
          }
        },
        "e50c41cb9e2a434a8b4e21e0c0717533": {
          "model_module": "@jupyter-widgets/controls",
          "model_name": "DescriptionStyleModel",
          "model_module_version": "1.5.0",
          "state": {
            "_model_module": "@jupyter-widgets/controls",
            "_model_module_version": "1.5.0",
            "_model_name": "DescriptionStyleModel",
            "_view_count": null,
            "_view_module": "@jupyter-widgets/base",
            "_view_module_version": "1.2.0",
            "_view_name": "StyleView",
            "description_width": ""
          }
        },
        "b926f3fdf7ba4ab78dfc6dd2ad6f39ca": {
          "model_module": "@jupyter-widgets/base",
          "model_name": "LayoutModel",
          "model_module_version": "1.2.0",
          "state": {
            "_model_module": "@jupyter-widgets/base",
            "_model_module_version": "1.2.0",
            "_model_name": "LayoutModel",
            "_view_count": null,
            "_view_module": "@jupyter-widgets/base",
            "_view_module_version": "1.2.0",
            "_view_name": "LayoutView",
            "align_content": null,
            "align_items": null,
            "align_self": null,
            "border": null,
            "bottom": null,
            "display": null,
            "flex": null,
            "flex_flow": null,
            "grid_area": null,
            "grid_auto_columns": null,
            "grid_auto_flow": null,
            "grid_auto_rows": null,
            "grid_column": null,
            "grid_gap": null,
            "grid_row": null,
            "grid_template_areas": null,
            "grid_template_columns": null,
            "grid_template_rows": null,
            "height": null,
            "justify_content": null,
            "justify_items": null,
            "left": null,
            "margin": null,
            "max_height": null,
            "max_width": null,
            "min_height": null,
            "min_width": null,
            "object_fit": null,
            "object_position": null,
            "order": null,
            "overflow": null,
            "overflow_x": null,
            "overflow_y": null,
            "padding": null,
            "right": null,
            "top": null,
            "visibility": null,
            "width": null
          }
        },
        "9990fa388aae4aca8ef1f878cce6ede5": {
          "model_module": "@jupyter-widgets/controls",
          "model_name": "ProgressStyleModel",
          "model_module_version": "1.5.0",
          "state": {
            "_model_module": "@jupyter-widgets/controls",
            "_model_module_version": "1.5.0",
            "_model_name": "ProgressStyleModel",
            "_view_count": null,
            "_view_module": "@jupyter-widgets/base",
            "_view_module_version": "1.2.0",
            "_view_name": "StyleView",
            "bar_color": null,
            "description_width": ""
          }
        },
        "a89687156c1e49829420a13ba67ed463": {
          "model_module": "@jupyter-widgets/base",
          "model_name": "LayoutModel",
          "model_module_version": "1.2.0",
          "state": {
            "_model_module": "@jupyter-widgets/base",
            "_model_module_version": "1.2.0",
            "_model_name": "LayoutModel",
            "_view_count": null,
            "_view_module": "@jupyter-widgets/base",
            "_view_module_version": "1.2.0",
            "_view_name": "LayoutView",
            "align_content": null,
            "align_items": null,
            "align_self": null,
            "border": null,
            "bottom": null,
            "display": null,
            "flex": null,
            "flex_flow": null,
            "grid_area": null,
            "grid_auto_columns": null,
            "grid_auto_flow": null,
            "grid_auto_rows": null,
            "grid_column": null,
            "grid_gap": null,
            "grid_row": null,
            "grid_template_areas": null,
            "grid_template_columns": null,
            "grid_template_rows": null,
            "height": null,
            "justify_content": null,
            "justify_items": null,
            "left": null,
            "margin": null,
            "max_height": null,
            "max_width": null,
            "min_height": null,
            "min_width": null,
            "object_fit": null,
            "object_position": null,
            "order": null,
            "overflow": null,
            "overflow_x": null,
            "overflow_y": null,
            "padding": null,
            "right": null,
            "top": null,
            "visibility": null,
            "width": null
          }
        },
        "9ec4fed0dd0a470d9d2c1e165db8a184": {
          "model_module": "@jupyter-widgets/controls",
          "model_name": "DescriptionStyleModel",
          "model_module_version": "1.5.0",
          "state": {
            "_model_module": "@jupyter-widgets/controls",
            "_model_module_version": "1.5.0",
            "_model_name": "DescriptionStyleModel",
            "_view_count": null,
            "_view_module": "@jupyter-widgets/base",
            "_view_module_version": "1.2.0",
            "_view_name": "StyleView",
            "description_width": ""
          }
        },
        "bfa167f057ec42e6b039e2cb873fb8ae": {
          "model_module": "@jupyter-widgets/controls",
          "model_name": "HBoxModel",
          "model_module_version": "1.5.0",
          "state": {
            "_dom_classes": [],
            "_model_module": "@jupyter-widgets/controls",
            "_model_module_version": "1.5.0",
            "_model_name": "HBoxModel",
            "_view_count": null,
            "_view_module": "@jupyter-widgets/controls",
            "_view_module_version": "1.5.0",
            "_view_name": "HBoxView",
            "box_style": "",
            "children": [
              "IPY_MODEL_15dd8241200c47849b5a2db09706eb15",
              "IPY_MODEL_22de00a964c244b8a072ba845fdf8f1a",
              "IPY_MODEL_0894bda3c15b43d9b5f42f412e188173"
            ],
            "layout": "IPY_MODEL_5741d27fc9ce4468a3359915999f445a"
          }
        },
        "15dd8241200c47849b5a2db09706eb15": {
          "model_module": "@jupyter-widgets/controls",
          "model_name": "HTMLModel",
          "model_module_version": "1.5.0",
          "state": {
            "_dom_classes": [],
            "_model_module": "@jupyter-widgets/controls",
            "_model_module_version": "1.5.0",
            "_model_name": "HTMLModel",
            "_view_count": null,
            "_view_module": "@jupyter-widgets/controls",
            "_view_module_version": "1.5.0",
            "_view_name": "HTMLView",
            "description": "",
            "description_tooltip": null,
            "layout": "IPY_MODEL_2399336dda064056b05c7585af5ae074",
            "placeholder": "​",
            "style": "IPY_MODEL_db8734724eb0465098c9eed48d76e396",
            "value": "100%"
          }
        },
        "22de00a964c244b8a072ba845fdf8f1a": {
          "model_module": "@jupyter-widgets/controls",
          "model_name": "FloatProgressModel",
          "model_module_version": "1.5.0",
          "state": {
            "_dom_classes": [],
            "_model_module": "@jupyter-widgets/controls",
            "_model_module_version": "1.5.0",
            "_model_name": "FloatProgressModel",
            "_view_count": null,
            "_view_module": "@jupyter-widgets/controls",
            "_view_module_version": "1.5.0",
            "_view_name": "ProgressView",
            "bar_style": "success",
            "description": "",
            "description_tooltip": null,
            "layout": "IPY_MODEL_bb6ab3d28fd3432fb91f725245e37b8f",
            "max": 170498071,
            "min": 0,
            "orientation": "horizontal",
            "style": "IPY_MODEL_535f1b943b85443191e5a06780ad33bb",
            "value": 170498071
          }
        },
        "0894bda3c15b43d9b5f42f412e188173": {
          "model_module": "@jupyter-widgets/controls",
          "model_name": "HTMLModel",
          "model_module_version": "1.5.0",
          "state": {
            "_dom_classes": [],
            "_model_module": "@jupyter-widgets/controls",
            "_model_module_version": "1.5.0",
            "_model_name": "HTMLModel",
            "_view_count": null,
            "_view_module": "@jupyter-widgets/controls",
            "_view_module_version": "1.5.0",
            "_view_name": "HTMLView",
            "description": "",
            "description_tooltip": null,
            "layout": "IPY_MODEL_eb29d4843fc6453b92ea4357f3c60de7",
            "placeholder": "​",
            "style": "IPY_MODEL_9b7ab810a0514a9197a3488a4febb9ab",
            "value": " 170498071/170498071 [00:02&lt;00:00, 71624304.51it/s]"
          }
        },
        "5741d27fc9ce4468a3359915999f445a": {
          "model_module": "@jupyter-widgets/base",
          "model_name": "LayoutModel",
          "model_module_version": "1.2.0",
          "state": {
            "_model_module": "@jupyter-widgets/base",
            "_model_module_version": "1.2.0",
            "_model_name": "LayoutModel",
            "_view_count": null,
            "_view_module": "@jupyter-widgets/base",
            "_view_module_version": "1.2.0",
            "_view_name": "LayoutView",
            "align_content": null,
            "align_items": null,
            "align_self": null,
            "border": null,
            "bottom": null,
            "display": null,
            "flex": null,
            "flex_flow": null,
            "grid_area": null,
            "grid_auto_columns": null,
            "grid_auto_flow": null,
            "grid_auto_rows": null,
            "grid_column": null,
            "grid_gap": null,
            "grid_row": null,
            "grid_template_areas": null,
            "grid_template_columns": null,
            "grid_template_rows": null,
            "height": null,
            "justify_content": null,
            "justify_items": null,
            "left": null,
            "margin": null,
            "max_height": null,
            "max_width": null,
            "min_height": null,
            "min_width": null,
            "object_fit": null,
            "object_position": null,
            "order": null,
            "overflow": null,
            "overflow_x": null,
            "overflow_y": null,
            "padding": null,
            "right": null,
            "top": null,
            "visibility": null,
            "width": null
          }
        },
        "2399336dda064056b05c7585af5ae074": {
          "model_module": "@jupyter-widgets/base",
          "model_name": "LayoutModel",
          "model_module_version": "1.2.0",
          "state": {
            "_model_module": "@jupyter-widgets/base",
            "_model_module_version": "1.2.0",
            "_model_name": "LayoutModel",
            "_view_count": null,
            "_view_module": "@jupyter-widgets/base",
            "_view_module_version": "1.2.0",
            "_view_name": "LayoutView",
            "align_content": null,
            "align_items": null,
            "align_self": null,
            "border": null,
            "bottom": null,
            "display": null,
            "flex": null,
            "flex_flow": null,
            "grid_area": null,
            "grid_auto_columns": null,
            "grid_auto_flow": null,
            "grid_auto_rows": null,
            "grid_column": null,
            "grid_gap": null,
            "grid_row": null,
            "grid_template_areas": null,
            "grid_template_columns": null,
            "grid_template_rows": null,
            "height": null,
            "justify_content": null,
            "justify_items": null,
            "left": null,
            "margin": null,
            "max_height": null,
            "max_width": null,
            "min_height": null,
            "min_width": null,
            "object_fit": null,
            "object_position": null,
            "order": null,
            "overflow": null,
            "overflow_x": null,
            "overflow_y": null,
            "padding": null,
            "right": null,
            "top": null,
            "visibility": null,
            "width": null
          }
        },
        "db8734724eb0465098c9eed48d76e396": {
          "model_module": "@jupyter-widgets/controls",
          "model_name": "DescriptionStyleModel",
          "model_module_version": "1.5.0",
          "state": {
            "_model_module": "@jupyter-widgets/controls",
            "_model_module_version": "1.5.0",
            "_model_name": "DescriptionStyleModel",
            "_view_count": null,
            "_view_module": "@jupyter-widgets/base",
            "_view_module_version": "1.2.0",
            "_view_name": "StyleView",
            "description_width": ""
          }
        },
        "bb6ab3d28fd3432fb91f725245e37b8f": {
          "model_module": "@jupyter-widgets/base",
          "model_name": "LayoutModel",
          "model_module_version": "1.2.0",
          "state": {
            "_model_module": "@jupyter-widgets/base",
            "_model_module_version": "1.2.0",
            "_model_name": "LayoutModel",
            "_view_count": null,
            "_view_module": "@jupyter-widgets/base",
            "_view_module_version": "1.2.0",
            "_view_name": "LayoutView",
            "align_content": null,
            "align_items": null,
            "align_self": null,
            "border": null,
            "bottom": null,
            "display": null,
            "flex": null,
            "flex_flow": null,
            "grid_area": null,
            "grid_auto_columns": null,
            "grid_auto_flow": null,
            "grid_auto_rows": null,
            "grid_column": null,
            "grid_gap": null,
            "grid_row": null,
            "grid_template_areas": null,
            "grid_template_columns": null,
            "grid_template_rows": null,
            "height": null,
            "justify_content": null,
            "justify_items": null,
            "left": null,
            "margin": null,
            "max_height": null,
            "max_width": null,
            "min_height": null,
            "min_width": null,
            "object_fit": null,
            "object_position": null,
            "order": null,
            "overflow": null,
            "overflow_x": null,
            "overflow_y": null,
            "padding": null,
            "right": null,
            "top": null,
            "visibility": null,
            "width": null
          }
        },
        "535f1b943b85443191e5a06780ad33bb": {
          "model_module": "@jupyter-widgets/controls",
          "model_name": "ProgressStyleModel",
          "model_module_version": "1.5.0",
          "state": {
            "_model_module": "@jupyter-widgets/controls",
            "_model_module_version": "1.5.0",
            "_model_name": "ProgressStyleModel",
            "_view_count": null,
            "_view_module": "@jupyter-widgets/base",
            "_view_module_version": "1.2.0",
            "_view_name": "StyleView",
            "bar_color": null,
            "description_width": ""
          }
        },
        "eb29d4843fc6453b92ea4357f3c60de7": {
          "model_module": "@jupyter-widgets/base",
          "model_name": "LayoutModel",
          "model_module_version": "1.2.0",
          "state": {
            "_model_module": "@jupyter-widgets/base",
            "_model_module_version": "1.2.0",
            "_model_name": "LayoutModel",
            "_view_count": null,
            "_view_module": "@jupyter-widgets/base",
            "_view_module_version": "1.2.0",
            "_view_name": "LayoutView",
            "align_content": null,
            "align_items": null,
            "align_self": null,
            "border": null,
            "bottom": null,
            "display": null,
            "flex": null,
            "flex_flow": null,
            "grid_area": null,
            "grid_auto_columns": null,
            "grid_auto_flow": null,
            "grid_auto_rows": null,
            "grid_column": null,
            "grid_gap": null,
            "grid_row": null,
            "grid_template_areas": null,
            "grid_template_columns": null,
            "grid_template_rows": null,
            "height": null,
            "justify_content": null,
            "justify_items": null,
            "left": null,
            "margin": null,
            "max_height": null,
            "max_width": null,
            "min_height": null,
            "min_width": null,
            "object_fit": null,
            "object_position": null,
            "order": null,
            "overflow": null,
            "overflow_x": null,
            "overflow_y": null,
            "padding": null,
            "right": null,
            "top": null,
            "visibility": null,
            "width": null
          }
        },
        "9b7ab810a0514a9197a3488a4febb9ab": {
          "model_module": "@jupyter-widgets/controls",
          "model_name": "DescriptionStyleModel",
          "model_module_version": "1.5.0",
          "state": {
            "_model_module": "@jupyter-widgets/controls",
            "_model_module_version": "1.5.0",
            "_model_name": "DescriptionStyleModel",
            "_view_count": null,
            "_view_module": "@jupyter-widgets/base",
            "_view_module_version": "1.2.0",
            "_view_name": "StyleView",
            "description_width": ""
          }
        }
      }
    },
    "accelerator": "TPU",
    "gpuClass": "standard"
  },
  "cells": [
    {
      "cell_type": "code",
      "source": [
        "import torch\n",
        "import torchvision\n",
        "import torchvision.transforms as transforms\n",
        "imageNetModel = torchvision.models.resnet18(pretrained = True)"
      ],
      "metadata": {
        "id": "gDFgCyGaboB-",
        "colab": {
          "base_uri": "https://localhost:8080/",
          "height": 156,
          "referenced_widgets": [
            "aebc0a2c6f2044b2b671341500b36ae8",
            "db98ea7ebd984f57b650e68ebe1ec377",
            "ea95a66b178e4da2b9001fb734e856c7",
            "eeaf84e4f2024e1c8f8b9885d257e048",
            "ff8160f692cf496680228d0a74bd683b",
            "5910348bfaef4bc197ba4d30bf1f288d",
            "e50c41cb9e2a434a8b4e21e0c0717533",
            "b926f3fdf7ba4ab78dfc6dd2ad6f39ca",
            "9990fa388aae4aca8ef1f878cce6ede5",
            "a89687156c1e49829420a13ba67ed463",
            "9ec4fed0dd0a470d9d2c1e165db8a184"
          ]
        },
        "outputId": "98f3c9bc-5a14-494c-b4d0-7f928e7ca2fa"
      },
      "execution_count": 1,
      "outputs": [
        {
          "output_type": "stream",
          "name": "stderr",
          "text": [
            "/usr/local/lib/python3.9/dist-packages/torchvision/models/_utils.py:208: UserWarning: The parameter 'pretrained' is deprecated since 0.13 and may be removed in the future, please use 'weights' instead.\n",
            "  warnings.warn(\n",
            "/usr/local/lib/python3.9/dist-packages/torchvision/models/_utils.py:223: UserWarning: Arguments other than a weight enum or `None` for 'weights' are deprecated since 0.13 and may be removed in the future. The current behavior is equivalent to passing `weights=ResNet18_Weights.IMAGENET1K_V1`. You can also use `weights=ResNet18_Weights.DEFAULT` to get the most up-to-date weights.\n",
            "  warnings.warn(msg)\n",
            "Downloading: \"https://download.pytorch.org/models/resnet18-f37072fd.pth\" to /root/.cache/torch/hub/checkpoints/resnet18-f37072fd.pth\n"
          ]
        },
        {
          "output_type": "display_data",
          "data": {
            "text/plain": [
              "  0%|          | 0.00/44.7M [00:00<?, ?B/s]"
            ],
            "application/vnd.jupyter.widget-view+json": {
              "version_major": 2,
              "version_minor": 0,
              "model_id": "aebc0a2c6f2044b2b671341500b36ae8"
            }
          },
          "metadata": {}
        }
      ]
    },
    {
      "cell_type": "code",
      "source": [
        "inputTensor = torch.rand((4,3,224,224))\n",
        "\n",
        "print(\"Original-imageNetModel's output\")\n",
        "print(imageNetModel(inputTensor))\n",
        "\n",
        "print(\"Recreated-imageNetModel's output\")\n",
        "recreatedModel = torch.nn.Sequential(*list(imageNetModel.children())[:-2])\n",
        "print(recreatedModel(inputTensor).size())\n",
        "\n",
        "#print(imageNetModel)\n"
      ],
      "metadata": {
        "colab": {
          "base_uri": "https://localhost:8080/"
        },
        "id": "12U79-ETMeG2",
        "outputId": "fb4ad1e2-574c-4d7b-e9ec-22aaca686586"
      },
      "execution_count": 17,
      "outputs": [
        {
          "output_type": "stream",
          "name": "stdout",
          "text": [
            "Original-imageNetModel's output\n",
            "tensor([[ 0.1557,  1.0026, -1.1269,  ...,  0.8822,  0.3044,  0.9065],\n",
            "        [-3.0266, -1.0742,  1.8353,  ...,  0.3134,  0.9044,  0.2401],\n",
            "        [-0.8651, -1.5031, -2.7743,  ..., -2.5113,  0.9637,  4.4800],\n",
            "        [ 1.3688, -0.0908, -0.2678,  ..., -0.6881,  2.9134, -1.8436]],\n",
            "       grad_fn=<AddmmBackward0>)\n",
            "Recreated-imageNetModel's output\n",
            "torch.Size([4, 512, 7, 7])\n"
          ]
        }
      ]
    },
    {
      "cell_type": "markdown",
      "source": [
        "HI SAYAK!!! BELOW IS WHERE I SELECT LOWER LAYERS OF THE IMAGENET NETWORK###########################################################################################################################################################"
      ],
      "metadata": {
        "id": "k-UHm6ftrOrK"
      }
    },
    {
      "cell_type": "code",
      "source": [
        "partialImageNetModel1 = torch.nn.Sequential(*list(imageNetModel.children())[:-5])\n",
        "partialImageNetModel2 = torch.nn.Sequential(*list(imageNetModel.children())[:-4])\n",
        "partialImageNetModel3 = torch.nn.Sequential(*list(imageNetModel.children())[:-3])\n",
        "partialImageNetModel4 = torch.nn.Sequential(*list(imageNetModel.children())[:-2])\n",
        "totalReconstructedImageNetModel = torch.nn.Sequential(*list(imageNetModel.children())[:])\n",
        "partialImageNetModels = [partialImageNetModel1, partialImageNetModel2, partialImageNetModel3, partialImageNetModel4]"
      ],
      "metadata": {
        "id": "M7_8KY_nLM4R"
      },
      "execution_count": 2,
      "outputs": []
    },
    {
      "cell_type": "code",
      "source": [
        "print(totalReconstructedImageNetModel)"
      ],
      "metadata": {
        "colab": {
          "base_uri": "https://localhost:8080/"
        },
        "id": "ZedBhF7l8v9R",
        "outputId": "b8b62676-1591-4efc-ea96-783431ee4ff6"
      },
      "execution_count": null,
      "outputs": [
        {
          "output_type": "stream",
          "name": "stdout",
          "text": [
            "Sequential(\n",
            "  (0): Conv2d(3, 64, kernel_size=(7, 7), stride=(2, 2), padding=(3, 3), bias=False)\n",
            "  (1): BatchNorm2d(64, eps=1e-05, momentum=0.1, affine=True, track_running_stats=True)\n",
            "  (2): ReLU(inplace=True)\n",
            "  (3): MaxPool2d(kernel_size=3, stride=2, padding=1, dilation=1, ceil_mode=False)\n",
            "  (4): Sequential(\n",
            "    (0): BasicBlock(\n",
            "      (conv1): Conv2d(64, 64, kernel_size=(3, 3), stride=(1, 1), padding=(1, 1), bias=False)\n",
            "      (bn1): BatchNorm2d(64, eps=1e-05, momentum=0.1, affine=True, track_running_stats=True)\n",
            "      (relu): ReLU(inplace=True)\n",
            "      (conv2): Conv2d(64, 64, kernel_size=(3, 3), stride=(1, 1), padding=(1, 1), bias=False)\n",
            "      (bn2): BatchNorm2d(64, eps=1e-05, momentum=0.1, affine=True, track_running_stats=True)\n",
            "    )\n",
            "    (1): BasicBlock(\n",
            "      (conv1): Conv2d(64, 64, kernel_size=(3, 3), stride=(1, 1), padding=(1, 1), bias=False)\n",
            "      (bn1): BatchNorm2d(64, eps=1e-05, momentum=0.1, affine=True, track_running_stats=True)\n",
            "      (relu): ReLU(inplace=True)\n",
            "      (conv2): Conv2d(64, 64, kernel_size=(3, 3), stride=(1, 1), padding=(1, 1), bias=False)\n",
            "      (bn2): BatchNorm2d(64, eps=1e-05, momentum=0.1, affine=True, track_running_stats=True)\n",
            "    )\n",
            "  )\n",
            "  (5): Sequential(\n",
            "    (0): BasicBlock(\n",
            "      (conv1): Conv2d(64, 128, kernel_size=(3, 3), stride=(2, 2), padding=(1, 1), bias=False)\n",
            "      (bn1): BatchNorm2d(128, eps=1e-05, momentum=0.1, affine=True, track_running_stats=True)\n",
            "      (relu): ReLU(inplace=True)\n",
            "      (conv2): Conv2d(128, 128, kernel_size=(3, 3), stride=(1, 1), padding=(1, 1), bias=False)\n",
            "      (bn2): BatchNorm2d(128, eps=1e-05, momentum=0.1, affine=True, track_running_stats=True)\n",
            "      (downsample): Sequential(\n",
            "        (0): Conv2d(64, 128, kernel_size=(1, 1), stride=(2, 2), bias=False)\n",
            "        (1): BatchNorm2d(128, eps=1e-05, momentum=0.1, affine=True, track_running_stats=True)\n",
            "      )\n",
            "    )\n",
            "    (1): BasicBlock(\n",
            "      (conv1): Conv2d(128, 128, kernel_size=(3, 3), stride=(1, 1), padding=(1, 1), bias=False)\n",
            "      (bn1): BatchNorm2d(128, eps=1e-05, momentum=0.1, affine=True, track_running_stats=True)\n",
            "      (relu): ReLU(inplace=True)\n",
            "      (conv2): Conv2d(128, 128, kernel_size=(3, 3), stride=(1, 1), padding=(1, 1), bias=False)\n",
            "      (bn2): BatchNorm2d(128, eps=1e-05, momentum=0.1, affine=True, track_running_stats=True)\n",
            "    )\n",
            "  )\n",
            "  (6): Sequential(\n",
            "    (0): BasicBlock(\n",
            "      (conv1): Conv2d(128, 256, kernel_size=(3, 3), stride=(2, 2), padding=(1, 1), bias=False)\n",
            "      (bn1): BatchNorm2d(256, eps=1e-05, momentum=0.1, affine=True, track_running_stats=True)\n",
            "      (relu): ReLU(inplace=True)\n",
            "      (conv2): Conv2d(256, 256, kernel_size=(3, 3), stride=(1, 1), padding=(1, 1), bias=False)\n",
            "      (bn2): BatchNorm2d(256, eps=1e-05, momentum=0.1, affine=True, track_running_stats=True)\n",
            "      (downsample): Sequential(\n",
            "        (0): Conv2d(128, 256, kernel_size=(1, 1), stride=(2, 2), bias=False)\n",
            "        (1): BatchNorm2d(256, eps=1e-05, momentum=0.1, affine=True, track_running_stats=True)\n",
            "      )\n",
            "    )\n",
            "    (1): BasicBlock(\n",
            "      (conv1): Conv2d(256, 256, kernel_size=(3, 3), stride=(1, 1), padding=(1, 1), bias=False)\n",
            "      (bn1): BatchNorm2d(256, eps=1e-05, momentum=0.1, affine=True, track_running_stats=True)\n",
            "      (relu): ReLU(inplace=True)\n",
            "      (conv2): Conv2d(256, 256, kernel_size=(3, 3), stride=(1, 1), padding=(1, 1), bias=False)\n",
            "      (bn2): BatchNorm2d(256, eps=1e-05, momentum=0.1, affine=True, track_running_stats=True)\n",
            "    )\n",
            "  )\n",
            "  (7): Sequential(\n",
            "    (0): BasicBlock(\n",
            "      (conv1): Conv2d(256, 512, kernel_size=(3, 3), stride=(2, 2), padding=(1, 1), bias=False)\n",
            "      (bn1): BatchNorm2d(512, eps=1e-05, momentum=0.1, affine=True, track_running_stats=True)\n",
            "      (relu): ReLU(inplace=True)\n",
            "      (conv2): Conv2d(512, 512, kernel_size=(3, 3), stride=(1, 1), padding=(1, 1), bias=False)\n",
            "      (bn2): BatchNorm2d(512, eps=1e-05, momentum=0.1, affine=True, track_running_stats=True)\n",
            "      (downsample): Sequential(\n",
            "        (0): Conv2d(256, 512, kernel_size=(1, 1), stride=(2, 2), bias=False)\n",
            "        (1): BatchNorm2d(512, eps=1e-05, momentum=0.1, affine=True, track_running_stats=True)\n",
            "      )\n",
            "    )\n",
            "    (1): BasicBlock(\n",
            "      (conv1): Conv2d(512, 512, kernel_size=(3, 3), stride=(1, 1), padding=(1, 1), bias=False)\n",
            "      (bn1): BatchNorm2d(512, eps=1e-05, momentum=0.1, affine=True, track_running_stats=True)\n",
            "      (relu): ReLU(inplace=True)\n",
            "      (conv2): Conv2d(512, 512, kernel_size=(3, 3), stride=(1, 1), padding=(1, 1), bias=False)\n",
            "      (bn2): BatchNorm2d(512, eps=1e-05, momentum=0.1, affine=True, track_running_stats=True)\n",
            "    )\n",
            "  )\n",
            "  (8): AdaptiveAvgPool2d(output_size=(1, 1))\n",
            "  (9): Linear(in_features=512, out_features=1000, bias=True)\n",
            ")\n"
          ]
        }
      ]
    },
    {
      "cell_type": "code",
      "source": [
        "for model in partialImageNetModels:\n",
        "  for param in model.parameters():\n",
        "    param.requires_grad = False"
      ],
      "metadata": {
        "id": "v8vvVezMLOPv"
      },
      "execution_count": 3,
      "outputs": []
    },
    {
      "cell_type": "markdown",
      "source": [
        "The cell below shows how to change a parameter in a convolution layer"
      ],
      "metadata": {
        "id": "LjbOIDDxG3k9"
      }
    },
    {
      "cell_type": "code",
      "source": [
        "convLayer = torch.nn.Conv2d(2,3,4)\n",
        "print(convLayer.state_dict)\n",
        "for (i, param) in enumerate(convLayer.parameters()):\n",
        "  \n",
        "  param.requires_grad = False\n",
        "  print(param)\n",
        "\n",
        "  if i == 0:\n",
        "    print(param[0][0][0][0])\n",
        "    param[0][0][0][0] = 9999\n",
        "    print(param[0][0][0][0])\n",
        "    param.requires_grad = True\n",
        "    print(\"after changing a weight and resetting requires_grad = True\")\n",
        "    print(param)\n"
      ],
      "metadata": {
        "colab": {
          "base_uri": "https://localhost:8080/"
        },
        "id": "uRS2XEhy5tqC",
        "outputId": "f950cc8e-37e6-46a8-a11b-6eb4c3ca6088"
      },
      "execution_count": null,
      "outputs": [
        {
          "output_type": "stream",
          "name": "stdout",
          "text": [
            "<bound method Module.state_dict of Conv2d(2, 3, kernel_size=(4, 4), stride=(1, 1))>\n",
            "Parameter containing:\n",
            "tensor([[[[-0.1138, -0.1044,  0.1525, -0.1712],\n",
            "          [ 0.0103,  0.1033, -0.1671,  0.0125],\n",
            "          [ 0.0601,  0.0353,  0.0751, -0.0691],\n",
            "          [-0.1127, -0.0354,  0.1218, -0.0909]],\n",
            "\n",
            "         [[-0.0491,  0.0890, -0.0300,  0.1361],\n",
            "          [-0.0490,  0.0593, -0.1272, -0.0713],\n",
            "          [ 0.0541, -0.0329,  0.1210, -0.0791],\n",
            "          [ 0.1708, -0.0358,  0.1743, -0.0354]]],\n",
            "\n",
            "\n",
            "        [[[-0.0494, -0.0241,  0.0937,  0.0516],\n",
            "          [-0.0335, -0.1217,  0.0063,  0.1393],\n",
            "          [ 0.0134,  0.1295, -0.0998, -0.0077],\n",
            "          [-0.1034,  0.1477,  0.1242, -0.0204]],\n",
            "\n",
            "         [[-0.1014,  0.1084, -0.0279, -0.0648],\n",
            "          [-0.1219,  0.1225, -0.1576,  0.0109],\n",
            "          [-0.1324,  0.0216, -0.1759, -0.0285],\n",
            "          [-0.0882, -0.0245,  0.1535, -0.0441]]],\n",
            "\n",
            "\n",
            "        [[[-0.0106,  0.0719,  0.0983,  0.0281],\n",
            "          [ 0.1503,  0.1462,  0.1660,  0.1162],\n",
            "          [ 0.1702,  0.0198, -0.1088, -0.1572],\n",
            "          [-0.1536,  0.1213,  0.0307,  0.0203]],\n",
            "\n",
            "         [[ 0.1293,  0.1153,  0.1488, -0.0999],\n",
            "          [-0.0426, -0.0849,  0.0675, -0.1278],\n",
            "          [-0.1374,  0.1225, -0.0071, -0.0064],\n",
            "          [-0.0879, -0.1574, -0.0670, -0.0032]]]])\n",
            "tensor(-0.1138)\n",
            "tensor(9999.)\n",
            "after changing a weight and resetting requires_grad = True\n",
            "Parameter containing:\n",
            "tensor([[[[ 9.9990e+03, -1.0438e-01,  1.5248e-01, -1.7122e-01],\n",
            "          [ 1.0313e-02,  1.0326e-01, -1.6714e-01,  1.2460e-02],\n",
            "          [ 6.0133e-02,  3.5349e-02,  7.5137e-02, -6.9136e-02],\n",
            "          [-1.1273e-01, -3.5421e-02,  1.2183e-01, -9.0896e-02]],\n",
            "\n",
            "         [[-4.9144e-02,  8.9035e-02, -2.9998e-02,  1.3607e-01],\n",
            "          [-4.8984e-02,  5.9296e-02, -1.2716e-01, -7.1313e-02],\n",
            "          [ 5.4083e-02, -3.2912e-02,  1.2098e-01, -7.9128e-02],\n",
            "          [ 1.7076e-01, -3.5778e-02,  1.7429e-01, -3.5400e-02]]],\n",
            "\n",
            "\n",
            "        [[[-4.9413e-02, -2.4108e-02,  9.3695e-02,  5.1596e-02],\n",
            "          [-3.3471e-02, -1.2171e-01,  6.3310e-03,  1.3931e-01],\n",
            "          [ 1.3447e-02,  1.2955e-01, -9.9803e-02, -7.6866e-03],\n",
            "          [-1.0345e-01,  1.4766e-01,  1.2419e-01, -2.0364e-02]],\n",
            "\n",
            "         [[-1.0137e-01,  1.0836e-01, -2.7943e-02, -6.4772e-02],\n",
            "          [-1.2189e-01,  1.2251e-01, -1.5760e-01,  1.0934e-02],\n",
            "          [-1.3244e-01,  2.1616e-02, -1.7590e-01, -2.8531e-02],\n",
            "          [-8.8204e-02, -2.4496e-02,  1.5349e-01, -4.4082e-02]]],\n",
            "\n",
            "\n",
            "        [[[-1.0565e-02,  7.1934e-02,  9.8322e-02,  2.8117e-02],\n",
            "          [ 1.5027e-01,  1.4619e-01,  1.6596e-01,  1.1617e-01],\n",
            "          [ 1.7022e-01,  1.9810e-02, -1.0880e-01, -1.5716e-01],\n",
            "          [-1.5359e-01,  1.2125e-01,  3.0670e-02,  2.0265e-02]],\n",
            "\n",
            "         [[ 1.2933e-01,  1.1532e-01,  1.4876e-01, -9.9877e-02],\n",
            "          [-4.2630e-02, -8.4925e-02,  6.7539e-02, -1.2779e-01],\n",
            "          [-1.3745e-01,  1.2251e-01, -7.0926e-03, -6.3674e-03],\n",
            "          [-8.7905e-02, -1.5743e-01, -6.6966e-02, -3.1602e-03]]]],\n",
            "       requires_grad=True)\n",
            "Parameter containing:\n",
            "tensor([ 0.1246, -0.1169,  0.1660])\n"
          ]
        }
      ]
    },
    {
      "cell_type": "markdown",
      "source": [
        "In the cell below, we are going to try to create a new convolution layer N1 (that takes as input nC1 channels), from another one N2 (that takes as input nC2 channels); such that N1 copies the parameters from N2; and sets its kernel weights to 0 for (nC1 - nC2) incomming channels. This is the procedure that needs to be implemented when we replace a specific layer in the Simple Network (the one that takes as input the ImageNet network)"
      ],
      "metadata": {
        "id": "rKz864SZHhh7"
      }
    },
    {
      "cell_type": "code",
      "source": [
        "layerToReplace = torch.nn.Conv2d(2,3,4)\n",
        "newLayer = torch.nn.Conv2d(3,3,4)\n",
        "\n",
        "print(\"newLayer biases before change\")\n",
        "print(newLayer.state_dict()[\"bias\"])\n",
        "\n",
        "listOfParameters = []\n",
        "for param in newLayer.parameters():\n",
        "  param.requires_grad = False\n",
        "  listOfParameters.append(param)\n",
        "\n",
        "listOfParameters[0][:,:,:,:] = torch.zeros((3,3,4,4))\n",
        "listOfParameters[0][:,1:,:,:] = layerToReplace.state_dict()[\"weight\"]\n",
        "\n",
        "listOfParameters[1][:] = layerToReplace.state_dict()[\"bias\"]\n",
        "\n",
        "print(\"newLayer biases after change\")\n",
        "print(newLayer.state_dict()[\"bias\"])\n",
        "\n",
        "for param in newLayer.parameters():\n",
        "  param.requires_grad = True\n",
        "\n",
        "\n",
        "print(\"layerToReplace Biases\")\n",
        "print(layerToReplace.state_dict()[\"bias\"])"
      ],
      "metadata": {
        "colab": {
          "base_uri": "https://localhost:8080/"
        },
        "id": "goGML8FeHg0T",
        "outputId": "c00e520c-dcf9-404a-e17c-97eec7cec1c1"
      },
      "execution_count": 4,
      "outputs": [
        {
          "output_type": "stream",
          "name": "stdout",
          "text": [
            "newLayer biases before change\n",
            "tensor([-0.0081,  0.0698, -0.1301])\n",
            "newLayer biases after change\n",
            "tensor([ 0.0201, -0.0756, -0.1421])\n",
            "layerToReplace Biases\n",
            "tensor([ 0.0201, -0.0756, -0.1421])\n"
          ]
        }
      ]
    },
    {
      "cell_type": "markdown",
      "source": [
        "In the cell below we do the right concatenation of the output of the lower parts of the ImageNet network and the Simple Network"
      ],
      "metadata": {
        "id": "OzZTNeT7w1Cu"
      }
    },
    {
      "cell_type": "code",
      "source": [
        "outputFromLowerLayersOfImageNet = torch.rand((1,10,10))\n",
        "outputFromLowerLayersOfSimpleNetwork = torch.rand((2,10,10))\n",
        "\n",
        "#Below is the right order in which to do the concatenation:\n",
        "inputTensorToTheNewLayer = torch.cat([outputFromLowerLayersOfImageNet, outputFromLowerLayersOfSimpleNetwork])\n",
        "\n",
        "#Below is the wrong order in which to do the concatenation:\n",
        "#inputTensorToTheNewLayer = torch.cat([outputFromLowerLayersOfSimpleNetwork, outputFromLowerLayersOfImageNet])\n",
        "\n",
        "print(\"Output from intermediate network before the change\")\n",
        "print(layerToReplace(outputFromLowerLayersOfSimpleNetwork))\n",
        "\n",
        "print(\"Output from intermediate network after the change\")\n",
        "print(newLayer(inputTensorToTheNewLayer))\n",
        "\n"
      ],
      "metadata": {
        "colab": {
          "base_uri": "https://localhost:8080/"
        },
        "id": "uR7KDDitlsoU",
        "outputId": "0211adb1-3f6d-4523-8733-b43ca71d3afb"
      },
      "execution_count": null,
      "outputs": [
        {
          "output_type": "stream",
          "name": "stdout",
          "text": [
            "Output from intermediate network before the change\n",
            "tensor([[[-0.1154,  0.2177, -0.1201,  0.2269,  0.0644, -0.1625,  0.2312],\n",
            "         [ 0.1155, -0.2781, -0.2690,  0.0798, -0.2812, -0.1034, -0.1781],\n",
            "         [-0.1159, -0.1781, -0.0622, -0.1370, -0.1824, -0.0233, -0.1408],\n",
            "         [ 0.0865,  0.0282,  0.0849, -0.0512,  0.1036, -0.1275, -0.0855],\n",
            "         [-0.1711,  0.1151, -0.3047,  0.1598, -0.0197, -0.2013,  0.2158],\n",
            "         [-0.0241, -0.0924,  0.0967, -0.0339, -0.0683, -0.1232, -0.4850],\n",
            "         [ 0.0443, -0.1059, -0.0187, -0.1164, -0.3439, -0.0426, -0.2578]],\n",
            "\n",
            "        [[ 0.1554, -0.1286, -0.0681,  0.0878,  0.1427, -0.0650,  0.0046],\n",
            "         [ 0.0493, -0.0502,  0.3071,  0.0939,  0.0907,  0.2917,  0.0873],\n",
            "         [-0.0352,  0.2755,  0.2845, -0.0653,  0.4541,  0.0753,  0.0803],\n",
            "         [ 0.0062,  0.1752, -0.1503,  0.1408,  0.0853,  0.0457,  0.0719],\n",
            "         [-0.1084,  0.0674,  0.1488,  0.2202,  0.0028, -0.0031, -0.0589],\n",
            "         [ 0.2742, -0.0423,  0.0495,  0.1257, -0.0941,  0.0469,  0.0503],\n",
            "         [ 0.2357,  0.0028, -0.1038,  0.1354,  0.2181,  0.0465,  0.1648]],\n",
            "\n",
            "        [[ 0.4234,  0.0850,  0.1385,  0.4280,  0.1453,  0.4703,  0.3018],\n",
            "         [ 0.2980,  0.0012,  0.3120,  0.3239,  0.2863,  0.5122,  0.4817],\n",
            "         [ 0.2714,  0.3371,  0.1451,  0.4903,  0.3079,  0.6048,  0.2555],\n",
            "         [ 0.4609,  0.3739,  0.1350,  0.6346,  0.1627,  0.7401,  0.3029],\n",
            "         [ 0.4625,  0.1427,  0.5035,  0.7602,  0.3544,  0.6009,  0.1040],\n",
            "         [ 0.6085,  0.1086,  0.4678,  0.3954,  0.3136,  0.2710,  0.0209],\n",
            "         [ 0.4396,  0.3936,  0.2699,  0.2703,  0.5267,  0.1054,  0.3037]]],\n",
            "       grad_fn=<SqueezeBackward1>)\n",
            "Output from intermediate network after the change\n",
            "tensor([[[-0.1154,  0.2177, -0.1201,  0.2269,  0.0644, -0.1625,  0.2312],\n",
            "         [ 0.1155, -0.2781, -0.2690,  0.0798, -0.2812, -0.1034, -0.1781],\n",
            "         [-0.1159, -0.1781, -0.0622, -0.1370, -0.1824, -0.0233, -0.1408],\n",
            "         [ 0.0865,  0.0282,  0.0849, -0.0512,  0.1036, -0.1275, -0.0855],\n",
            "         [-0.1711,  0.1151, -0.3047,  0.1598, -0.0197, -0.2013,  0.2158],\n",
            "         [-0.0241, -0.0924,  0.0967, -0.0339, -0.0683, -0.1232, -0.4850],\n",
            "         [ 0.0443, -0.1059, -0.0187, -0.1164, -0.3439, -0.0426, -0.2578]],\n",
            "\n",
            "        [[ 0.1554, -0.1286, -0.0681,  0.0878,  0.1427, -0.0650,  0.0046],\n",
            "         [ 0.0493, -0.0502,  0.3071,  0.0939,  0.0907,  0.2917,  0.0873],\n",
            "         [-0.0352,  0.2755,  0.2845, -0.0653,  0.4541,  0.0753,  0.0803],\n",
            "         [ 0.0062,  0.1752, -0.1503,  0.1408,  0.0853,  0.0457,  0.0719],\n",
            "         [-0.1084,  0.0674,  0.1488,  0.2202,  0.0028, -0.0031, -0.0589],\n",
            "         [ 0.2742, -0.0423,  0.0495,  0.1257, -0.0941,  0.0469,  0.0503],\n",
            "         [ 0.2357,  0.0028, -0.1038,  0.1354,  0.2181,  0.0465,  0.1648]],\n",
            "\n",
            "        [[ 0.4234,  0.0850,  0.1385,  0.4280,  0.1453,  0.4703,  0.3018],\n",
            "         [ 0.2980,  0.0012,  0.3120,  0.3239,  0.2863,  0.5122,  0.4817],\n",
            "         [ 0.2714,  0.3371,  0.1451,  0.4903,  0.3079,  0.6048,  0.2555],\n",
            "         [ 0.4609,  0.3739,  0.1350,  0.6346,  0.1627,  0.7401,  0.3029],\n",
            "         [ 0.4625,  0.1427,  0.5035,  0.7602,  0.3544,  0.6009,  0.1040],\n",
            "         [ 0.6085,  0.1086,  0.4678,  0.3954,  0.3136,  0.2710,  0.0209],\n",
            "         [ 0.4396,  0.3936,  0.2699,  0.2703,  0.5267,  0.1054,  0.3037]]],\n",
            "       grad_fn=<SqueezeBackward1>)\n"
          ]
        }
      ]
    },
    {
      "cell_type": "code",
      "source": [
        "def outputSizeOfLowerLayers(lowerLayers, testImage):\n",
        "    return lowerLayers(testImage).size()\n",
        "\n",
        "class MergedNetwork(torch.nn.Module):\n",
        "\n",
        "    def __init__(self, lowerLayersOfImageNet, lowerLayersOfSimpleModel, upperLayersOfSimpleModel, layerOfSimpleModelToBeReplaced, specificationsOfLayerToBeReplaced, batchSize):\n",
        "        super(MergedNetwork, self).__init__()\n",
        "        self.lowerLayersOfImageNet = lowerLayersOfImageNet\n",
        "        self.lowerLayersOfSimpleModel = lowerLayersOfSimpleModel\n",
        "        self.upperLayersOfSimpleModel = upperLayersOfSimpleModel\n",
        "\n",
        "        #Cifar10 Images are 32 by 32 with 3 channels (I think (the color channels))\n",
        "        self.outputSizeValuesOfLowerLayersOfSimpleModel = outputSizeOfLowerLayers(lowerLayersOfSimpleModel, torch.zeros((batchSize,3,32,32)))\n",
        "\n",
        "\n",
        "        #the ImageNet network is ResNet18 which takes as input 224 by 244 images with 3 channels\n",
        "        self.outputSizeValuesOfLowerLayersOfImageNetModel = outputSizeOfLowerLayers(lowerLayersOfImageNet, torch.zeros((batchSize,3,224,224)))\n",
        "        \n",
        "        #In the following, the index value of (1) should be the number of channels.\n",
        "        numberOfOutputChannelsOfLowerLayersOfImageNetModel = self.outputSizeValuesOfLowerLayersOfImageNetModel[1]\n",
        "        self.numberOfInputChannelsInNewMergingLayer = self.outputSizeValuesOfLowerLayersOfSimpleModel[1] + numberOfOutputChannelsOfLowerLayersOfImageNetModel\n",
        "\n",
        "        ###########################################################################################\n",
        "        #We construct below the new convolution layer\n",
        "        outNumberOfChannels = specificationsOfLayerToBeReplaced[\"outChannels\"]\n",
        "        kernelSize = specificationsOfLayerToBeReplaced[\"kernelSize\"]\n",
        "        padding = specificationsOfLayerToBeReplaced[\"padding\"]\n",
        "        self.newConvolutionLayer = torch.nn.Conv2d(self.numberOfInputChannelsInNewMergingLayer, outNumberOfChannels, kernelSize, padding = padding)\n",
        "\n",
        "        listOfParameters = []\n",
        "        for param in self.newConvolutionLayer.parameters():\n",
        "          param.requires_grad = False\n",
        "          listOfParameters.append(param)\n",
        "\n",
        "        listOfParameters[0][:,:,:,:] = torch.zeros((outNumberOfChannels, self.numberOfInputChannelsInNewMergingLayer, kernelSize, kernelSize))\n",
        "        listOfParameters[0][:, numberOfOutputChannelsOfLowerLayersOfImageNetModel:,:,:] = layerOfSimpleModelToBeReplaced.state_dict()[\"weight\"]\n",
        "        listOfParameters[1][:] = layerOfSimpleModelToBeReplaced.state_dict()[\"bias\"]\n",
        "\n",
        "        for param in self.newConvolutionLayer.parameters():\n",
        "          param.requires_grad = True\n",
        "\n",
        "        ###########################################################################################\n",
        "        #Becareful here! We don't want to interpolate in the channel dimension!\n",
        "        targetFeatureMapWidth = self.outputSizeValuesOfLowerLayersOfSimpleModel[2]\n",
        "        targetFeatureMapHeight = self.outputSizeValuesOfLowerLayersOfSimpleModel[3]\n",
        "        self.targetShapeOfImageNetOutput = (targetFeatureMapWidth, targetFeatureMapHeight)\n",
        "\n",
        "\n",
        "    def forward(self, x):\n",
        "        #The ImageNet model (ResNet18) takes as input 224 by 224 images (with 3 channels).\n",
        "        #Cifar10 Images are 32 by 32 and are color images, so have 3 channels (I think).\n",
        "        inputToImageNet = F.interpolate(x, size = (224, 224))\n",
        "        lowerLayersImageNetOutput = self.lowerLayersOfImageNet(inputToImageNet)\n",
        "\n",
        "        #Becareful here! We don't want to interpolate in the channel dimension!\n",
        "        lowerLayersImageNetOutput = F.interpolate(lowerLayersImageNetOutput, size = self.targetShapeOfImageNetOutput, mode = \"bilinear\")\n",
        "\n",
        "        lowerLayersSimpleModelOutput = self.lowerLayersOfSimpleModel(x)\n",
        "\n",
        "        #Below is the right order in which to do the concatenation:\n",
        "        inputTensorToTheNewLayer = torch.cat([lowerLayersImageNetOutput, lowerLayersSimpleModelOutput], dim = 1)\n",
        "\n",
        "        outputOfNewLayer = self.newConvolutionLayer(inputTensorToTheNewLayer)\n",
        "\n",
        "        return self.upperLayersOfSimpleModel(outputOfNewLayer)"
      ],
      "metadata": {
        "id": "XgkDtBB4Nh1m"
      },
      "execution_count": 5,
      "outputs": []
    },
    {
      "cell_type": "code",
      "source": [
        "transform = transforms.Compose(\n",
        "    [transforms.ToTensor(),\n",
        "     transforms.Normalize((0.5, 0.5, 0.5), (0.5, 0.5, 0.5))])\n",
        "\n",
        "batch_size = 4\n",
        "\n",
        "trainset = torchvision.datasets.CIFAR10(root='./data', train=True,\n",
        "                                        download=True, transform=transform)\n",
        "trainloader = torch.utils.data.DataLoader(trainset, batch_size=batch_size,\n",
        "                                          shuffle=True, num_workers=2)\n",
        "\n",
        "testset = torchvision.datasets.CIFAR10(root='./data', train=False,\n",
        "                                       download=True, transform=transform)\n",
        "testloader = torch.utils.data.DataLoader(testset, batch_size=batch_size,\n",
        "                                         shuffle=False, num_workers=2)\n",
        "\n",
        "classes = ('plane', 'car', 'bird', 'cat',\n",
        "           'deer', 'dog', 'frog', 'horse', 'ship', 'truck')"
      ],
      "metadata": {
        "colab": {
          "base_uri": "https://localhost:8080/",
          "height": 101,
          "referenced_widgets": [
            "bfa167f057ec42e6b039e2cb873fb8ae",
            "15dd8241200c47849b5a2db09706eb15",
            "22de00a964c244b8a072ba845fdf8f1a",
            "0894bda3c15b43d9b5f42f412e188173",
            "5741d27fc9ce4468a3359915999f445a",
            "2399336dda064056b05c7585af5ae074",
            "db8734724eb0465098c9eed48d76e396",
            "bb6ab3d28fd3432fb91f725245e37b8f",
            "535f1b943b85443191e5a06780ad33bb",
            "eb29d4843fc6453b92ea4357f3c60de7",
            "9b7ab810a0514a9197a3488a4febb9ab"
          ]
        },
        "id": "f1Y1ou1e0MGn",
        "outputId": "c35adccc-65a1-46fe-bfcc-afc5b00bf0f2"
      },
      "execution_count": 6,
      "outputs": [
        {
          "output_type": "stream",
          "name": "stdout",
          "text": [
            "Downloading https://www.cs.toronto.edu/~kriz/cifar-10-python.tar.gz to ./data/cifar-10-python.tar.gz\n"
          ]
        },
        {
          "output_type": "display_data",
          "data": {
            "text/plain": [
              "  0%|          | 0/170498071 [00:00<?, ?it/s]"
            ],
            "application/vnd.jupyter.widget-view+json": {
              "version_major": 2,
              "version_minor": 0,
              "model_id": "bfa167f057ec42e6b039e2cb873fb8ae"
            }
          },
          "metadata": {}
        },
        {
          "output_type": "stream",
          "name": "stdout",
          "text": [
            "Extracting ./data/cifar-10-python.tar.gz to ./data\n",
            "Files already downloaded and verified\n"
          ]
        }
      ]
    },
    {
      "cell_type": "code",
      "source": [
        "import matplotlib.pyplot as plt\n",
        "import numpy as np\n",
        "\n",
        "# functions to show an image\n",
        "\n",
        "\n",
        "def imshow(img):\n",
        "    img = img / 2 + 0.5     # unnormalize\n",
        "    npimg = img.numpy()\n",
        "    plt.imshow(np.transpose(npimg, (1, 2, 0)))\n",
        "    plt.show()\n",
        "\n",
        "\n",
        "# get some random training images\n",
        "dataiter = iter(trainloader)\n",
        "images, labels = next(dataiter)\n",
        "\n",
        "# show images\n",
        "imshow(torchvision.utils.make_grid(images))\n",
        "# print labels\n",
        "print(' '.join(f'{classes[labels[j]]:5s}' for j in range(batch_size)))"
      ],
      "metadata": {
        "colab": {
          "base_uri": "https://localhost:8080/",
          "height": 210
        },
        "id": "XCb6ibZd0QXw",
        "outputId": "8c9ebfe5-8b6e-4792-dc60-44031af83778"
      },
      "execution_count": 7,
      "outputs": [
        {
          "output_type": "display_data",
          "data": {
            "text/plain": [
              "<Figure size 640x480 with 1 Axes>"
            ],
            "image/png": "[encoded data removed]"
          },
          "metadata": {}
        },
        {
          "output_type": "stream",
          "name": "stdout",
          "text": [
            "dog   car   dog   truck\n"
          ]
        }
      ]
    },
    {
      "cell_type": "markdown",
      "source": [
        "Take the model from: https://github.com/Xinyi6/CIFAR10-CNN-by-Keras/blob/master/lic/model2_3.ipynb\n",
        "\n",
        "\n",
        "model = Sequential()\n",
        "model.add(Conv2D(32, (3, 3), padding='same', input_shape=x_train.shape[1:]))\n",
        "model.add(Activation('relu'))\n",
        "model.add(MaxPooling2D(pool_size=(2, 2)))\n",
        "model.add(Dropout(0.3))\n",
        "\n",
        "model.add(Conv2D(64, (3, 3), padding='same', input_shape=x_train.shape[1:]))\n",
        "model.add(Activation('relu'))\n",
        "model.add(MaxPooling2D(pool_size=(2, 2)))\n",
        "model.add(Dropout(0.3))\n",
        "\n",
        "model.add(Conv2D(128, (3, 3), padding='same', input_shape=x_train.shape[1:]))\n",
        "model.add(Activation('relu'))\n",
        "model.add(MaxPooling2D(pool_size=(2, 2)))\n",
        "model.add(Dropout(0.4))\n",
        "\n",
        "model.add(Conv2D(256, (3, 3), padding='same', input_shape=x_train.shape[1:]))\n",
        "model.add(Activation('relu'))\n",
        "model.add(MaxPooling2D(pool_size=(2, 2)))\n",
        "model.add(Dropout(0.4))\n",
        "\n",
        "model.add(Conv2D(512, (3, 3), padding='same', input_shape=x_train.shape[1:]))\n",
        "model.add(Activation('relu'))\n",
        "model.add(MaxPooling2D(pool_size=(2, 2)))\n",
        "model.add(Dropout(0.4))\n",
        "\n",
        "model.add(Flatten())\n",
        "model.add(Dense(80))\n",
        "model.add(Activation('relu'))\n",
        "model.add(Dropout(0.3))\n",
        "model.add(Dense(num_classes))\n",
        "model.add(Activation('softmax'))\n",
        "\n",
        "I think the \"Dense\" layer in Tensorflow is just a linear layer. The parameter of the \"Dense\" layer is the \"out_features\" parameter of the linear layer in PyTorch. In TensorFlow, you don't need to specify the dimension of the input in a linear layer. You also don't need to specify the number of channels in a convolution layer. In either cases, they are implicitly specified by the previous layer."
      ],
      "metadata": {
        "id": "N7vnYjFWGwST"
      }
    },
    {
      "cell_type": "markdown",
      "source": [],
      "metadata": {
        "id": "TvIuHEPKqndy"
      }
    },
    {
      "cell_type": "markdown",
      "source": [
        "HI SAYAK!!! BELOW IS THE DEFINITION OF THE CIFAR10 NETWORK (THAT IS TRAINED ON THE CIFAR10 DATASET)################################################################################################################################################################# ((simpleModel) is the cifar10 network)"
      ],
      "metadata": {
        "id": "msU7L22zs5QB"
      }
    },
    {
      "cell_type": "code",
      "source": [
        "#Below is the __init__ method written such that the .module() method returns the layers in the right order; as to recreate what is spelled out by the forward method\n",
        "\n",
        "import torch.nn as nn\n",
        "import torch.nn.functional as F\n",
        "\n",
        "\n",
        "class Net(nn.Module):\n",
        "    def __init__(self):\n",
        "        super().__init__()\n",
        "\n",
        "        self.conv1 = nn.Conv2d(3, 32, 3, padding = \"same\")\n",
        "        self.relu1 = F.relu\n",
        "        self.pool1 = nn.MaxPool2d(2, 2)\n",
        "        self.dropout1 = nn.Dropout(p = 0.3)\n",
        "\n",
        "        self.conv2 = nn.Conv2d(32, 64, 3, padding = \"same\")\n",
        "        self.relu2 = F.relu\n",
        "        self.pool2 = nn.MaxPool2d(2, 2)\n",
        "        self.dropout2 = nn.Dropout(p = 0.3)\n",
        "\n",
        "        self.conv3 = nn.Conv2d(64, 128, 3, padding = \"same\")\n",
        "        self.relu3 = F.relu\n",
        "        self.pool3 = nn.MaxPool2d(2, 2)\n",
        "        self.dropout3 = nn.Dropout(p = 0.4)\n",
        "\n",
        "        self.conv4 = nn.Conv2d(128, 256, 3, padding = \"same\")\n",
        "        self.relu4 = F.relu\n",
        "        self.pool4 = nn.MaxPool2d(2, 2)\n",
        "        self.dropout4 = nn.Dropout(p = 0.4)\n",
        "\n",
        "\n",
        "        self.conv5 = nn.Conv2d(256, 512, 3, padding = \"same\")\n",
        "        self.relu5 = F.relu\n",
        "        self.pool5 = nn.MaxPool2d(2, 2)\n",
        "        self.dropout5 = nn.Dropout(p = 0.4)\n",
        "\n",
        "        self.flatten = nn.Flatten()\n",
        "\n",
        "        self.linear1 = nn.Linear(512, 80)\n",
        "        self.relu6 = F.relu\n",
        "        self.dropout6 = nn.Dropout(p = 0.3)\n",
        "\n",
        "        self.linear2 = nn.Linear(80, 20)\n",
        "\n",
        "    def forward(self, x):\n",
        "\n",
        "        x = self.conv1(x)\n",
        "        x = self.relu1(x)\n",
        "        x = self.pool1(x)\n",
        "        x = self.dropout1(x)\n",
        "\n",
        "        x = self.conv2(x)\n",
        "        x = self.relu2(x)\n",
        "        x = self.pool2(x)\n",
        "        x = self.dropout2(x)\n",
        "\n",
        "        x = self.conv3(x)\n",
        "        x = self.relu3(x)\n",
        "        x = self.pool3(x)\n",
        "        x = self.dropout3(x)\n",
        "\n",
        "        x = self.conv4(x)\n",
        "        x = self.relu4(x)\n",
        "        x = self.pool4(x)\n",
        "        x = self.dropout4(x)\n",
        "\n",
        "        x = self.conv5(x)\n",
        "        x = self.relu5(x)\n",
        "        x = self.pool5(x)\n",
        "        x = self.dropout5(x)\n",
        "\n",
        "        x = self.flatten(x)\n",
        "\n",
        "        x = self.linear1(x)\n",
        "        x = self.relu6(x)\n",
        "        x = self.dropout6(x)\n",
        "\n",
        "        x = self.linear2(x)\n",
        "        \n",
        "        return x\n",
        "\n",
        "\n",
        "simpleModel = Net()"
      ],
      "metadata": {
        "id": "-nNBQRgdbjOS"
      },
      "execution_count": 8,
      "outputs": []
    },
    {
      "cell_type": "code",
      "source": [
        "import torch.optim as optim\n",
        "\n",
        "criterion = nn.CrossEntropyLoss()\n",
        "optimizer = optim.SGD(simpleModel.parameters(), lr=0.001, momentum=0.9)"
      ],
      "metadata": {
        "id": "z61NTi9n0aHX"
      },
      "execution_count": 9,
      "outputs": []
    },
    {
      "cell_type": "code",
      "source": [
        "for epoch in range(2):  # loop over the dataset multiple times\n",
        "\n",
        "    running_loss = 0.0\n",
        "    for i, data in enumerate(trainloader, 0):\n",
        "        # get the inputs; data is a list of [inputs, labels]\n",
        "        inputs, labels = data\n",
        "\n",
        "        # zero the parameter gradients\n",
        "        optimizer.zero_grad()\n",
        "\n",
        "        # forward + backward + optimize\n",
        "        outputs = simpleModel(inputs)\n",
        "        loss = criterion(outputs, labels)\n",
        "        loss.backward()\n",
        "        optimizer.step()\n",
        "\n",
        "        # print statistics\n",
        "        running_loss += loss.item()\n",
        "        if i % 2000 == 1999:    # print every 2000 mini-batches\n",
        "            print(f'[{epoch + 1}, {i + 1:5d}] loss: {running_loss / 2000:.3f}')\n",
        "            running_loss = 0.0\n",
        "\n",
        "print('Finished Training')"
      ],
      "metadata": {
        "colab": {
          "base_uri": "https://localhost:8080/"
        },
        "id": "fZ_xMqF70cjQ",
        "outputId": "78705d9c-6b2a-42f8-9a47-c13550c11fbc"
      },
      "execution_count": 10,
      "outputs": [
        {
          "output_type": "stream",
          "name": "stdout",
          "text": [
            "[1,  2000] loss: 2.440\n",
            "[1,  4000] loss: 2.324\n",
            "[1,  6000] loss: 2.160\n",
            "[1,  8000] loss: 1.988\n",
            "[1, 10000] loss: 1.919\n",
            "[1, 12000] loss: 1.849\n",
            "[2,  2000] loss: 1.769\n",
            "[2,  4000] loss: 1.697\n",
            "[2,  6000] loss: 1.674\n",
            "[2,  8000] loss: 1.606\n",
            "[2, 10000] loss: 1.581\n",
            "[2, 12000] loss: 1.559\n",
            "Finished Training\n"
          ]
        }
      ]
    },
    {
      "cell_type": "code",
      "source": [
        "correct = 0\n",
        "total = 0\n",
        "# since we're not training, we don't need to calculate the gradients for our outputs\n",
        "with torch.no_grad():\n",
        "    for data in testloader:\n",
        "        images, labels = data\n",
        "        # calculate outputs by running images through the network\n",
        "        outputs = simpleModel(images)\n",
        "        # the class with the highest energy is what we choose as prediction\n",
        "        _, predicted = torch.max(outputs.data, 1)\n",
        "        total += labels.size(0)\n",
        "        correct += (predicted == labels).sum().item()\n",
        "\n",
        "print(f'Accuracy of the network on the 10000 test images: {100 * correct // total} %')"
      ],
      "metadata": {
        "colab": {
          "base_uri": "https://localhost:8080/"
        },
        "id": "czXSrzaK-A0M",
        "outputId": "6a818cb6-20e8-4cd0-bb39-eb6a4f69b32d"
      },
      "execution_count": null,
      "outputs": [
        {
          "output_type": "stream",
          "name": "stdout",
          "text": [
            "Accuracy of the network on the 10000 test images: 42 %\n"
          ]
        }
      ]
    },
    {
      "cell_type": "code",
      "source": [
        "correct = 0\n",
        "total = 0\n",
        "# since we're not training, we don't need to calculate the gradients for our outputs\n",
        "with torch.no_grad():\n",
        "    for data in testloader:\n",
        "        images, labels = data\n",
        "        # calculate outputs by running images through the network\n",
        "        outputs = reconstructedSimpleModel(images)\n",
        "        # the class with the highest energy is what we choose as prediction\n",
        "        _, predicted = torch.max(outputs.data, 1)\n",
        "        total += labels.size(0)\n",
        "        correct += (predicted == labels).sum().item()\n",
        "\n",
        "print(f'Accuracy of the network on the 10000 test images: {100 * correct // total} %')"
      ],
      "metadata": {
        "colab": {
          "base_uri": "https://localhost:8080/"
        },
        "id": "-yyWh87f-6zS",
        "outputId": "d934070e-139c-4e95-813b-1bc2fd95ae1c"
      },
      "execution_count": null,
      "outputs": [
        {
          "output_type": "stream",
          "name": "stdout",
          "text": [
            "Accuracy of the network on the 10000 test images: 44 %\n"
          ]
        }
      ]
    },
    {
      "cell_type": "markdown",
      "source": [
        "The reconstruction of the simpleModel as done below gives the same accuracy as the original model. So the reconstruction is really done right; you really need to add the ReLU activation functions by hand between the Conv2d layers and the Linear layers."
      ],
      "metadata": {
        "id": "mwhhBqLwDBgD"
      }
    },
    {
      "cell_type": "code",
      "source": [
        "\n",
        "\n",
        "numberOfChildren = len(list(simpleModel.children()))\n",
        "listOfChildren = []\n",
        "for (i, child) in enumerate(simpleModel.children()):\n",
        "  #print(i)\n",
        "  listOfChildren.append(child)\n",
        "  if((isinstance(child, nn.Conv2d) or isinstance(child, nn.Linear)) and (i < numberOfChildren - 1)):\n",
        "    listOfChildren.append(nn.ReLU())\n",
        "print(listOfChildren)\n",
        "reconstructedSimpleModel = torch.nn.Sequential(*listOfChildren)\n",
        "\n",
        "\n",
        "# for (children1, children2) in zip(simpleModel.children(), reconstructedSimpleModel.children()):\n",
        "#   for (param1, param2) in zip(children1.parameters(), children2.parameters()):\n",
        "#     print(torch.all(torch.eq(param1, param2)))\n",
        "\n",
        "# print(\"Some parameters of the last layer of simpleModel\")\n",
        "# for param1 in params1:\n",
        "#   print(param1)\n",
        "# print(\"Some parameters of the last layer of the reconstruction of simpleModel\")\n",
        "# for param2 in params2:\n",
        "#   print(param2)"
      ],
      "metadata": {
        "colab": {
          "base_uri": "https://localhost:8080/"
        },
        "id": "NN475HcZ82Mj",
        "outputId": "7724da3e-9adb-4e3a-e895-ecbec44ed771"
      },
      "execution_count": null,
      "outputs": [
        {
          "output_type": "stream",
          "name": "stdout",
          "text": [
            "[Conv2d(3, 32, kernel_size=(3, 3), stride=(1, 1), padding=same), ReLU(), MaxPool2d(kernel_size=2, stride=2, padding=0, dilation=1, ceil_mode=False), Dropout(p=0.3, inplace=False), Conv2d(32, 64, kernel_size=(3, 3), stride=(1, 1), padding=same), ReLU(), MaxPool2d(kernel_size=2, stride=2, padding=0, dilation=1, ceil_mode=False), Dropout(p=0.3, inplace=False), Conv2d(64, 128, kernel_size=(3, 3), stride=(1, 1), padding=same), ReLU(), MaxPool2d(kernel_size=2, stride=2, padding=0, dilation=1, ceil_mode=False), Dropout(p=0.4, inplace=False), Conv2d(128, 256, kernel_size=(3, 3), stride=(1, 1), padding=same), ReLU(), MaxPool2d(kernel_size=2, stride=2, padding=0, dilation=1, ceil_mode=False), Dropout(p=0.4, inplace=False), Conv2d(256, 512, kernel_size=(3, 3), stride=(1, 1), padding=same), ReLU(), MaxPool2d(kernel_size=2, stride=2, padding=0, dilation=1, ceil_mode=False), Dropout(p=0.4, inplace=False), Flatten(start_dim=1, end_dim=-1), Linear(in_features=512, out_features=80, bias=True), ReLU(), Dropout(p=0.3, inplace=False), Linear(in_features=80, out_features=20, bias=True)]\n"
          ]
        }
      ]
    },
    {
      "cell_type": "markdown",
      "source": [
        "The ReLU activation functions get discarded in the reconstruction of the simpleModel network (I think). As the code above shows, all values of the parameters are equal. The ReLU activation functions are not part of the children of the network, so they don't get transfered to the reconstruction of simpleModel. This is why I was getting results that showed values of a different order of magnitude (about may be 10 times), when passing a tensor, to the reconstructed network and the original network."
      ],
      "metadata": {
        "id": "1j07G8UZ2STo"
      }
    },
    {
      "cell_type": "code",
      "source": [
        "\n",
        "\n",
        "inputTensor = torch.ones((4,3,32,32))\n",
        "\n",
        "print(simpleModel(inputTensor))\n",
        "print(inputTensor.size())\n",
        "print(reconstructedSimpleModel(inputTensor))\n"
      ],
      "metadata": {
        "colab": {
          "base_uri": "https://localhost:8080/"
        },
        "id": "eONyO1h8AxLP",
        "outputId": "a38a384d-ac26-46f5-e44f-4a15ba319027"
      },
      "execution_count": null,
      "outputs": [
        {
          "output_type": "stream",
          "name": "stdout",
          "text": [
            "tensor([[ 4.5820,  0.4644,  3.1070,  0.8278,  2.1320,  0.5174,  0.5390,  0.8805,\n",
            "          4.5138,  1.1418, -2.2141, -1.8552, -1.5743, -1.9809, -2.3326, -2.0321,\n",
            "         -2.1287, -1.9607, -2.1834, -2.2320],\n",
            "        [ 4.8618,  1.6431,  3.6598,  1.2052,  2.0208,  0.1352,  1.0238,  0.2552,\n",
            "          5.6455,  1.9371, -2.3522, -2.3489, -1.9945, -2.8763, -2.1203, -2.5912,\n",
            "         -2.4761, -2.4975, -2.6342, -2.3030],\n",
            "        [ 5.1173,  2.0956,  4.1487,  2.2261,  2.3065,  1.0937,  2.0035,  0.1702,\n",
            "          6.7570,  2.0406, -2.8460, -3.0535, -2.5528, -3.3604, -2.6004, -3.2474,\n",
            "         -3.2761, -3.2111, -3.0593, -2.7875],\n",
            "        [ 5.2180, -0.7999,  4.6917,  2.5948,  3.3590,  2.4468,  1.2543,  1.8520,\n",
            "          4.2601, -0.6171, -2.4455, -2.6407, -2.1782, -2.6511, -2.3869, -2.5555,\n",
            "         -3.1032, -2.8170, -2.7282, -2.3243]], grad_fn=<AddmmBackward0>)\n",
            "torch.Size([4, 3, 32, 32])\n",
            "tensor([[ 3.8858,  0.8876,  3.7844,  2.3139,  2.2045,  1.5083,  1.3330,  1.0247,\n",
            "          4.4412,  1.1955, -2.3061, -2.2128, -2.1932, -2.4461, -2.4187, -2.6474,\n",
            "         -2.4903, -2.6022, -2.4424, -2.4517],\n",
            "        [ 5.4574,  0.3144,  4.7604,  2.3765,  3.1603,  1.7859,  1.4991,  1.7139,\n",
            "          5.2878,  0.6804, -2.7898, -2.7072, -2.7128, -3.0266, -2.8957, -2.8765,\n",
            "         -3.2627, -3.2099, -3.0333, -2.6331],\n",
            "        [ 4.3634, -1.0052,  3.6321,  0.6080,  2.1285,  0.1647,  0.8720, -0.1901,\n",
            "          4.7901, -0.7921, -1.4609, -1.9139, -1.0237, -1.8162, -1.5805, -1.6101,\n",
            "         -2.0096, -1.5721, -1.7431, -1.5231],\n",
            "        [ 3.5596, -0.6632,  3.5601,  2.0688,  2.4179,  1.4165,  1.3628,  1.6516,\n",
            "          3.2676, -0.2739, -1.7160, -1.7577, -2.2682, -2.2990, -2.3682, -2.1692,\n",
            "         -2.2472, -2.4695, -2.5366, -1.6824]], grad_fn=<AddmmBackward0>)\n"
          ]
        }
      ]
    },
    {
      "cell_type": "markdown",
      "source": [
        "Below we are going to select lower parts and upper parts and the layers to be replaced of the simpleModel network"
      ],
      "metadata": {
        "id": "M6rIyTJ6LEhe"
      }
    },
    {
      "cell_type": "code",
      "source": [
        "numberOfChildren = len(list(simpleModel.children()))\n",
        "\n",
        "partsOfSimpleModellist = []\n",
        "\n",
        "\n",
        "for layerToBeReplacedNumber in range(1,5):\n",
        "\n",
        "  lowerLayers = []\n",
        "  upperLayers = []\n",
        "  \n",
        "  skipChild = False\n",
        "  convolutionLayerNumberOrPlusOne = 0\n",
        "  for (childNumber, child) in enumerate(simpleModel.children()):\n",
        "\n",
        "    if(isinstance(child, nn.Conv2d) and (childNumber > 0)):\n",
        "      convolutionLayerNumberOrPlusOne = convolutionLayerNumberOrPlusOne + 1\n",
        "\n",
        "      if(convolutionLayerNumberOrPlusOne == layerToBeReplacedNumber):\n",
        "        layerToBeReplaced = child\n",
        "        skipChild = True\n",
        "        convolutionLayerNumberOrPlusOne = convolutionLayerNumberOrPlusOne + 1\n",
        "\n",
        "    if(convolutionLayerNumberOrPlusOne > layerToBeReplacedNumber):\n",
        "      \n",
        "      if(skipChild == False):\n",
        "        upperLayers.append(child)\n",
        "\n",
        "      if((isinstance(child, nn.Conv2d) or isinstance(child, nn.Linear)) and (childNumber < numberOfChildren - 1)):\n",
        "        upperLayers.append(nn.ReLU())\n",
        "\n",
        "    elif((convolutionLayerNumberOrPlusOne < layerToBeReplacedNumber) and (skipChild == False)):\n",
        "      lowerLayers.append(child)\n",
        "\n",
        "      if((isinstance(child, nn.Conv2d) or isinstance(child, nn.Linear)) and (childNumber < numberOfChildren - 1)):\n",
        "        lowerLayers.append(nn.ReLU())\n",
        "\n",
        "    skipChild = False\n",
        "    \n",
        "    \n",
        "\n",
        "  partsOfSimpleModellist.append({})\n",
        "  partsOfSimpleModellist[layerToBeReplacedNumber - 1][\"Lower Layers\"] = torch.nn.Sequential(*lowerLayers)\n",
        "  partsOfSimpleModellist[layerToBeReplacedNumber - 1][\"Upper Layers\"] = torch.nn.Sequential(*upperLayers)\n",
        "  partsOfSimpleModellist[layerToBeReplacedNumber - 1][\"Layer to be replaced\"] = layerToBeReplaced\n",
        "\n",
        "print(simpleModel)\n",
        "print(partsOfSimpleModellist[2][\"Lower Layers\"])\n",
        "print(partsOfSimpleModellist[2][\"Upper Layers\"])\n",
        "print(partsOfSimpleModellist[2][\"Layer to be replaced\"])\n",
        "\n",
        "for partsOfSimpleModelIndex in range(4):\n",
        "  for child in partsOfSimpleModellist[partsOfSimpleModelIndex][\"Lower Layers\"]:\n",
        "    for param in child.parameters():\n",
        "      param.requires_grad = False\n",
        "\n",
        "  for child in partsOfSimpleModellist[partsOfSimpleModelIndex][\"Upper Layers\"]:\n",
        "    for param in child.parameters():\n",
        "      param.requires_grad = False"
      ],
      "metadata": {
        "colab": {
          "base_uri": "https://localhost:8080/"
        },
        "id": "nrlabE-hLDkD",
        "outputId": "7ca3c8d4-98ff-4792-e745-caa59da2b6a9"
      },
      "execution_count": 22,
      "outputs": [
        {
          "output_type": "stream",
          "name": "stdout",
          "text": [
            "Net(\n",
            "  (conv1): Conv2d(3, 32, kernel_size=(3, 3), stride=(1, 1), padding=same)\n",
            "  (pool1): MaxPool2d(kernel_size=2, stride=2, padding=0, dilation=1, ceil_mode=False)\n",
            "  (dropout1): Dropout(p=0.3, inplace=False)\n",
            "  (conv2): Conv2d(32, 64, kernel_size=(3, 3), stride=(1, 1), padding=same)\n",
            "  (pool2): MaxPool2d(kernel_size=2, stride=2, padding=0, dilation=1, ceil_mode=False)\n",
            "  (dropout2): Dropout(p=0.3, inplace=False)\n",
            "  (conv3): Conv2d(64, 128, kernel_size=(3, 3), stride=(1, 1), padding=same)\n",
            "  (pool3): MaxPool2d(kernel_size=2, stride=2, padding=0, dilation=1, ceil_mode=False)\n",
            "  (dropout3): Dropout(p=0.4, inplace=False)\n",
            "  (conv4): Conv2d(128, 256, kernel_size=(3, 3), stride=(1, 1), padding=same)\n",
            "  (pool4): MaxPool2d(kernel_size=2, stride=2, padding=0, dilation=1, ceil_mode=False)\n",
            "  (dropout4): Dropout(p=0.4, inplace=False)\n",
            "  (conv5): Conv2d(256, 512, kernel_size=(3, 3), stride=(1, 1), padding=same)\n",
            "  (pool5): MaxPool2d(kernel_size=2, stride=2, padding=0, dilation=1, ceil_mode=False)\n",
            "  (dropout5): Dropout(p=0.4, inplace=False)\n",
            "  (flatten): Flatten(start_dim=1, end_dim=-1)\n",
            "  (linear1): Linear(in_features=512, out_features=80, bias=True)\n",
            "  (dropout6): Dropout(p=0.3, inplace=False)\n",
            "  (linear2): Linear(in_features=80, out_features=20, bias=True)\n",
            ")\n",
            "Sequential(\n",
            "  (0): Conv2d(3, 32, kernel_size=(3, 3), stride=(1, 1), padding=same)\n",
            "  (1): ReLU()\n",
            "  (2): MaxPool2d(kernel_size=2, stride=2, padding=0, dilation=1, ceil_mode=False)\n",
            "  (3): Dropout(p=0.3, inplace=False)\n",
            "  (4): Conv2d(32, 64, kernel_size=(3, 3), stride=(1, 1), padding=same)\n",
            "  (5): ReLU()\n",
            "  (6): MaxPool2d(kernel_size=2, stride=2, padding=0, dilation=1, ceil_mode=False)\n",
            "  (7): Dropout(p=0.3, inplace=False)\n",
            "  (8): Conv2d(64, 128, kernel_size=(3, 3), stride=(1, 1), padding=same)\n",
            "  (9): ReLU()\n",
            "  (10): MaxPool2d(kernel_size=2, stride=2, padding=0, dilation=1, ceil_mode=False)\n",
            "  (11): Dropout(p=0.4, inplace=False)\n",
            ")\n",
            "Sequential(\n",
            "  (0): ReLU()\n",
            "  (1): MaxPool2d(kernel_size=2, stride=2, padding=0, dilation=1, ceil_mode=False)\n",
            "  (2): Dropout(p=0.4, inplace=False)\n",
            "  (3): Conv2d(256, 512, kernel_size=(3, 3), stride=(1, 1), padding=same)\n",
            "  (4): ReLU()\n",
            "  (5): MaxPool2d(kernel_size=2, stride=2, padding=0, dilation=1, ceil_mode=False)\n",
            "  (6): Dropout(p=0.4, inplace=False)\n",
            "  (7): Flatten(start_dim=1, end_dim=-1)\n",
            "  (8): Linear(in_features=512, out_features=80, bias=True)\n",
            "  (9): ReLU()\n",
            "  (10): Dropout(p=0.3, inplace=False)\n",
            "  (11): Linear(in_features=80, out_features=20, bias=True)\n",
            ")\n",
            "Conv2d(128, 256, kernel_size=(3, 3), stride=(1, 1), padding=same)\n"
          ]
        }
      ]
    },
    {
      "cell_type": "code",
      "source": [
        "\n",
        "\n",
        "specificationsOfLayerToBeReplaced0 = {}\n",
        "specificationsOfLayerToBeReplaced0[\"outChannels\"] = 64\n",
        "specificationsOfLayerToBeReplaced0[\"kernelSize\"] = 3\n",
        "specificationsOfLayerToBeReplaced0[\"padding\"] = \"same\"\n",
        "\n",
        "specificationsOfLayerToBeReplaced1 = {}\n",
        "specificationsOfLayerToBeReplaced1[\"outChannels\"] = 128\n",
        "specificationsOfLayerToBeReplaced1[\"kernelSize\"] = 3\n",
        "specificationsOfLayerToBeReplaced1[\"padding\"] = \"same\"\n",
        "\n",
        "specificationsOfLayerToBeReplaced2 = {}\n",
        "specificationsOfLayerToBeReplaced2[\"outChannels\"] = 256\n",
        "specificationsOfLayerToBeReplaced2[\"kernelSize\"] = 3\n",
        "specificationsOfLayerToBeReplaced2[\"padding\"] = \"same\"\n",
        "\n",
        "specificationsOfLayerToBeReplaced3 = {}\n",
        "specificationsOfLayerToBeReplaced3[\"outChannels\"] = 512\n",
        "specificationsOfLayerToBeReplaced3[\"kernelSize\"] = 3\n",
        "specificationsOfLayerToBeReplaced3[\"padding\"] = \"same\"\n",
        "\n",
        "specificationsOfLayersToBeReplaced = [specificationsOfLayerToBeReplaced0, specificationsOfLayerToBeReplaced1, specificationsOfLayerToBeReplaced2, specificationsOfLayerToBeReplaced3]\n"
      ],
      "metadata": {
        "id": "l5MBN6TwzoX6"
      },
      "execution_count": 36,
      "outputs": []
    },
    {
      "cell_type": "markdown",
      "source": [
        "We are defining below the different merged networks that are going to be trained (the different merging possibilities)"
      ],
      "metadata": {
        "id": "MeOu0XSVvH6F"
      }
    },
    {
      "cell_type": "code",
      "source": [
        "mergedNetworks = []\n",
        "accuraciesForMergedNetworks = []\n",
        "for indexOfImageNetLayer in range(4):\n",
        "  accuraciesForMergedNetworks.append([])\n",
        "  mergedNetworks.append([])\n",
        "\n",
        "for indexOfImageNetLayer in range(4):\n",
        "  for indexOfSimpleNetworkLayer in range(4):\n",
        "    mergedNetworks[indexOfImageNetLayer].append(MergedNetwork(partialImageNetModels[indexOfImageNetLayer], partsOfSimpleModellist[indexOfSimpleNetworkLayer][\"Lower Layers\"], partsOfSimpleModellist[indexOfSimpleNetworkLayer][\"Upper Layers\"], partsOfSimpleModellist[indexOfSimpleNetworkLayer][\"Layer to be replaced\"], specificationsOfLayersToBeReplaced[indexOfSimpleNetworkLayer], 4))"
      ],
      "metadata": {
        "id": "er6RNy-cvnGP"
      },
      "execution_count": 37,
      "outputs": []
    },
    {
      "cell_type": "markdown",
      "source": [
        "Below we are implementing the training of the different merging possibilities"
      ],
      "metadata": {
        "id": "YI6nojzLPvVp"
      }
    },
    {
      "cell_type": "code",
      "source": [
        "for indexOfImageNetLayer in range(4):\n",
        "  for indexOfSimpleNetworkLayer in range(4):\n",
        "\n",
        "    mergedNetwork = mergedNetworks[indexOfImageNetLayer][indexOfSimpleNetworkLayer]\n",
        "    criterion = nn.CrossEntropyLoss()\n",
        "    optimizerForMergedNetwork = optim.SGD(mergedNetwork.parameters(), lr=0.001, momentum=0.9)\n",
        "\n",
        "    for epoch in range(2):  # loop over the dataset multiple times\n",
        "\n",
        "        running_loss = 0.0\n",
        "        for i, data in enumerate(trainloader, 0):\n",
        "            # get the inputs; data is a list of [inputs, labels]\n",
        "            inputs, labels = data\n",
        "\n",
        "            # zero the parameter gradients\n",
        "            optimizerForMergedNetwork.zero_grad()\n",
        "\n",
        "            # forward + backward + optimize\n",
        "            outputs = mergedNetwork(inputs)\n",
        "            loss = criterion(outputs, labels)\n",
        "            loss.backward()\n",
        "            optimizerForMergedNetwork.step()\n",
        "\n",
        "            # print statistics\n",
        "            running_loss += loss.item()\n",
        "            if i % 500 == 499:    # print every 500 mini-batches\n",
        "                print(f'[{epoch + 1}, {i + 1:5d}] loss: {running_loss / 500:.3f}')\n",
        "                running_loss = 0.0\n",
        "\n",
        "print('Finished Training')"
      ],
      "metadata": {
        "id": "sRaKi1rWP-tB"
      },
      "execution_count": null,
      "outputs": []
    },
    {
      "cell_type": "markdown",
      "source": [
        "Below we store the accuracies of the merged networks; for the different merging possibilities"
      ],
      "metadata": {
        "id": "p-DbBNKESLDN"
      }
    },
    {
      "cell_type": "code",
      "source": [
        "\n",
        "for indexOfImageNetLayer in range(4):\n",
        "  for indexOfSimpleNetworkLayer in range(4):\n",
        "\n",
        "    mergedNetwork = mergedNetworks[indexOfImageNetLayer][indexOfSimpleNetworkLayer]\n",
        "\n",
        "    correct = 0\n",
        "    total = 0\n",
        "    index = 0\n",
        "    # since we're not training, we don't need to calculate the gradients for our outputs\n",
        "    with torch.no_grad():\n",
        "        for data in testloader:\n",
        "            images, labels = data\n",
        "            # calculate outputs by running images through the network\n",
        "            outputs = mergedNetwork(images)\n",
        "            # the class with the highest energy is what we choose as prediction\n",
        "            if(index % 100 == 99):\n",
        "              print(\"index: \", index)\n",
        "            index = index + 1\n",
        "            _, predicted = torch.max(outputs.data, 1)\n",
        "            total += labels.size(0)\n",
        "            correct += (predicted == labels).sum().item()\n",
        "\n",
        "    print(f'Accuracy of the network on the 10000 test images: {100 * correct // total} %')\n",
        "    accuraciesForMergedNetworks[indexOfImageNetLayer][indexOfSimpleNetworkLayer] = 100 * correct // total"
      ],
      "metadata": {
        "id": "nSTb97ZjSKNc"
      },
      "execution_count": null,
      "outputs": []
    },
    {
      "cell_type": "code",
      "source": [
        "someMergedNetwork(torch.ones(4, 3, 32, 32))"
      ],
      "metadata": {
        "id": "Y-WxipfHCcu0",
        "colab": {
          "base_uri": "https://localhost:8080/"
        },
        "outputId": "c63864c6-c5d8-4be9-8d18-924c5afedbaa"
      },
      "execution_count": null,
      "outputs": [
        {
          "output_type": "execute_result",
          "data": {
            "text/plain": [
              "tensor([[ 4.6958e+00, -1.0493e+00,  5.3003e+00,  3.7899e+00,  3.6130e+00,\n",
              "          3.4103e+00,  1.5737e+00,  9.8253e-01,  4.4863e+00, -7.6039e-02,\n",
              "         -2.5231e+00, -2.5379e+00, -2.5406e+00, -2.5712e+00, -2.6376e+00,\n",
              "         -2.8253e+00, -2.9916e+00, -2.0888e+00, -2.4733e+00, -2.8049e+00],\n",
              "        [ 4.8533e+00, -4.1061e-01,  5.5880e+00,  4.1840e+00,  3.3369e+00,\n",
              "          4.0043e+00,  1.0619e+00,  1.6187e+00,  4.5576e+00,  1.7279e-01,\n",
              "         -2.5940e+00, -2.7705e+00, -2.7413e+00, -2.8818e+00, -2.3102e+00,\n",
              "         -2.8840e+00, -3.2427e+00, -2.1539e+00, -2.4797e+00, -2.6694e+00],\n",
              "        [ 4.1516e+00,  1.1013e-03,  4.7613e+00,  3.7019e+00,  3.5735e+00,\n",
              "          3.3127e+00,  2.3300e+00,  1.4872e+00,  3.4012e+00,  2.8641e-01,\n",
              "         -3.0192e+00, -2.9382e+00, -2.7155e+00, -2.6649e+00, -3.0450e+00,\n",
              "         -2.8677e+00, -2.9625e+00, -2.4869e+00, -2.2526e+00, -2.7258e+00],\n",
              "        [ 4.6142e+00,  2.2278e-01,  5.1579e+00,  3.2604e+00,  3.5371e+00,\n",
              "          3.1772e+00,  1.6931e+00,  1.3176e+00,  4.9766e+00,  1.3415e+00,\n",
              "         -3.2206e+00, -3.2200e+00, -2.7800e+00, -3.4143e+00, -3.1909e+00,\n",
              "         -2.8482e+00, -3.0934e+00, -2.0998e+00, -2.5168e+00, -2.8721e+00]],\n",
              "       grad_fn=<AddmmBackward0>)"
            ]
          },
          "metadata": {},
          "execution_count": 47
        }
      ]
    },
    {
      "cell_type": "code",
      "source": [
        "simpleModel(torch.ones(4,3,32,32))"
      ],
      "metadata": {
        "colab": {
          "base_uri": "https://localhost:8080/"
        },
        "id": "5Wd8VKwPQMDx",
        "outputId": "ceef8284-f0a4-43dd-9f71-94ee4562838c"
      },
      "execution_count": null,
      "outputs": [
        {
          "output_type": "execute_result",
          "data": {
            "text/plain": [
              "tensor([[ 4.6148, -0.1527,  5.4538,  4.3333,  3.5902,  3.8770,  1.8116,  1.6738,\n",
              "          4.8480,  0.6237, -3.4249, -3.2900, -3.0724, -3.3043, -3.2290, -3.1719,\n",
              "         -3.6515, -2.5477, -2.6850, -2.9324],\n",
              "        [ 4.1938, -0.5240,  4.6096,  3.0852,  2.6833,  2.6568,  1.2157,  0.4015,\n",
              "          4.5467,  0.1097, -2.2917, -2.2084, -2.3820, -2.3441, -2.4080, -2.3942,\n",
              "         -2.8386, -1.7390, -1.8273, -2.3973],\n",
              "        [ 4.3183, -1.5632,  5.6547,  3.9488,  4.0173,  3.5278,  2.0120,  0.7317,\n",
              "          3.4191, -0.6248, -2.0849, -2.0308, -2.4771, -2.3251, -2.4712, -2.2181,\n",
              "         -2.5568, -1.8424, -1.9825, -2.2541],\n",
              "        [ 4.2617, -0.2148,  5.5542,  4.7587,  3.9762,  4.5425,  2.5437,  2.0424,\n",
              "          3.8375,  0.3250, -3.2171, -3.0290, -2.9726, -3.3927, -3.1424, -3.0821,\n",
              "         -3.3394, -2.3328, -2.5943, -3.0754]])"
            ]
          },
          "metadata": {},
          "execution_count": 50
        }
      ]
    },
    {
      "cell_type": "markdown",
      "source": [
        "Below we verify that the accuracy of the merged network is the same as the accuracy of the original network. Because the merged network does not take at this point any input from the lower part of the ImageNet network"
      ],
      "metadata": {
        "id": "5f6rGanHV4sr"
      }
    },
    {
      "cell_type": "code",
      "source": [
        "correct = 0\n",
        "total = 0\n",
        "index = 0\n",
        "# since we're not training, we don't need to calculate the gradients for our outputs\n",
        "with torch.no_grad():\n",
        "    for data in testloader:\n",
        "        images, labels = data\n",
        "        # calculate outputs by running images through the network\n",
        "        outputs = someMergedNetwork(images)\n",
        "        # the class with the highest energy is what we choose as prediction\n",
        "        if(index % 100 == 99):\n",
        "          print(\"index: \", index)\n",
        "        index = index + 1\n",
        "        _, predicted = torch.max(outputs.data, 1)\n",
        "        total += labels.size(0)\n",
        "        correct += (predicted == labels).sum().item()\n",
        "\n",
        "print(f'Accuracy of the network on the 10000 test images: {100 * correct // total} %')"
      ],
      "metadata": {
        "colab": {
          "base_uri": "https://localhost:8080/"
        },
        "id": "ZmDqzWnb6O0V",
        "outputId": "535a640f-f091-4000-dfe7-799acbe8e10e"
      },
      "execution_count": null,
      "outputs": [
        {
          "output_type": "stream",
          "name": "stdout",
          "text": [
            "index:  99\n",
            "index:  199\n",
            "index:  299\n",
            "index:  399\n",
            "index:  499\n",
            "index:  599\n",
            "index:  699\n",
            "index:  799\n",
            "index:  899\n",
            "index:  999\n",
            "index:  1099\n",
            "index:  1199\n",
            "index:  1299\n",
            "index:  1399\n",
            "index:  1499\n",
            "index:  1599\n",
            "index:  1699\n",
            "index:  1799\n",
            "index:  1899\n",
            "index:  1999\n",
            "index:  2099\n",
            "index:  2199\n",
            "index:  2299\n",
            "index:  2399\n",
            "index:  2499\n",
            "Accuracy of the network on the 10000 test images: 43 %\n"
          ]
        }
      ]
    },
    {
      "cell_type": "markdown",
      "source": [
        "Below we print the parameters of the layer to be replaced that we give as input to the merged network to be sure they are not changed by the learning process. We want that the layer (G) to deepcopy the parameters of the layer to be replaced; because we are going to reuse the same original layers of the simpleModel network in the other mergings."
      ],
      "metadata": {
        "id": "qtkAHULfa6b5"
      }
    },
    {
      "cell_type": "code",
      "source": [
        "for param in partsOfSimpleModellist[2][\"Layer to be replaced\"].parameters():\n",
        "  print(param)"
      ],
      "metadata": {
        "colab": {
          "base_uri": "https://localhost:8080/"
        },
        "id": "tEFq2BBOa0Em",
        "outputId": "2964f074-13d2-4eef-ae56-bde1701e9621"
      },
      "execution_count": 13,
      "outputs": [
        {
          "output_type": "stream",
          "name": "stdout",
          "text": [
            "Parameter containing:\n",
            "tensor([[[[ 1.3372e-02, -3.1427e-02, -1.6405e-02],\n",
            "          [-2.0707e-02, -6.9178e-03, -3.8140e-02],\n",
            "          [ 3.9862e-03, -5.3280e-03, -3.3745e-02]],\n",
            "\n",
            "         [[ 1.7648e-02, -2.2438e-04, -1.7156e-02],\n",
            "          [ 1.6294e-02,  1.7396e-02, -1.7971e-02],\n",
            "          [-1.4135e-02, -2.8024e-02,  2.9848e-02]],\n",
            "\n",
            "         [[-3.5444e-02, -4.1375e-02,  1.9934e-02],\n",
            "          [ 2.2304e-02, -4.0307e-03, -1.5113e-02],\n",
            "          [ 2.8151e-02, -2.1770e-02,  2.3120e-02]],\n",
            "\n",
            "         ...,\n",
            "\n",
            "         [[-2.3492e-02,  2.4440e-02,  1.4556e-02],\n",
            "          [ 1.5384e-02,  2.5452e-02,  1.9959e-02],\n",
            "          [-4.1793e-03,  6.0584e-03,  2.5752e-02]],\n",
            "\n",
            "         [[ 8.1976e-03, -2.1130e-02, -1.4067e-02],\n",
            "          [-2.1659e-02, -3.4016e-02,  3.4985e-04],\n",
            "          [-9.4928e-03,  3.7193e-02,  2.5763e-02]],\n",
            "\n",
            "         [[ 1.8241e-02,  4.4314e-03, -3.4476e-03],\n",
            "          [-2.5362e-02,  5.8923e-03,  1.8596e-02],\n",
            "          [ 1.4220e-02,  3.7322e-03,  2.1835e-02]]],\n",
            "\n",
            "\n",
            "        [[[-7.4577e-03, -1.4177e-02,  2.1266e-02],\n",
            "          [-8.9301e-03,  2.4112e-02, -2.2737e-02],\n",
            "          [ 1.3105e-02, -1.2768e-02,  1.3872e-02]],\n",
            "\n",
            "         [[-2.1534e-02, -3.2644e-03, -1.3378e-03],\n",
            "          [-5.4982e-03, -2.5775e-02, -4.1958e-03],\n",
            "          [ 2.2468e-02, -2.5139e-02,  1.5109e-02]],\n",
            "\n",
            "         [[-2.5063e-02,  1.5022e-02,  2.5161e-02],\n",
            "          [ 1.4862e-04,  2.2355e-02, -2.6309e-02],\n",
            "          [ 2.3850e-02,  2.7522e-02,  1.1425e-02]],\n",
            "\n",
            "         ...,\n",
            "\n",
            "         [[ 2.0943e-03, -2.4264e-02,  2.4855e-02],\n",
            "          [-1.5233e-02, -1.8844e-02, -1.3423e-02],\n",
            "          [-1.6170e-02,  2.3059e-02,  1.0896e-02]],\n",
            "\n",
            "         [[ 8.8514e-04,  5.6940e-04, -2.3804e-02],\n",
            "          [ 2.3933e-02,  2.1894e-02,  1.6785e-02],\n",
            "          [ 2.5869e-02, -2.1112e-02,  1.2316e-03]],\n",
            "\n",
            "         [[-1.7431e-02, -4.3356e-03, -5.0872e-04],\n",
            "          [-2.1635e-02, -2.6432e-02, -1.2627e-02],\n",
            "          [ 2.3976e-02,  4.9387e-03, -2.3344e-03]]],\n",
            "\n",
            "\n",
            "        [[[ 1.4086e-02,  2.8447e-02, -3.7773e-03],\n",
            "          [ 6.7216e-03, -1.0973e-03,  7.2866e-03],\n",
            "          [ 1.6532e-02, -1.0653e-02,  6.3518e-03]],\n",
            "\n",
            "         [[-1.9327e-02, -7.3953e-03,  1.2486e-02],\n",
            "          [-1.1988e-03, -1.5222e-02, -2.2895e-02],\n",
            "          [ 7.6157e-03,  1.5118e-02,  2.4398e-02]],\n",
            "\n",
            "         [[-2.2306e-02, -2.2516e-02, -2.0085e-02],\n",
            "          [ 1.0367e-02, -1.4936e-02, -2.4903e-02],\n",
            "          [-1.3436e-02, -2.8964e-04, -9.1689e-03]],\n",
            "\n",
            "         ...,\n",
            "\n",
            "         [[ 2.3071e-02,  5.7488e-03, -2.6158e-02],\n",
            "          [-6.1692e-03,  1.6893e-02,  9.2621e-03],\n",
            "          [ 1.3052e-02,  8.9302e-03,  1.5601e-02]],\n",
            "\n",
            "         [[-1.2377e-02,  1.2911e-02, -1.1509e-02],\n",
            "          [-1.1514e-02, -2.1343e-02,  1.0354e-02],\n",
            "          [ 3.5036e-02,  1.6752e-02,  3.3233e-03]],\n",
            "\n",
            "         [[-1.5473e-02,  1.4865e-02, -2.0430e-02],\n",
            "          [ 4.2731e-03, -1.5730e-03, -2.0425e-02],\n",
            "          [-4.8872e-03, -1.3193e-02,  8.0824e-03]]],\n",
            "\n",
            "\n",
            "        ...,\n",
            "\n",
            "\n",
            "        [[[ 1.8728e-02,  8.8747e-03, -3.9386e-03],\n",
            "          [-3.0319e-02, -1.2348e-02, -9.8066e-03],\n",
            "          [-3.9928e-03, -1.3018e-02, -1.4771e-03]],\n",
            "\n",
            "         [[ 2.1984e-03, -1.3498e-02, -1.6197e-02],\n",
            "          [-1.5763e-02, -2.8967e-02, -2.6799e-03],\n",
            "          [-1.7803e-02, -1.7011e-02,  6.8425e-03]],\n",
            "\n",
            "         [[-3.0893e-02,  1.0068e-02, -4.4219e-03],\n",
            "          [ 2.0477e-02, -7.0420e-03,  7.1158e-03],\n",
            "          [ 1.3492e-02,  2.0668e-02,  1.8880e-02]],\n",
            "\n",
            "         ...,\n",
            "\n",
            "         [[ 1.9413e-02,  2.8791e-02,  3.8265e-02],\n",
            "          [ 3.4823e-02, -2.0164e-03, -2.6560e-02],\n",
            "          [-2.1692e-02, -1.2886e-02, -1.1691e-02]],\n",
            "\n",
            "         [[-3.0507e-02, -8.7151e-03, -2.9622e-02],\n",
            "          [ 2.9551e-02, -2.0316e-02, -8.9000e-03],\n",
            "          [-2.4258e-02, -1.4544e-02,  1.4785e-02]],\n",
            "\n",
            "         [[ 1.4324e-02, -9.0427e-03, -3.0676e-02],\n",
            "          [ 6.1247e-04, -3.2801e-02, -7.5122e-03],\n",
            "          [ 2.8696e-02, -4.6097e-03, -2.2546e-02]]],\n",
            "\n",
            "\n",
            "        [[[ 1.3596e-02, -6.0599e-03, -4.7752e-03],\n",
            "          [ 5.1274e-03, -2.8492e-02,  1.4445e-02],\n",
            "          [ 7.7897e-03, -5.1772e-03,  9.0383e-03]],\n",
            "\n",
            "         [[-2.6611e-02,  7.7309e-03,  2.5424e-03],\n",
            "          [ 2.7943e-02, -5.7980e-03,  9.7784e-03],\n",
            "          [-1.0238e-02, -6.0653e-03,  1.4364e-02]],\n",
            "\n",
            "         [[-1.4873e-02,  1.9796e-02,  8.4698e-03],\n",
            "          [-9.7667e-03,  1.4576e-02, -1.8865e-02],\n",
            "          [-3.1180e-03,  9.1017e-03, -7.3807e-03]],\n",
            "\n",
            "         ...,\n",
            "\n",
            "         [[-1.6557e-02, -2.2740e-02, -2.5227e-02],\n",
            "          [-2.0422e-02,  4.9460e-04,  3.8518e-02],\n",
            "          [-2.9095e-02,  1.3823e-03, -1.0038e-02]],\n",
            "\n",
            "         [[ 1.1216e-02, -2.7919e-02, -2.0102e-02],\n",
            "          [-3.0396e-02, -2.8993e-02, -1.3878e-02],\n",
            "          [-2.9268e-02, -1.3201e-02,  1.6250e-02]],\n",
            "\n",
            "         [[ 5.4295e-03, -3.6969e-02, -1.9285e-02],\n",
            "          [ 1.8019e-02,  2.2686e-02,  2.7966e-03],\n",
            "          [-1.7999e-02,  2.6147e-03,  1.1414e-02]]],\n",
            "\n",
            "\n",
            "        [[[-1.3235e-02, -1.6589e-02,  1.4412e-02],\n",
            "          [ 1.0808e-02, -2.2209e-02, -3.6950e-03],\n",
            "          [ 9.5445e-04, -1.1063e-02, -3.6029e-03]],\n",
            "\n",
            "         [[-1.1917e-05,  1.8024e-02, -1.7222e-02],\n",
            "          [ 2.4669e-02, -8.5659e-04,  2.3012e-02],\n",
            "          [-1.3381e-02,  2.4400e-02,  1.0634e-02]],\n",
            "\n",
            "         [[ 1.7603e-02,  3.1937e-02,  1.1725e-02],\n",
            "          [-7.2118e-03, -2.8448e-02,  9.3075e-03],\n",
            "          [ 1.9969e-04, -1.0418e-02, -1.6985e-02]],\n",
            "\n",
            "         ...,\n",
            "\n",
            "         [[-3.0315e-02, -8.4280e-03, -2.2595e-02],\n",
            "          [-2.5586e-02, -1.2395e-02, -2.0134e-02],\n",
            "          [-2.3771e-02, -3.7367e-03,  3.4619e-03]],\n",
            "\n",
            "         [[ 8.9420e-03, -2.0099e-03,  4.2938e-03],\n",
            "          [-2.7405e-02,  1.6095e-02,  1.3279e-02],\n",
            "          [-1.6632e-02, -7.9889e-03, -2.8065e-02]],\n",
            "\n",
            "         [[-1.9686e-02, -2.6478e-02, -1.6758e-02],\n",
            "          [-4.8783e-03,  1.5436e-02,  3.9755e-02],\n",
            "          [-1.8206e-04, -9.8494e-03,  3.3967e-02]]]])\n",
            "Parameter containing:\n",
            "tensor([ 6.2310e-03, -1.4116e-02, -1.2383e-02,  4.4189e-02, -1.7837e-02,\n",
            "         1.1388e-02, -1.5401e-02, -2.4815e-03, -3.4026e-02, -2.2540e-02,\n",
            "         1.8624e-02, -9.0861e-02,  4.3830e-02, -1.6826e-02, -5.5592e-02,\n",
            "        -6.7757e-02, -1.0117e-01, -1.9062e-02,  7.0260e-02, -3.7260e-02,\n",
            "        -2.1526e-02, -2.4827e-02, -1.0606e-02,  9.1347e-03,  1.2433e-02,\n",
            "        -2.4413e-02,  8.2154e-02, -3.3927e-02,  1.1902e-03,  7.1050e-02,\n",
            "        -4.5903e-02, -4.7927e-02, -6.9824e-02,  6.7842e-02,  1.8781e-02,\n",
            "        -9.6357e-03, -2.9117e-03, -3.3586e-02, -7.3267e-02,  3.7146e-02,\n",
            "         3.0371e-02,  2.3144e-02,  9.4904e-02,  1.4383e-02, -4.7101e-03,\n",
            "         2.9421e-02, -2.9382e-02, -5.8265e-02,  7.3165e-03,  3.8360e-02,\n",
            "        -3.0239e-02,  6.0104e-02, -1.0176e-01, -7.3613e-02,  7.3631e-02,\n",
            "        -1.3518e-02,  5.2123e-02,  4.5855e-02,  1.6005e-02, -5.4135e-02,\n",
            "        -4.8937e-03,  6.6828e-02, -3.7005e-02, -2.9724e-02, -1.2379e-01,\n",
            "         6.4452e-03,  4.9750e-02, -5.2430e-02,  3.3974e-04,  3.2365e-02,\n",
            "         1.0421e-02, -6.4946e-02,  2.0661e-05, -2.0386e-02,  3.2560e-02,\n",
            "         1.9839e-02, -6.7260e-03, -2.5918e-02, -8.4667e-02, -1.4904e-02,\n",
            "        -1.5042e-02, -1.8862e-02, -5.5106e-02, -8.9365e-03, -5.0430e-02,\n",
            "         8.0797e-03, -4.1468e-02, -1.3005e-02, -2.3099e-02,  6.6883e-02,\n",
            "        -9.1970e-02,  8.1132e-02,  1.8245e-02,  8.5841e-02,  1.4478e-02,\n",
            "         1.4978e-02,  4.1238e-02, -2.6171e-02,  1.5385e-02, -7.3643e-02,\n",
            "        -3.5123e-02, -3.3815e-02,  7.5787e-02, -2.7556e-03,  6.5518e-03,\n",
            "        -8.0273e-02,  1.7463e-02, -7.9894e-02, -1.1150e-02, -2.4554e-02,\n",
            "        -7.9187e-02,  4.4293e-02, -7.8830e-03, -1.4338e-02, -5.2985e-02,\n",
            "         1.3117e-02, -3.8131e-02,  4.3314e-02,  1.6677e-02, -3.9195e-02,\n",
            "         8.5263e-02, -5.5186e-02,  1.7532e-02, -4.2829e-02,  6.2345e-02,\n",
            "         1.7651e-03,  2.2237e-02, -2.9969e-02, -8.9480e-03, -1.1424e-01,\n",
            "        -5.4295e-02,  2.3005e-02,  1.2453e-02, -2.2793e-02,  2.6674e-02,\n",
            "        -1.7762e-02, -4.4001e-02,  5.8868e-02, -5.1220e-02, -3.3096e-02,\n",
            "         6.5231e-02, -3.0257e-02,  5.9347e-02,  3.7172e-02, -2.8747e-02,\n",
            "        -1.7014e-02,  8.1899e-02,  1.5674e-02, -3.7344e-02, -6.6999e-02,\n",
            "        -2.3688e-02,  2.8609e-03, -1.6731e-02,  1.4706e-02, -3.5700e-02,\n",
            "        -5.6211e-03, -8.8575e-03,  3.7028e-02, -2.7359e-02,  8.1471e-02,\n",
            "         1.4935e-02, -6.3760e-02, -2.8247e-02, -2.2223e-02, -1.1189e-02,\n",
            "         9.1129e-03, -1.6042e-02,  2.2407e-02, -6.4633e-02,  6.4200e-03,\n",
            "        -4.6358e-02, -1.8703e-02, -1.1557e-01, -9.0792e-02,  8.7243e-03,\n",
            "         5.4897e-02,  7.9695e-03, -4.8134e-04, -5.2083e-02,  4.0906e-02,\n",
            "         6.0193e-02, -1.2173e-02,  1.0149e-01,  7.0437e-02, -8.6918e-02,\n",
            "         3.6287e-02, -1.7718e-02,  6.0969e-02,  2.9049e-03,  7.0259e-02,\n",
            "        -2.7430e-04,  1.2461e-02, -4.1726e-02, -9.7940e-02,  1.1247e-02,\n",
            "         1.8313e-02,  1.6776e-02, -9.9340e-04,  1.3802e-02, -7.6255e-02,\n",
            "         3.7636e-02, -3.4744e-02, -8.5197e-02,  2.8778e-02,  1.0560e-02,\n",
            "        -1.8923e-02, -2.7617e-02, -4.9373e-02, -2.7974e-02, -8.8548e-02,\n",
            "        -2.8834e-02, -3.7981e-02, -4.1868e-02, -4.5260e-02,  7.3913e-02,\n",
            "        -4.2987e-02,  3.8887e-02, -1.2823e-02, -1.7323e-02, -3.8250e-02,\n",
            "        -6.3018e-03,  2.0911e-02, -4.7356e-02,  6.8171e-02, -5.0851e-03,\n",
            "        -2.5367e-02, -2.0709e-03, -6.5768e-04, -1.1796e-01,  3.6408e-02,\n",
            "         4.6455e-02, -8.2512e-03,  1.7834e-03,  7.5428e-03,  2.1744e-03,\n",
            "        -8.1417e-02,  1.1668e-02,  2.5736e-02, -6.1526e-02,  3.1676e-03,\n",
            "        -6.7157e-03, -8.7058e-02, -6.6029e-03,  1.1920e-02, -2.4824e-02,\n",
            "         1.1033e-02,  2.7582e-02,  3.0039e-02,  3.6060e-02, -5.6653e-02,\n",
            "         1.3583e-02, -1.8321e-01, -1.7019e-02,  1.4745e-02,  8.4598e-02,\n",
            "        -4.3075e-02])\n"
          ]
        }
      ]
    },
    {
      "cell_type": "markdown",
      "source": [
        "Below we are going to train the merged network (the layer (G)). Becarful: you were using an optimizer registered with the wrong parameters."
      ],
      "metadata": {
        "id": "0S2qRA3fmtft"
      }
    },
    {
      "cell_type": "code",
      "source": [
        "criterion = nn.CrossEntropyLoss()\n",
        "optimizerForMergedNetwork = optim.SGD(someMergedNetwork.parameters(), lr=0.001, momentum=0.9)"
      ],
      "metadata": {
        "id": "-uuP-p1G-P62"
      },
      "execution_count": 14,
      "outputs": []
    },
    {
      "cell_type": "code",
      "source": [
        "for epoch in range(2):  # loop over the dataset multiple times\n",
        "\n",
        "    running_loss = 0.0\n",
        "    for i, data in enumerate(trainloader, 0):\n",
        "        # get the inputs; data is a list of [inputs, labels]\n",
        "        inputs, labels = data\n",
        "\n",
        "        # zero the parameter gradients\n",
        "        optimizerForMergedNetwork.zero_grad()\n",
        "\n",
        "        # forward + backward + optimize\n",
        "        outputs = someMergedNetwork(inputs)\n",
        "        loss = criterion(outputs, labels)\n",
        "        loss.backward()\n",
        "        optimizerForMergedNetwork.step()\n",
        "\n",
        "        # print statistics\n",
        "        running_loss += loss.item()\n",
        "        if i % 500 == 499:    # print every 500 mini-batches\n",
        "            print(f'[{epoch + 1}, {i + 1:5d}] loss: {running_loss / 500:.3f}')\n",
        "            running_loss = 0.0\n",
        "\n",
        "print('Finished Training')"
      ],
      "metadata": {
        "colab": {
          "base_uri": "https://localhost:8080/",
          "height": 433
        },
        "id": "QzXoGUTfmtFE",
        "outputId": "79dc3505-402a-48b1-c8fd-46291b33cdb2"
      },
      "execution_count": 15,
      "outputs": [
        {
          "output_type": "stream",
          "name": "stdout",
          "text": [
            "[1,   500] loss: 1.475\n",
            "[1,  1000] loss: 1.436\n",
            "[1,  1500] loss: 1.384\n"
          ]
        },
        {
          "output_type": "error",
          "ename": "KeyboardInterrupt",
          "evalue": "ignored",
          "traceback": [
            "\u001b[0;31m---------------------------------------------------------------------------\u001b[0m",
            "\u001b[0;31mKeyboardInterrupt\u001b[0m                         Traceback (most recent call last)",
            "\u001b[0;32m<ipython-input-15-145c0c4a75a9>\u001b[0m in \u001b[0;36m<cell line: 1>\u001b[0;34m()\u001b[0m\n\u001b[1;32m     10\u001b[0m \u001b[0;34m\u001b[0m\u001b[0m\n\u001b[1;32m     11\u001b[0m         \u001b[0;31m# forward + backward + optimize\u001b[0m\u001b[0;34m\u001b[0m\u001b[0;34m\u001b[0m\u001b[0m\n\u001b[0;32m---> 12\u001b[0;31m         \u001b[0moutputs\u001b[0m \u001b[0;34m=\u001b[0m \u001b[0msomeMergedNetwork\u001b[0m\u001b[0;34m(\u001b[0m\u001b[0minputs\u001b[0m\u001b[0;34m)\u001b[0m\u001b[0;34m\u001b[0m\u001b[0;34m\u001b[0m\u001b[0m\n\u001b[0m\u001b[1;32m     13\u001b[0m         \u001b[0mloss\u001b[0m \u001b[0;34m=\u001b[0m \u001b[0mcriterion\u001b[0m\u001b[0;34m(\u001b[0m\u001b[0moutputs\u001b[0m\u001b[0;34m,\u001b[0m \u001b[0mlabels\u001b[0m\u001b[0;34m)\u001b[0m\u001b[0;34m\u001b[0m\u001b[0;34m\u001b[0m\u001b[0m\n\u001b[1;32m     14\u001b[0m         \u001b[0mloss\u001b[0m\u001b[0;34m.\u001b[0m\u001b[0mbackward\u001b[0m\u001b[0;34m(\u001b[0m\u001b[0;34m)\u001b[0m\u001b[0;34m\u001b[0m\u001b[0;34m\u001b[0m\u001b[0m\n",
            "\u001b[0;32m/usr/local/lib/python3.9/dist-packages/torch/nn/modules/module.py\u001b[0m in \u001b[0;36m_call_impl\u001b[0;34m(self, *input, **kwargs)\u001b[0m\n\u001b[1;32m   1192\u001b[0m         if not (self._backward_hooks or self._forward_hooks or self._forward_pre_hooks or _global_backward_hooks\n\u001b[1;32m   1193\u001b[0m                 or _global_forward_hooks or _global_forward_pre_hooks):\n\u001b[0;32m-> 1194\u001b[0;31m             \u001b[0;32mreturn\u001b[0m \u001b[0mforward_call\u001b[0m\u001b[0;34m(\u001b[0m\u001b[0;34m*\u001b[0m\u001b[0minput\u001b[0m\u001b[0;34m,\u001b[0m \u001b[0;34m**\u001b[0m\u001b[0mkwargs\u001b[0m\u001b[0;34m)\u001b[0m\u001b[0;34m\u001b[0m\u001b[0;34m\u001b[0m\u001b[0m\n\u001b[0m\u001b[1;32m   1195\u001b[0m         \u001b[0;31m# Do not call functions when jit is used\u001b[0m\u001b[0;34m\u001b[0m\u001b[0;34m\u001b[0m\u001b[0m\n\u001b[1;32m   1196\u001b[0m         \u001b[0mfull_backward_hooks\u001b[0m\u001b[0;34m,\u001b[0m \u001b[0mnon_full_backward_hooks\u001b[0m \u001b[0;34m=\u001b[0m \u001b[0;34m[\u001b[0m\u001b[0;34m]\u001b[0m\u001b[0;34m,\u001b[0m \u001b[0;34m[\u001b[0m\u001b[0;34m]\u001b[0m\u001b[0;34m\u001b[0m\u001b[0;34m\u001b[0m\u001b[0m\n",
            "\u001b[0;32m<ipython-input-5-df2cc0714ffc>\u001b[0m in \u001b[0;36mforward\u001b[0;34m(self, x)\u001b[0m\n\u001b[1;32m     51\u001b[0m         \u001b[0;31m#Cifar10 Images are 32 by 32 and are color images, so have 3 channels (I think).\u001b[0m\u001b[0;34m\u001b[0m\u001b[0;34m\u001b[0m\u001b[0m\n\u001b[1;32m     52\u001b[0m         \u001b[0minputToImageNet\u001b[0m \u001b[0;34m=\u001b[0m \u001b[0mF\u001b[0m\u001b[0;34m.\u001b[0m\u001b[0minterpolate\u001b[0m\u001b[0;34m(\u001b[0m\u001b[0mx\u001b[0m\u001b[0;34m,\u001b[0m \u001b[0msize\u001b[0m \u001b[0;34m=\u001b[0m \u001b[0;34m(\u001b[0m\u001b[0;36m224\u001b[0m\u001b[0;34m,\u001b[0m \u001b[0;36m224\u001b[0m\u001b[0;34m)\u001b[0m\u001b[0;34m)\u001b[0m\u001b[0;34m\u001b[0m\u001b[0;34m\u001b[0m\u001b[0m\n\u001b[0;32m---> 53\u001b[0;31m         \u001b[0mlowerLayersImageNetOutput\u001b[0m \u001b[0;34m=\u001b[0m \u001b[0mself\u001b[0m\u001b[0;34m.\u001b[0m\u001b[0mlowerLayersOfImageNet\u001b[0m\u001b[0;34m(\u001b[0m\u001b[0minputToImageNet\u001b[0m\u001b[0;34m)\u001b[0m\u001b[0;34m\u001b[0m\u001b[0;34m\u001b[0m\u001b[0m\n\u001b[0m\u001b[1;32m     54\u001b[0m \u001b[0;34m\u001b[0m\u001b[0m\n\u001b[1;32m     55\u001b[0m         \u001b[0;31m#Becareful here! We don't want to interpolate in the channel dimension!\u001b[0m\u001b[0;34m\u001b[0m\u001b[0;34m\u001b[0m\u001b[0m\n",
            "\u001b[0;32m/usr/local/lib/python3.9/dist-packages/torch/nn/modules/module.py\u001b[0m in \u001b[0;36m_call_impl\u001b[0;34m(self, *input, **kwargs)\u001b[0m\n\u001b[1;32m   1192\u001b[0m         if not (self._backward_hooks or self._forward_hooks or self._forward_pre_hooks or _global_backward_hooks\n\u001b[1;32m   1193\u001b[0m                 or _global_forward_hooks or _global_forward_pre_hooks):\n\u001b[0;32m-> 1194\u001b[0;31m             \u001b[0;32mreturn\u001b[0m \u001b[0mforward_call\u001b[0m\u001b[0;34m(\u001b[0m\u001b[0;34m*\u001b[0m\u001b[0minput\u001b[0m\u001b[0;34m,\u001b[0m \u001b[0;34m**\u001b[0m\u001b[0mkwargs\u001b[0m\u001b[0;34m)\u001b[0m\u001b[0;34m\u001b[0m\u001b[0;34m\u001b[0m\u001b[0m\n\u001b[0m\u001b[1;32m   1195\u001b[0m         \u001b[0;31m# Do not call functions when jit is used\u001b[0m\u001b[0;34m\u001b[0m\u001b[0;34m\u001b[0m\u001b[0m\n\u001b[1;32m   1196\u001b[0m         \u001b[0mfull_backward_hooks\u001b[0m\u001b[0;34m,\u001b[0m \u001b[0mnon_full_backward_hooks\u001b[0m \u001b[0;34m=\u001b[0m \u001b[0;34m[\u001b[0m\u001b[0;34m]\u001b[0m\u001b[0;34m,\u001b[0m \u001b[0;34m[\u001b[0m\u001b[0;34m]\u001b[0m\u001b[0;34m\u001b[0m\u001b[0;34m\u001b[0m\u001b[0m\n",
            "\u001b[0;32m/usr/local/lib/python3.9/dist-packages/torch/nn/modules/container.py\u001b[0m in \u001b[0;36mforward\u001b[0;34m(self, input)\u001b[0m\n\u001b[1;32m    202\u001b[0m     \u001b[0;32mdef\u001b[0m \u001b[0mforward\u001b[0m\u001b[0;34m(\u001b[0m\u001b[0mself\u001b[0m\u001b[0;34m,\u001b[0m \u001b[0minput\u001b[0m\u001b[0;34m)\u001b[0m\u001b[0;34m:\u001b[0m\u001b[0;34m\u001b[0m\u001b[0;34m\u001b[0m\u001b[0m\n\u001b[1;32m    203\u001b[0m         \u001b[0;32mfor\u001b[0m \u001b[0mmodule\u001b[0m \u001b[0;32min\u001b[0m \u001b[0mself\u001b[0m\u001b[0;34m:\u001b[0m\u001b[0;34m\u001b[0m\u001b[0;34m\u001b[0m\u001b[0m\n\u001b[0;32m--> 204\u001b[0;31m             \u001b[0minput\u001b[0m \u001b[0;34m=\u001b[0m \u001b[0mmodule\u001b[0m\u001b[0;34m(\u001b[0m\u001b[0minput\u001b[0m\u001b[0;34m)\u001b[0m\u001b[0;34m\u001b[0m\u001b[0;34m\u001b[0m\u001b[0m\n\u001b[0m\u001b[1;32m    205\u001b[0m         \u001b[0;32mreturn\u001b[0m \u001b[0minput\u001b[0m\u001b[0;34m\u001b[0m\u001b[0;34m\u001b[0m\u001b[0m\n\u001b[1;32m    206\u001b[0m \u001b[0;34m\u001b[0m\u001b[0m\n",
            "\u001b[0;32m/usr/local/lib/python3.9/dist-packages/torch/nn/modules/module.py\u001b[0m in \u001b[0;36m_call_impl\u001b[0;34m(self, *input, **kwargs)\u001b[0m\n\u001b[1;32m   1192\u001b[0m         if not (self._backward_hooks or self._forward_hooks or self._forward_pre_hooks or _global_backward_hooks\n\u001b[1;32m   1193\u001b[0m                 or _global_forward_hooks or _global_forward_pre_hooks):\n\u001b[0;32m-> 1194\u001b[0;31m             \u001b[0;32mreturn\u001b[0m \u001b[0mforward_call\u001b[0m\u001b[0;34m(\u001b[0m\u001b[0;34m*\u001b[0m\u001b[0minput\u001b[0m\u001b[0;34m,\u001b[0m \u001b[0;34m**\u001b[0m\u001b[0mkwargs\u001b[0m\u001b[0;34m)\u001b[0m\u001b[0;34m\u001b[0m\u001b[0;34m\u001b[0m\u001b[0m\n\u001b[0m\u001b[1;32m   1195\u001b[0m         \u001b[0;31m# Do not call functions when jit is used\u001b[0m\u001b[0;34m\u001b[0m\u001b[0;34m\u001b[0m\u001b[0m\n\u001b[1;32m   1196\u001b[0m         \u001b[0mfull_backward_hooks\u001b[0m\u001b[0;34m,\u001b[0m \u001b[0mnon_full_backward_hooks\u001b[0m \u001b[0;34m=\u001b[0m \u001b[0;34m[\u001b[0m\u001b[0;34m]\u001b[0m\u001b[0;34m,\u001b[0m \u001b[0;34m[\u001b[0m\u001b[0;34m]\u001b[0m\u001b[0;34m\u001b[0m\u001b[0;34m\u001b[0m\u001b[0m\n",
            "\u001b[0;32m/usr/local/lib/python3.9/dist-packages/torch/nn/modules/container.py\u001b[0m in \u001b[0;36mforward\u001b[0;34m(self, input)\u001b[0m\n\u001b[1;32m    202\u001b[0m     \u001b[0;32mdef\u001b[0m \u001b[0mforward\u001b[0m\u001b[0;34m(\u001b[0m\u001b[0mself\u001b[0m\u001b[0;34m,\u001b[0m \u001b[0minput\u001b[0m\u001b[0;34m)\u001b[0m\u001b[0;34m:\u001b[0m\u001b[0;34m\u001b[0m\u001b[0;34m\u001b[0m\u001b[0m\n\u001b[1;32m    203\u001b[0m         \u001b[0;32mfor\u001b[0m \u001b[0mmodule\u001b[0m \u001b[0;32min\u001b[0m \u001b[0mself\u001b[0m\u001b[0;34m:\u001b[0m\u001b[0;34m\u001b[0m\u001b[0;34m\u001b[0m\u001b[0m\n\u001b[0;32m--> 204\u001b[0;31m             \u001b[0minput\u001b[0m \u001b[0;34m=\u001b[0m \u001b[0mmodule\u001b[0m\u001b[0;34m(\u001b[0m\u001b[0minput\u001b[0m\u001b[0;34m)\u001b[0m\u001b[0;34m\u001b[0m\u001b[0;34m\u001b[0m\u001b[0m\n\u001b[0m\u001b[1;32m    205\u001b[0m         \u001b[0;32mreturn\u001b[0m \u001b[0minput\u001b[0m\u001b[0;34m\u001b[0m\u001b[0;34m\u001b[0m\u001b[0m\n\u001b[1;32m    206\u001b[0m \u001b[0;34m\u001b[0m\u001b[0m\n",
            "\u001b[0;32m/usr/local/lib/python3.9/dist-packages/torch/nn/modules/module.py\u001b[0m in \u001b[0;36m_call_impl\u001b[0;34m(self, *input, **kwargs)\u001b[0m\n\u001b[1;32m   1192\u001b[0m         if not (self._backward_hooks or self._forward_hooks or self._forward_pre_hooks or _global_backward_hooks\n\u001b[1;32m   1193\u001b[0m                 or _global_forward_hooks or _global_forward_pre_hooks):\n\u001b[0;32m-> 1194\u001b[0;31m             \u001b[0;32mreturn\u001b[0m \u001b[0mforward_call\u001b[0m\u001b[0;34m(\u001b[0m\u001b[0;34m*\u001b[0m\u001b[0minput\u001b[0m\u001b[0;34m,\u001b[0m \u001b[0;34m**\u001b[0m\u001b[0mkwargs\u001b[0m\u001b[0;34m)\u001b[0m\u001b[0;34m\u001b[0m\u001b[0;34m\u001b[0m\u001b[0m\n\u001b[0m\u001b[1;32m   1195\u001b[0m         \u001b[0;31m# Do not call functions when jit is used\u001b[0m\u001b[0;34m\u001b[0m\u001b[0;34m\u001b[0m\u001b[0m\n\u001b[1;32m   1196\u001b[0m         \u001b[0mfull_backward_hooks\u001b[0m\u001b[0;34m,\u001b[0m \u001b[0mnon_full_backward_hooks\u001b[0m \u001b[0;34m=\u001b[0m \u001b[0;34m[\u001b[0m\u001b[0;34m]\u001b[0m\u001b[0;34m,\u001b[0m \u001b[0;34m[\u001b[0m\u001b[0;34m]\u001b[0m\u001b[0;34m\u001b[0m\u001b[0;34m\u001b[0m\u001b[0m\n",
            "\u001b[0;32m/usr/local/lib/python3.9/dist-packages/torchvision/models/resnet.py\u001b[0m in \u001b[0;36mforward\u001b[0;34m(self, x)\u001b[0m\n\u001b[1;32m     94\u001b[0m         \u001b[0mout\u001b[0m \u001b[0;34m=\u001b[0m \u001b[0mself\u001b[0m\u001b[0;34m.\u001b[0m\u001b[0mrelu\u001b[0m\u001b[0;34m(\u001b[0m\u001b[0mout\u001b[0m\u001b[0;34m)\u001b[0m\u001b[0;34m\u001b[0m\u001b[0;34m\u001b[0m\u001b[0m\n\u001b[1;32m     95\u001b[0m \u001b[0;34m\u001b[0m\u001b[0m\n\u001b[0;32m---> 96\u001b[0;31m         \u001b[0mout\u001b[0m \u001b[0;34m=\u001b[0m \u001b[0mself\u001b[0m\u001b[0;34m.\u001b[0m\u001b[0mconv2\u001b[0m\u001b[0;34m(\u001b[0m\u001b[0mout\u001b[0m\u001b[0;34m)\u001b[0m\u001b[0;34m\u001b[0m\u001b[0;34m\u001b[0m\u001b[0m\n\u001b[0m\u001b[1;32m     97\u001b[0m         \u001b[0mout\u001b[0m \u001b[0;34m=\u001b[0m \u001b[0mself\u001b[0m\u001b[0;34m.\u001b[0m\u001b[0mbn2\u001b[0m\u001b[0;34m(\u001b[0m\u001b[0mout\u001b[0m\u001b[0;34m)\u001b[0m\u001b[0;34m\u001b[0m\u001b[0;34m\u001b[0m\u001b[0m\n\u001b[1;32m     98\u001b[0m \u001b[0;34m\u001b[0m\u001b[0m\n",
            "\u001b[0;32m/usr/local/lib/python3.9/dist-packages/torch/nn/modules/module.py\u001b[0m in \u001b[0;36m_call_impl\u001b[0;34m(self, *input, **kwargs)\u001b[0m\n\u001b[1;32m   1192\u001b[0m         if not (self._backward_hooks or self._forward_hooks or self._forward_pre_hooks or _global_backward_hooks\n\u001b[1;32m   1193\u001b[0m                 or _global_forward_hooks or _global_forward_pre_hooks):\n\u001b[0;32m-> 1194\u001b[0;31m             \u001b[0;32mreturn\u001b[0m \u001b[0mforward_call\u001b[0m\u001b[0;34m(\u001b[0m\u001b[0;34m*\u001b[0m\u001b[0minput\u001b[0m\u001b[0;34m,\u001b[0m \u001b[0;34m**\u001b[0m\u001b[0mkwargs\u001b[0m\u001b[0;34m)\u001b[0m\u001b[0;34m\u001b[0m\u001b[0;34m\u001b[0m\u001b[0m\n\u001b[0m\u001b[1;32m   1195\u001b[0m         \u001b[0;31m# Do not call functions when jit is used\u001b[0m\u001b[0;34m\u001b[0m\u001b[0;34m\u001b[0m\u001b[0m\n\u001b[1;32m   1196\u001b[0m         \u001b[0mfull_backward_hooks\u001b[0m\u001b[0;34m,\u001b[0m \u001b[0mnon_full_backward_hooks\u001b[0m \u001b[0;34m=\u001b[0m \u001b[0;34m[\u001b[0m\u001b[0;34m]\u001b[0m\u001b[0;34m,\u001b[0m \u001b[0;34m[\u001b[0m\u001b[0;34m]\u001b[0m\u001b[0;34m\u001b[0m\u001b[0;34m\u001b[0m\u001b[0m\n",
            "\u001b[0;32m/usr/local/lib/python3.9/dist-packages/torch/nn/modules/conv.py\u001b[0m in \u001b[0;36mforward\u001b[0;34m(self, input)\u001b[0m\n\u001b[1;32m    461\u001b[0m \u001b[0;34m\u001b[0m\u001b[0m\n\u001b[1;32m    462\u001b[0m     \u001b[0;32mdef\u001b[0m \u001b[0mforward\u001b[0m\u001b[0;34m(\u001b[0m\u001b[0mself\u001b[0m\u001b[0;34m,\u001b[0m \u001b[0minput\u001b[0m\u001b[0;34m:\u001b[0m \u001b[0mTensor\u001b[0m\u001b[0;34m)\u001b[0m \u001b[0;34m->\u001b[0m \u001b[0mTensor\u001b[0m\u001b[0;34m:\u001b[0m\u001b[0;34m\u001b[0m\u001b[0;34m\u001b[0m\u001b[0m\n\u001b[0;32m--> 463\u001b[0;31m         \u001b[0;32mreturn\u001b[0m \u001b[0mself\u001b[0m\u001b[0;34m.\u001b[0m\u001b[0m_conv_forward\u001b[0m\u001b[0;34m(\u001b[0m\u001b[0minput\u001b[0m\u001b[0;34m,\u001b[0m \u001b[0mself\u001b[0m\u001b[0;34m.\u001b[0m\u001b[0mweight\u001b[0m\u001b[0;34m,\u001b[0m \u001b[0mself\u001b[0m\u001b[0;34m.\u001b[0m\u001b[0mbias\u001b[0m\u001b[0;34m)\u001b[0m\u001b[0;34m\u001b[0m\u001b[0;34m\u001b[0m\u001b[0m\n\u001b[0m\u001b[1;32m    464\u001b[0m \u001b[0;34m\u001b[0m\u001b[0m\n\u001b[1;32m    465\u001b[0m \u001b[0;32mclass\u001b[0m \u001b[0mConv3d\u001b[0m\u001b[0;34m(\u001b[0m\u001b[0m_ConvNd\u001b[0m\u001b[0;34m)\u001b[0m\u001b[0;34m:\u001b[0m\u001b[0;34m\u001b[0m\u001b[0;34m\u001b[0m\u001b[0m\n",
            "\u001b[0;32m/usr/local/lib/python3.9/dist-packages/torch/nn/modules/conv.py\u001b[0m in \u001b[0;36m_conv_forward\u001b[0;34m(self, input, weight, bias)\u001b[0m\n\u001b[1;32m    457\u001b[0m                             \u001b[0mweight\u001b[0m\u001b[0;34m,\u001b[0m \u001b[0mbias\u001b[0m\u001b[0;34m,\u001b[0m \u001b[0mself\u001b[0m\u001b[0;34m.\u001b[0m\u001b[0mstride\u001b[0m\u001b[0;34m,\u001b[0m\u001b[0;34m\u001b[0m\u001b[0;34m\u001b[0m\u001b[0m\n\u001b[1;32m    458\u001b[0m                             _pair(0), self.dilation, self.groups)\n\u001b[0;32m--> 459\u001b[0;31m         return F.conv2d(input, weight, bias, self.stride,\n\u001b[0m\u001b[1;32m    460\u001b[0m                         self.padding, self.dilation, self.groups)\n\u001b[1;32m    461\u001b[0m \u001b[0;34m\u001b[0m\u001b[0m\n",
            "\u001b[0;31mKeyboardInterrupt\u001b[0m: "
          ]
        }
      ]
    },
    {
      "cell_type": "markdown",
      "source": [
        "Below we reprint the parameters of the layer to be replaced to verify the point mentionned above. Ok: the test shows that the parameters don't change. So we can now iterate over the different mergings"
      ],
      "metadata": {
        "id": "w77BVfAYbn4T"
      }
    },
    {
      "cell_type": "code",
      "source": [
        "for param in partsOfSimpleModellist[2][\"Layer to be replaced\"].parameters():\n",
        "  print(param)"
      ],
      "metadata": {
        "colab": {
          "base_uri": "https://localhost:8080/"
        },
        "id": "HN9Y_kyTbmsC",
        "outputId": "61608438-ca66-43e4-87e5-fc619bb381d1"
      },
      "execution_count": 16,
      "outputs": [
        {
          "output_type": "stream",
          "name": "stdout",
          "text": [
            "Parameter containing:\n",
            "tensor([[[[ 1.3372e-02, -3.1427e-02, -1.6405e-02],\n",
            "          [-2.0707e-02, -6.9178e-03, -3.8140e-02],\n",
            "          [ 3.9862e-03, -5.3280e-03, -3.3745e-02]],\n",
            "\n",
            "         [[ 1.7648e-02, -2.2438e-04, -1.7156e-02],\n",
            "          [ 1.6294e-02,  1.7396e-02, -1.7971e-02],\n",
            "          [-1.4135e-02, -2.8024e-02,  2.9848e-02]],\n",
            "\n",
            "         [[-3.5444e-02, -4.1375e-02,  1.9934e-02],\n",
            "          [ 2.2304e-02, -4.0307e-03, -1.5113e-02],\n",
            "          [ 2.8151e-02, -2.1770e-02,  2.3120e-02]],\n",
            "\n",
            "         ...,\n",
            "\n",
            "         [[-2.3492e-02,  2.4440e-02,  1.4556e-02],\n",
            "          [ 1.5384e-02,  2.5452e-02,  1.9959e-02],\n",
            "          [-4.1793e-03,  6.0584e-03,  2.5752e-02]],\n",
            "\n",
            "         [[ 8.1976e-03, -2.1130e-02, -1.4067e-02],\n",
            "          [-2.1659e-02, -3.4016e-02,  3.4985e-04],\n",
            "          [-9.4928e-03,  3.7193e-02,  2.5763e-02]],\n",
            "\n",
            "         [[ 1.8241e-02,  4.4314e-03, -3.4476e-03],\n",
            "          [-2.5362e-02,  5.8923e-03,  1.8596e-02],\n",
            "          [ 1.4220e-02,  3.7322e-03,  2.1835e-02]]],\n",
            "\n",
            "\n",
            "        [[[-7.4577e-03, -1.4177e-02,  2.1266e-02],\n",
            "          [-8.9301e-03,  2.4112e-02, -2.2737e-02],\n",
            "          [ 1.3105e-02, -1.2768e-02,  1.3872e-02]],\n",
            "\n",
            "         [[-2.1534e-02, -3.2644e-03, -1.3378e-03],\n",
            "          [-5.4982e-03, -2.5775e-02, -4.1958e-03],\n",
            "          [ 2.2468e-02, -2.5139e-02,  1.5109e-02]],\n",
            "\n",
            "         [[-2.5063e-02,  1.5022e-02,  2.5161e-02],\n",
            "          [ 1.4862e-04,  2.2355e-02, -2.6309e-02],\n",
            "          [ 2.3850e-02,  2.7522e-02,  1.1425e-02]],\n",
            "\n",
            "         ...,\n",
            "\n",
            "         [[ 2.0943e-03, -2.4264e-02,  2.4855e-02],\n",
            "          [-1.5233e-02, -1.8844e-02, -1.3423e-02],\n",
            "          [-1.6170e-02,  2.3059e-02,  1.0896e-02]],\n",
            "\n",
            "         [[ 8.8514e-04,  5.6940e-04, -2.3804e-02],\n",
            "          [ 2.3933e-02,  2.1894e-02,  1.6785e-02],\n",
            "          [ 2.5869e-02, -2.1112e-02,  1.2316e-03]],\n",
            "\n",
            "         [[-1.7431e-02, -4.3356e-03, -5.0872e-04],\n",
            "          [-2.1635e-02, -2.6432e-02, -1.2627e-02],\n",
            "          [ 2.3976e-02,  4.9387e-03, -2.3344e-03]]],\n",
            "\n",
            "\n",
            "        [[[ 1.4086e-02,  2.8447e-02, -3.7773e-03],\n",
            "          [ 6.7216e-03, -1.0973e-03,  7.2866e-03],\n",
            "          [ 1.6532e-02, -1.0653e-02,  6.3518e-03]],\n",
            "\n",
            "         [[-1.9327e-02, -7.3953e-03,  1.2486e-02],\n",
            "          [-1.1988e-03, -1.5222e-02, -2.2895e-02],\n",
            "          [ 7.6157e-03,  1.5118e-02,  2.4398e-02]],\n",
            "\n",
            "         [[-2.2306e-02, -2.2516e-02, -2.0085e-02],\n",
            "          [ 1.0367e-02, -1.4936e-02, -2.4903e-02],\n",
            "          [-1.3436e-02, -2.8964e-04, -9.1689e-03]],\n",
            "\n",
            "         ...,\n",
            "\n",
            "         [[ 2.3071e-02,  5.7488e-03, -2.6158e-02],\n",
            "          [-6.1692e-03,  1.6893e-02,  9.2621e-03],\n",
            "          [ 1.3052e-02,  8.9302e-03,  1.5601e-02]],\n",
            "\n",
            "         [[-1.2377e-02,  1.2911e-02, -1.1509e-02],\n",
            "          [-1.1514e-02, -2.1343e-02,  1.0354e-02],\n",
            "          [ 3.5036e-02,  1.6752e-02,  3.3233e-03]],\n",
            "\n",
            "         [[-1.5473e-02,  1.4865e-02, -2.0430e-02],\n",
            "          [ 4.2731e-03, -1.5730e-03, -2.0425e-02],\n",
            "          [-4.8872e-03, -1.3193e-02,  8.0824e-03]]],\n",
            "\n",
            "\n",
            "        ...,\n",
            "\n",
            "\n",
            "        [[[ 1.8728e-02,  8.8747e-03, -3.9386e-03],\n",
            "          [-3.0319e-02, -1.2348e-02, -9.8066e-03],\n",
            "          [-3.9928e-03, -1.3018e-02, -1.4771e-03]],\n",
            "\n",
            "         [[ 2.1984e-03, -1.3498e-02, -1.6197e-02],\n",
            "          [-1.5763e-02, -2.8967e-02, -2.6799e-03],\n",
            "          [-1.7803e-02, -1.7011e-02,  6.8425e-03]],\n",
            "\n",
            "         [[-3.0893e-02,  1.0068e-02, -4.4219e-03],\n",
            "          [ 2.0477e-02, -7.0420e-03,  7.1158e-03],\n",
            "          [ 1.3492e-02,  2.0668e-02,  1.8880e-02]],\n",
            "\n",
            "         ...,\n",
            "\n",
            "         [[ 1.9413e-02,  2.8791e-02,  3.8265e-02],\n",
            "          [ 3.4823e-02, -2.0164e-03, -2.6560e-02],\n",
            "          [-2.1692e-02, -1.2886e-02, -1.1691e-02]],\n",
            "\n",
            "         [[-3.0507e-02, -8.7151e-03, -2.9622e-02],\n",
            "          [ 2.9551e-02, -2.0316e-02, -8.9000e-03],\n",
            "          [-2.4258e-02, -1.4544e-02,  1.4785e-02]],\n",
            "\n",
            "         [[ 1.4324e-02, -9.0427e-03, -3.0676e-02],\n",
            "          [ 6.1247e-04, -3.2801e-02, -7.5122e-03],\n",
            "          [ 2.8696e-02, -4.6097e-03, -2.2546e-02]]],\n",
            "\n",
            "\n",
            "        [[[ 1.3596e-02, -6.0599e-03, -4.7752e-03],\n",
            "          [ 5.1274e-03, -2.8492e-02,  1.4445e-02],\n",
            "          [ 7.7897e-03, -5.1772e-03,  9.0383e-03]],\n",
            "\n",
            "         [[-2.6611e-02,  7.7309e-03,  2.5424e-03],\n",
            "          [ 2.7943e-02, -5.7980e-03,  9.7784e-03],\n",
            "          [-1.0238e-02, -6.0653e-03,  1.4364e-02]],\n",
            "\n",
            "         [[-1.4873e-02,  1.9796e-02,  8.4698e-03],\n",
            "          [-9.7667e-03,  1.4576e-02, -1.8865e-02],\n",
            "          [-3.1180e-03,  9.1017e-03, -7.3807e-03]],\n",
            "\n",
            "         ...,\n",
            "\n",
            "         [[-1.6557e-02, -2.2740e-02, -2.5227e-02],\n",
            "          [-2.0422e-02,  4.9460e-04,  3.8518e-02],\n",
            "          [-2.9095e-02,  1.3823e-03, -1.0038e-02]],\n",
            "\n",
            "         [[ 1.1216e-02, -2.7919e-02, -2.0102e-02],\n",
            "          [-3.0396e-02, -2.8993e-02, -1.3878e-02],\n",
            "          [-2.9268e-02, -1.3201e-02,  1.6250e-02]],\n",
            "\n",
            "         [[ 5.4295e-03, -3.6969e-02, -1.9285e-02],\n",
            "          [ 1.8019e-02,  2.2686e-02,  2.7966e-03],\n",
            "          [-1.7999e-02,  2.6147e-03,  1.1414e-02]]],\n",
            "\n",
            "\n",
            "        [[[-1.3235e-02, -1.6589e-02,  1.4412e-02],\n",
            "          [ 1.0808e-02, -2.2209e-02, -3.6950e-03],\n",
            "          [ 9.5445e-04, -1.1063e-02, -3.6029e-03]],\n",
            "\n",
            "         [[-1.1917e-05,  1.8024e-02, -1.7222e-02],\n",
            "          [ 2.4669e-02, -8.5659e-04,  2.3012e-02],\n",
            "          [-1.3381e-02,  2.4400e-02,  1.0634e-02]],\n",
            "\n",
            "         [[ 1.7603e-02,  3.1937e-02,  1.1725e-02],\n",
            "          [-7.2118e-03, -2.8448e-02,  9.3075e-03],\n",
            "          [ 1.9969e-04, -1.0418e-02, -1.6985e-02]],\n",
            "\n",
            "         ...,\n",
            "\n",
            "         [[-3.0315e-02, -8.4280e-03, -2.2595e-02],\n",
            "          [-2.5586e-02, -1.2395e-02, -2.0134e-02],\n",
            "          [-2.3771e-02, -3.7367e-03,  3.4619e-03]],\n",
            "\n",
            "         [[ 8.9420e-03, -2.0099e-03,  4.2938e-03],\n",
            "          [-2.7405e-02,  1.6095e-02,  1.3279e-02],\n",
            "          [-1.6632e-02, -7.9889e-03, -2.8065e-02]],\n",
            "\n",
            "         [[-1.9686e-02, -2.6478e-02, -1.6758e-02],\n",
            "          [-4.8783e-03,  1.5436e-02,  3.9755e-02],\n",
            "          [-1.8206e-04, -9.8494e-03,  3.3967e-02]]]])\n",
            "Parameter containing:\n",
            "tensor([ 6.2310e-03, -1.4116e-02, -1.2383e-02,  4.4189e-02, -1.7837e-02,\n",
            "         1.1388e-02, -1.5401e-02, -2.4815e-03, -3.4026e-02, -2.2540e-02,\n",
            "         1.8624e-02, -9.0861e-02,  4.3830e-02, -1.6826e-02, -5.5592e-02,\n",
            "        -6.7757e-02, -1.0117e-01, -1.9062e-02,  7.0260e-02, -3.7260e-02,\n",
            "        -2.1526e-02, -2.4827e-02, -1.0606e-02,  9.1347e-03,  1.2433e-02,\n",
            "        -2.4413e-02,  8.2154e-02, -3.3927e-02,  1.1902e-03,  7.1050e-02,\n",
            "        -4.5903e-02, -4.7927e-02, -6.9824e-02,  6.7842e-02,  1.8781e-02,\n",
            "        -9.6357e-03, -2.9117e-03, -3.3586e-02, -7.3267e-02,  3.7146e-02,\n",
            "         3.0371e-02,  2.3144e-02,  9.4904e-02,  1.4383e-02, -4.7101e-03,\n",
            "         2.9421e-02, -2.9382e-02, -5.8265e-02,  7.3165e-03,  3.8360e-02,\n",
            "        -3.0239e-02,  6.0104e-02, -1.0176e-01, -7.3613e-02,  7.3631e-02,\n",
            "        -1.3518e-02,  5.2123e-02,  4.5855e-02,  1.6005e-02, -5.4135e-02,\n",
            "        -4.8937e-03,  6.6828e-02, -3.7005e-02, -2.9724e-02, -1.2379e-01,\n",
            "         6.4452e-03,  4.9750e-02, -5.2430e-02,  3.3974e-04,  3.2365e-02,\n",
            "         1.0421e-02, -6.4946e-02,  2.0661e-05, -2.0386e-02,  3.2560e-02,\n",
            "         1.9839e-02, -6.7260e-03, -2.5918e-02, -8.4667e-02, -1.4904e-02,\n",
            "        -1.5042e-02, -1.8862e-02, -5.5106e-02, -8.9365e-03, -5.0430e-02,\n",
            "         8.0797e-03, -4.1468e-02, -1.3005e-02, -2.3099e-02,  6.6883e-02,\n",
            "        -9.1970e-02,  8.1132e-02,  1.8245e-02,  8.5841e-02,  1.4478e-02,\n",
            "         1.4978e-02,  4.1238e-02, -2.6171e-02,  1.5385e-02, -7.3643e-02,\n",
            "        -3.5123e-02, -3.3815e-02,  7.5787e-02, -2.7556e-03,  6.5518e-03,\n",
            "        -8.0273e-02,  1.7463e-02, -7.9894e-02, -1.1150e-02, -2.4554e-02,\n",
            "        -7.9187e-02,  4.4293e-02, -7.8830e-03, -1.4338e-02, -5.2985e-02,\n",
            "         1.3117e-02, -3.8131e-02,  4.3314e-02,  1.6677e-02, -3.9195e-02,\n",
            "         8.5263e-02, -5.5186e-02,  1.7532e-02, -4.2829e-02,  6.2345e-02,\n",
            "         1.7651e-03,  2.2237e-02, -2.9969e-02, -8.9480e-03, -1.1424e-01,\n",
            "        -5.4295e-02,  2.3005e-02,  1.2453e-02, -2.2793e-02,  2.6674e-02,\n",
            "        -1.7762e-02, -4.4001e-02,  5.8868e-02, -5.1220e-02, -3.3096e-02,\n",
            "         6.5231e-02, -3.0257e-02,  5.9347e-02,  3.7172e-02, -2.8747e-02,\n",
            "        -1.7014e-02,  8.1899e-02,  1.5674e-02, -3.7344e-02, -6.6999e-02,\n",
            "        -2.3688e-02,  2.8609e-03, -1.6731e-02,  1.4706e-02, -3.5700e-02,\n",
            "        -5.6211e-03, -8.8575e-03,  3.7028e-02, -2.7359e-02,  8.1471e-02,\n",
            "         1.4935e-02, -6.3760e-02, -2.8247e-02, -2.2223e-02, -1.1189e-02,\n",
            "         9.1129e-03, -1.6042e-02,  2.2407e-02, -6.4633e-02,  6.4200e-03,\n",
            "        -4.6358e-02, -1.8703e-02, -1.1557e-01, -9.0792e-02,  8.7243e-03,\n",
            "         5.4897e-02,  7.9695e-03, -4.8134e-04, -5.2083e-02,  4.0906e-02,\n",
            "         6.0193e-02, -1.2173e-02,  1.0149e-01,  7.0437e-02, -8.6918e-02,\n",
            "         3.6287e-02, -1.7718e-02,  6.0969e-02,  2.9049e-03,  7.0259e-02,\n",
            "        -2.7430e-04,  1.2461e-02, -4.1726e-02, -9.7940e-02,  1.1247e-02,\n",
            "         1.8313e-02,  1.6776e-02, -9.9340e-04,  1.3802e-02, -7.6255e-02,\n",
            "         3.7636e-02, -3.4744e-02, -8.5197e-02,  2.8778e-02,  1.0560e-02,\n",
            "        -1.8923e-02, -2.7617e-02, -4.9373e-02, -2.7974e-02, -8.8548e-02,\n",
            "        -2.8834e-02, -3.7981e-02, -4.1868e-02, -4.5260e-02,  7.3913e-02,\n",
            "        -4.2987e-02,  3.8887e-02, -1.2823e-02, -1.7323e-02, -3.8250e-02,\n",
            "        -6.3018e-03,  2.0911e-02, -4.7356e-02,  6.8171e-02, -5.0851e-03,\n",
            "        -2.5367e-02, -2.0709e-03, -6.5768e-04, -1.1796e-01,  3.6408e-02,\n",
            "         4.6455e-02, -8.2512e-03,  1.7834e-03,  7.5428e-03,  2.1744e-03,\n",
            "        -8.1417e-02,  1.1668e-02,  2.5736e-02, -6.1526e-02,  3.1676e-03,\n",
            "        -6.7157e-03, -8.7058e-02, -6.6029e-03,  1.1920e-02, -2.4824e-02,\n",
            "         1.1033e-02,  2.7582e-02,  3.0039e-02,  3.6060e-02, -5.6653e-02,\n",
            "         1.3583e-02, -1.8321e-01, -1.7019e-02,  1.4745e-02,  8.4598e-02,\n",
            "        -4.3075e-02])\n"
          ]
        }
      ]
    },
    {
      "cell_type": "markdown",
      "source": [
        "Below we verify that the accuracy of the merged network after training"
      ],
      "metadata": {
        "id": "ovTcpjo4Y8Ch"
      }
    },
    {
      "cell_type": "code",
      "source": [
        "correct = 0\n",
        "total = 0\n",
        "index = 0\n",
        "# since we're not training, we don't need to calculate the gradients for our outputs\n",
        "with torch.no_grad():\n",
        "    for data in testloader:\n",
        "        images, labels = data\n",
        "        # calculate outputs by running images through the network\n",
        "        outputs = someMergedNetwork(images)\n",
        "        # the class with the highest energy is what we choose as prediction\n",
        "        if(index % 100 == 99):\n",
        "          print(\"index: \", index)\n",
        "        index = index + 1\n",
        "        _, predicted = torch.max(outputs.data, 1)\n",
        "        total += labels.size(0)\n",
        "        correct += (predicted == labels).sum().item()\n",
        "\n",
        "print(f'Accuracy of the network on the 10000 test images: {100 * correct // total} %')"
      ],
      "metadata": {
        "colab": {
          "base_uri": "https://localhost:8080/"
        },
        "id": "kxqrjVbzY7uG",
        "outputId": "b8b56316-5488-4233-b70d-63c0947ba734"
      },
      "execution_count": null,
      "outputs": [
        {
          "output_type": "stream",
          "name": "stdout",
          "text": [
            "index:  99\n",
            "index:  199\n",
            "index:  299\n",
            "index:  399\n",
            "index:  499\n",
            "index:  599\n",
            "index:  699\n",
            "index:  799\n",
            "index:  899\n",
            "index:  999\n",
            "index:  1099\n",
            "index:  1199\n",
            "index:  1299\n",
            "index:  1399\n",
            "index:  1499\n",
            "index:  1599\n",
            "index:  1699\n",
            "index:  1799\n",
            "index:  1899\n",
            "index:  1999\n",
            "index:  2099\n",
            "index:  2199\n",
            "index:  2299\n",
            "index:  2399\n",
            "index:  2499\n",
            "Accuracy of the network on the 10000 test images: 48 %\n"
          ]
        }
      ]
    },
    {
      "cell_type": "markdown",
      "source": [
        "We see that the accuracy is higher. This is either due to the input of the Imagenet network; or simply because the part of layer (G) that takes input from the lower part of simpleModel was trained for a longer period of time"
      ],
      "metadata": {
        "id": "k-YrjCC2d2Wt"
      }
    },
    {
      "cell_type": "code",
      "source": [],
      "metadata": {
        "id": "cfpJ9EeMY6yP"
      },
      "execution_count": null,
      "outputs": []
    },
    {
      "cell_type": "code",
      "source": [
        "print(\"parameters of the merged network after training: \")\n",
        "print(someMergedNetwork.lowerLayersOfSimpleModel[4])\n",
        "for param in someMergedNetwork.newConvolutionLayer.parameters():\n",
        "  print(param)"
      ],
      "metadata": {
        "colab": {
          "base_uri": "https://localhost:8080/"
        },
        "id": "R4qB0eiu4gWv",
        "outputId": "c4bd5480-f388-4924-c526-f832520f2c16"
      },
      "execution_count": null,
      "outputs": [
        {
          "output_type": "stream",
          "name": "stdout",
          "text": [
            "parameters of the merged network after training: \n",
            "Conv2d(32, 64, kernel_size=(3, 3), stride=(1, 1), padding=same)\n",
            "Parameter containing:\n",
            "tensor([[[[-1.1288e-03, -1.2054e-04,  9.8278e-04],\n",
            "          [-1.4299e-03,  4.3415e-04,  1.2591e-03],\n",
            "          [-8.0623e-04,  4.0139e-04,  3.1222e-04]],\n",
            "\n",
            "         [[-6.1321e-04,  1.0838e-03,  2.5719e-03],\n",
            "          [-2.2299e-03, -5.5930e-05,  1.4763e-03],\n",
            "          [-1.7295e-03,  1.3333e-05,  6.6627e-04]],\n",
            "\n",
            "         [[-1.5124e-03,  1.4078e-03,  2.0808e-03],\n",
            "          [-1.6405e-03,  5.8091e-04,  1.5194e-03],\n",
            "          [-1.5950e-03,  4.1198e-04,  2.0885e-03]],\n",
            "\n",
            "         ...,\n",
            "\n",
            "         [[ 2.6798e-02,  6.3823e-04,  1.3794e-02],\n",
            "          [ 2.5925e-02, -2.0631e-02,  6.4760e-03],\n",
            "          [-2.4157e-02, -2.3346e-02,  2.6497e-02]],\n",
            "\n",
            "         [[-1.8135e-02, -1.0382e-02, -2.7544e-02],\n",
            "          [ 1.1611e-02, -1.8545e-02, -8.9416e-03],\n",
            "          [ 7.1029e-03,  2.9405e-02, -1.7268e-02]],\n",
            "\n",
            "         [[-7.3241e-03, -5.3081e-03, -1.6965e-02],\n",
            "          [ 8.0249e-03,  2.9948e-03, -1.6056e-02],\n",
            "          [ 2.0137e-02, -3.9599e-03, -1.7814e-02]]],\n",
            "\n",
            "\n",
            "        [[[-3.1726e-04, -3.2090e-04, -4.4158e-04],\n",
            "          [-5.1119e-04, -2.8824e-04, -5.0779e-04],\n",
            "          [-3.9382e-04,  2.5061e-05, -4.6502e-04]],\n",
            "\n",
            "         [[-5.7010e-04, -7.7925e-04, -1.8656e-04],\n",
            "          [-4.1568e-04, -1.1102e-03, -3.1108e-04],\n",
            "          [-3.3284e-04, -4.7406e-04, -5.4641e-05]],\n",
            "\n",
            "         [[-3.3588e-04, -4.5344e-04, -7.5071e-04],\n",
            "          [-6.1013e-04, -8.9882e-04, -1.2059e-03],\n",
            "          [-3.7321e-04, -6.2562e-04, -4.7476e-04]],\n",
            "\n",
            "         ...,\n",
            "\n",
            "         [[ 1.5863e-03,  2.7395e-02,  2.3894e-04],\n",
            "          [-2.5209e-02, -1.0362e-02, -1.4162e-02],\n",
            "          [-1.9369e-02,  5.9328e-03, -2.2218e-02]],\n",
            "\n",
            "         [[-2.7836e-03, -1.9877e-02, -1.4139e-02],\n",
            "          [-2.8710e-02, -4.7730e-03, -2.8840e-02],\n",
            "          [-2.3410e-02, -1.5593e-02, -9.4395e-03]],\n",
            "\n",
            "         [[ 3.9863e-03, -1.7866e-02,  8.2914e-03],\n",
            "          [ 2.8220e-02, -9.7837e-03, -1.9812e-02],\n",
            "          [ 5.7730e-03, -2.6992e-02, -1.7343e-02]]],\n",
            "\n",
            "\n",
            "        [[[-7.5987e-04, -3.5254e-04, -3.0734e-04],\n",
            "          [-1.0820e-04, -6.5884e-04,  3.6768e-04],\n",
            "          [-2.2290e-04, -1.5320e-04, -3.6308e-04]],\n",
            "\n",
            "         [[-5.1030e-04, -7.3907e-05, -1.2837e-04],\n",
            "          [-1.1069e-04, -3.9982e-04, -1.4872e-04],\n",
            "          [-1.6732e-04, -3.9060e-04, -1.4124e-04]],\n",
            "\n",
            "         [[-4.6034e-04, -2.7496e-04, -8.1513e-05],\n",
            "          [-6.3974e-04, -9.4445e-04, -3.9927e-04],\n",
            "          [-2.9211e-04, -7.4772e-04, -5.0610e-04]],\n",
            "\n",
            "         ...,\n",
            "\n",
            "         [[ 1.1898e-03,  9.1583e-03,  1.6763e-02],\n",
            "          [-9.9206e-04, -2.8155e-02,  5.8883e-03],\n",
            "          [-2.9175e-02,  1.8001e-02, -2.2072e-02]],\n",
            "\n",
            "         [[ 6.6422e-03,  2.3758e-02, -2.1804e-02],\n",
            "          [ 2.8628e-02, -7.2866e-03,  2.0595e-03],\n",
            "          [ 1.3297e-02, -2.6708e-02, -2.5842e-02]],\n",
            "\n",
            "         [[-3.3323e-03, -8.2515e-03, -3.0668e-03],\n",
            "          [-1.6992e-02,  2.7674e-02, -2.2024e-02],\n",
            "          [-7.1122e-03,  2.3059e-02,  1.5484e-02]]],\n",
            "\n",
            "\n",
            "        ...,\n",
            "\n",
            "\n",
            "        [[[-4.7365e-04, -7.5644e-04, -3.8816e-04],\n",
            "          [-5.3021e-04, -7.2934e-04, -4.2321e-04],\n",
            "          [-6.5472e-04, -5.7126e-04, -5.0572e-04]],\n",
            "\n",
            "         [[-2.9913e-04, -2.8657e-04, -3.3771e-04],\n",
            "          [-3.6767e-04, -5.1246e-04, -3.5973e-04],\n",
            "          [-4.6079e-04, -5.6294e-05, -3.7610e-04]],\n",
            "\n",
            "         [[-5.4145e-04, -7.1927e-04, -4.7367e-04],\n",
            "          [-7.0074e-04, -6.4157e-04, -7.4730e-04],\n",
            "          [-4.7344e-04, -7.4448e-04, -5.9140e-04]],\n",
            "\n",
            "         ...,\n",
            "\n",
            "         [[ 1.3273e-02, -2.0373e-02, -1.8525e-02],\n",
            "          [ 1.7546e-02, -4.3376e-03,  2.6544e-02],\n",
            "          [-2.8336e-02, -1.8212e-02,  1.7607e-02]],\n",
            "\n",
            "         [[-1.6515e-02, -4.7437e-03,  1.4919e-02],\n",
            "          [ 2.0768e-02,  2.8236e-02,  4.2658e-03],\n",
            "          [-2.5256e-02,  2.0902e-02,  5.3007e-03]],\n",
            "\n",
            "         [[-6.9476e-03,  2.9045e-02,  2.2689e-02],\n",
            "          [-1.7973e-02, -7.9474e-03,  5.5264e-03],\n",
            "          [-1.1714e-02,  1.4985e-03, -2.6894e-02]]],\n",
            "\n",
            "\n",
            "        [[[-1.6220e-03, -1.9575e-03, -2.1428e-03],\n",
            "          [ 1.1764e-03,  6.6784e-04,  2.0696e-03],\n",
            "          [ 1.0433e-03,  9.3782e-04,  1.9353e-03]],\n",
            "\n",
            "         [[-1.9759e-03, -2.1946e-03, -1.7586e-03],\n",
            "          [ 1.0440e-03,  2.6703e-03,  2.5038e-03],\n",
            "          [ 8.7157e-05,  8.6944e-04,  7.5813e-04]],\n",
            "\n",
            "         [[-1.8909e-03, -2.5851e-03, -2.3745e-03],\n",
            "          [ 6.7867e-04,  5.1199e-04,  1.0113e-03],\n",
            "          [ 1.5727e-03,  2.3738e-03,  2.1833e-03]],\n",
            "\n",
            "         ...,\n",
            "\n",
            "         [[ 2.8484e-02, -1.2245e-02,  1.1233e-02],\n",
            "          [ 1.0060e-02,  2.8741e-02, -1.0261e-02],\n",
            "          [-6.2773e-03, -2.1324e-02, -2.4562e-02]],\n",
            "\n",
            "         [[ 1.8220e-02, -4.3717e-03,  9.8750e-03],\n",
            "          [-1.6632e-02, -2.1293e-02,  2.9515e-02],\n",
            "          [-1.7642e-02, -2.1856e-02, -1.7205e-02]],\n",
            "\n",
            "         [[ 1.2213e-02,  2.6541e-02, -7.0136e-03],\n",
            "          [-1.8700e-02,  7.9160e-03, -2.3901e-02],\n",
            "          [-2.1012e-02, -2.4433e-02, -7.8729e-03]]],\n",
            "\n",
            "\n",
            "        [[[ 6.7113e-04,  4.9766e-04,  6.5780e-04],\n",
            "          [-4.2976e-04, -3.2088e-04, -4.3080e-04],\n",
            "          [-1.2374e-03, -2.0658e-03, -1.1259e-03]],\n",
            "\n",
            "         [[ 3.2074e-04,  1.6536e-04, -1.1408e-03],\n",
            "          [ 9.0991e-05, -1.2070e-03, -1.6230e-03],\n",
            "          [-8.6683e-04, -4.9626e-04, -1.9077e-03]],\n",
            "\n",
            "         [[ 1.6283e-03,  1.7257e-03,  1.5669e-03],\n",
            "          [ 5.1021e-04,  4.0406e-04,  4.6891e-04],\n",
            "          [-1.5036e-03, -2.0027e-03, -1.0121e-03]],\n",
            "\n",
            "         ...,\n",
            "\n",
            "         [[ 6.0938e-04,  1.0694e-02, -1.5684e-02],\n",
            "          [ 1.7429e-02,  1.9938e-02,  3.0127e-03],\n",
            "          [ 2.1126e-02, -1.7848e-02,  4.7864e-03]],\n",
            "\n",
            "         [[ 2.6869e-02, -1.0029e-02, -2.3354e-02],\n",
            "          [ 1.6198e-03, -5.2196e-03,  6.8453e-03],\n",
            "          [ 9.5979e-03,  1.4637e-02, -6.2461e-03]],\n",
            "\n",
            "         [[ 9.8266e-03, -1.2620e-04,  9.8979e-03],\n",
            "          [ 2.6588e-02, -2.3354e-02,  5.9184e-03],\n",
            "          [ 8.9799e-03,  2.5599e-02, -8.9898e-03]]]], requires_grad=True)\n",
            "Parameter containing:\n",
            "tensor([ 1.0933e-02, -1.8120e-02, -2.0623e-02,  2.0944e-02,  8.2971e-03,\n",
            "        -3.0086e-02,  1.2408e-02,  1.3591e-02,  2.3798e-02,  2.5360e-02,\n",
            "         5.1919e-03,  3.7928e-02,  1.6784e-02,  2.1884e-02, -1.6173e-02,\n",
            "        -2.5279e-03,  5.5171e-03,  1.8981e-02, -1.5947e-02, -2.4467e-02,\n",
            "         7.0739e-03,  1.3736e-02,  4.0612e-02,  6.4172e-02, -3.2744e-02,\n",
            "         4.4876e-02, -1.8720e-02,  1.3533e-02,  4.6669e-02,  5.5931e-02,\n",
            "         2.3788e-03,  1.1882e-02,  5.1614e-02, -2.0219e-02, -2.8663e-02,\n",
            "         3.1837e-02, -8.4080e-03,  1.9148e-02,  5.0519e-02,  4.8474e-02,\n",
            "         1.1511e-02,  1.1265e-02, -1.8615e-02, -7.1361e-03,  3.7152e-02,\n",
            "         1.3565e-02,  1.6397e-04, -2.3391e-02,  1.7186e-04, -2.7441e-02,\n",
            "        -2.5961e-02,  5.9193e-02, -3.4509e-03, -2.0103e-03, -4.1559e-03,\n",
            "         5.4451e-02,  2.2876e-02,  1.7482e-02,  6.1214e-03, -5.6621e-03,\n",
            "         2.7912e-03,  1.8560e-02,  2.8665e-02,  2.4127e-02,  3.6879e-02,\n",
            "         2.9849e-02, -3.0694e-02,  5.7326e-03, -3.8145e-04, -1.4422e-02,\n",
            "        -3.1696e-03,  2.5578e-02, -2.2308e-02,  5.1561e-02, -1.1091e-02,\n",
            "        -6.1311e-03,  5.9581e-03,  6.0511e-02,  1.9164e-02,  6.9611e-04,\n",
            "        -2.1427e-02,  1.2377e-03, -4.4332e-03,  2.0570e-02, -1.0259e-02,\n",
            "         1.1601e-02, -1.7945e-02,  3.3023e-02,  3.8709e-02, -4.2353e-03,\n",
            "         1.6997e-03, -2.8056e-03, -4.7330e-03, -2.7363e-02,  3.3961e-02,\n",
            "         1.0388e-03,  1.4474e-02,  5.1317e-02,  2.5138e-02,  4.0623e-02,\n",
            "         1.4463e-02,  2.4022e-02,  9.5072e-04,  1.6286e-02,  3.2039e-03,\n",
            "        -3.3443e-02,  1.1189e-03, -6.2970e-03, -1.0320e-02,  3.8445e-02,\n",
            "         1.8768e-02,  2.6251e-02,  2.7638e-02,  1.1736e-02, -8.5772e-05,\n",
            "         3.5072e-02, -2.0437e-02, -2.8451e-02, -1.7903e-02,  2.4972e-03,\n",
            "         1.3310e-02,  3.6138e-02, -1.1114e-02,  3.4395e-02, -2.6195e-02,\n",
            "         2.4088e-02, -8.7134e-03,  2.4129e-02, -1.2287e-02, -2.4958e-03,\n",
            "         1.9463e-02,  4.2565e-02,  4.2823e-02, -3.1108e-02, -2.4729e-02,\n",
            "        -6.0444e-03, -1.0417e-02,  5.4783e-02,  3.6946e-02,  5.9886e-02,\n",
            "         2.1185e-02,  1.2164e-02, -1.0585e-02, -2.9818e-03, -1.4511e-02,\n",
            "         7.2899e-02,  4.8782e-02,  1.0342e-02,  1.8996e-03, -1.0003e-02,\n",
            "         7.5749e-03,  7.8634e-03,  1.5742e-02, -4.7326e-03, -1.4989e-02,\n",
            "        -2.7901e-02,  1.1662e-02,  5.6928e-02, -7.4034e-03,  1.6891e-02,\n",
            "         1.1990e-02, -2.6785e-02, -6.4533e-03,  1.1857e-02,  4.4595e-02,\n",
            "        -3.1845e-03, -1.9429e-02,  1.2823e-02,  6.3880e-04,  7.8613e-03,\n",
            "         2.1329e-02,  4.5517e-02,  4.9784e-02,  1.5373e-02, -2.9805e-02,\n",
            "        -7.0978e-03,  5.2118e-02,  2.4574e-02,  1.1825e-02,  2.4476e-02,\n",
            "         1.5806e-02,  1.6893e-02,  2.2731e-02,  2.5018e-03,  3.8588e-02,\n",
            "         1.8787e-02, -2.6057e-03,  3.9225e-02,  4.2845e-02,  7.3546e-03,\n",
            "         5.1160e-03, -1.8056e-02,  7.8217e-03,  1.9220e-02, -6.3954e-03,\n",
            "         2.3261e-02,  1.5924e-02,  1.1667e-02,  4.5401e-02,  8.6428e-03,\n",
            "         1.5104e-02, -1.1006e-02,  5.5261e-02,  1.4374e-02,  4.6710e-02,\n",
            "         8.1176e-03, -2.5090e-02, -3.1193e-02, -2.0149e-03,  3.7838e-02,\n",
            "        -7.8960e-03, -2.0668e-02,  4.9508e-02,  5.0037e-02,  1.7733e-02,\n",
            "         2.1062e-03,  1.5769e-02,  2.9226e-02,  1.1898e-02,  4.3974e-02,\n",
            "         3.2728e-02,  2.9821e-02,  6.4557e-03,  5.9500e-02,  7.7343e-03,\n",
            "        -9.9462e-04, -3.0617e-02,  7.0562e-02,  2.0193e-03, -2.4459e-02,\n",
            "         2.9905e-02,  2.2425e-02,  9.9833e-04, -6.3180e-03, -1.6409e-02,\n",
            "         1.5900e-02,  1.9731e-02,  2.1896e-02, -2.8838e-02,  6.7517e-02,\n",
            "         3.1951e-02, -1.0099e-03,  1.0989e-01, -1.8450e-02,  1.8166e-02,\n",
            "         5.8349e-03,  4.4271e-02,  2.1845e-02, -3.4305e-03,  3.0634e-03,\n",
            "        -7.7589e-03,  2.3463e-02,  2.3606e-02, -2.5274e-02,  1.6169e-02,\n",
            "         1.1400e-02], requires_grad=True)\n"
          ]
        }
      ]
    },
    {
      "cell_type": "code",
      "source": [
        "print(\"Parameters of the layer before it was retrained: \")\n",
        "for param in partsOfSimpleModellist[2][\"Layer to be replaced\"].parameters():\n",
        "  print(param)"
      ],
      "metadata": {
        "colab": {
          "base_uri": "https://localhost:8080/"
        },
        "id": "hAOww0rZ6RPG",
        "outputId": "21fb251c-c4f1-4faa-d579-4cbf9e545dbf"
      },
      "execution_count": null,
      "outputs": [
        {
          "output_type": "stream",
          "name": "stdout",
          "text": [
            "Parameters of the layer before it was retrained: \n",
            "Parameter containing:\n",
            "tensor([[[[-2.1794e-02,  2.5448e-02, -1.4800e-02],\n",
            "          [ 2.3352e-02, -2.5700e-03,  1.2604e-02],\n",
            "          [-1.2583e-03,  2.3367e-02, -9.5215e-03]],\n",
            "\n",
            "         [[ 5.7047e-03, -1.2149e-02,  5.1024e-03],\n",
            "          [-2.2566e-02,  2.2105e-02,  6.0029e-03],\n",
            "          [ 8.2327e-03,  3.6672e-03,  1.8248e-02]],\n",
            "\n",
            "         [[-1.3350e-02,  1.0676e-02, -2.3156e-02],\n",
            "          [ 1.5548e-02,  5.7915e-03,  2.0266e-02],\n",
            "          [-1.5809e-02,  1.9502e-02, -6.1629e-03]],\n",
            "\n",
            "         ...,\n",
            "\n",
            "         [[ 2.6944e-02, -1.0490e-04,  1.3424e-02],\n",
            "          [ 2.6385e-02, -2.0682e-02,  6.5690e-03],\n",
            "          [-2.3662e-02, -2.3869e-02,  2.6584e-02]],\n",
            "\n",
            "         [[-1.7163e-02, -1.1302e-02, -2.9280e-02],\n",
            "          [ 1.3582e-02, -1.9424e-02, -1.1468e-02],\n",
            "          [ 9.2988e-03,  2.9138e-02, -1.8315e-02]],\n",
            "\n",
            "         [[-7.2895e-03, -5.5265e-03, -1.7209e-02],\n",
            "          [ 8.0670e-03,  3.1458e-03, -1.6211e-02],\n",
            "          [ 2.0264e-02, -3.8840e-03, -1.7896e-02]]],\n",
            "\n",
            "\n",
            "        [[[-1.0927e-02, -3.4602e-03,  2.5449e-02],\n",
            "          [ 6.0299e-04,  1.0412e-02, -1.4616e-03],\n",
            "          [ 2.1166e-02,  1.6740e-02, -1.2280e-02]],\n",
            "\n",
            "         [[-1.4109e-02,  2.0575e-02,  1.6373e-02],\n",
            "          [-2.2673e-02, -8.0149e-03, -2.4600e-02],\n",
            "          [ 1.8224e-02, -2.5752e-03,  1.9923e-02]],\n",
            "\n",
            "         [[ 2.7248e-03,  1.7227e-02,  2.6276e-02],\n",
            "          [ 1.9632e-02,  1.0848e-02,  2.4042e-03],\n",
            "          [-3.9441e-03, -9.2521e-03,  1.7374e-04]],\n",
            "\n",
            "         ...,\n",
            "\n",
            "         [[ 1.6519e-03,  2.7597e-02,  2.9173e-04],\n",
            "          [-2.5104e-02, -1.0268e-02, -1.4096e-02],\n",
            "          [-1.9358e-02,  6.0371e-03, -2.2058e-02]],\n",
            "\n",
            "         [[-2.3205e-03, -1.9426e-02, -1.3892e-02],\n",
            "          [-2.8197e-02, -4.5152e-03, -2.8691e-02],\n",
            "          [-2.3085e-02, -1.5650e-02, -9.5979e-03]],\n",
            "\n",
            "         [[ 3.9850e-03, -1.7855e-02,  8.3036e-03],\n",
            "          [ 2.8204e-02, -9.7957e-03, -1.9781e-02],\n",
            "          [ 5.8233e-03, -2.6996e-02, -1.7343e-02]]],\n",
            "\n",
            "\n",
            "        [[[-1.1927e-02, -2.7120e-02,  1.6207e-02],\n",
            "          [-1.0596e-02,  1.4354e-02, -2.4742e-02],\n",
            "          [-1.9847e-02,  4.1314e-03,  1.7803e-02]],\n",
            "\n",
            "         [[ 7.4337e-03,  1.6908e-02,  2.9220e-02],\n",
            "          [-1.6978e-02,  1.1259e-02,  2.6834e-02],\n",
            "          [-1.1798e-02, -9.3971e-04,  2.8011e-02]],\n",
            "\n",
            "         [[ 2.8031e-03,  2.6678e-02, -2.8034e-02],\n",
            "          [-3.4452e-03,  2.3942e-02, -6.0481e-03],\n",
            "          [-2.8973e-02,  3.8702e-03, -2.4303e-02]],\n",
            "\n",
            "         ...,\n",
            "\n",
            "         [[ 1.2547e-03,  9.2604e-03,  1.6721e-02],\n",
            "          [-8.2433e-04, -2.8026e-02,  5.9357e-03],\n",
            "          [-2.9187e-02,  1.7999e-02, -2.2066e-02]],\n",
            "\n",
            "         [[ 6.6483e-03,  2.3824e-02, -2.1819e-02],\n",
            "          [ 2.8996e-02, -6.7500e-03,  2.0601e-03],\n",
            "          [ 1.3599e-02, -2.6190e-02, -2.5595e-02]],\n",
            "\n",
            "         [[-3.2856e-03, -8.2429e-03, -3.0432e-03],\n",
            "          [-1.6997e-02,  2.7640e-02, -2.2058e-02],\n",
            "          [-7.1049e-03,  2.2993e-02,  1.5459e-02]]],\n",
            "\n",
            "\n",
            "        ...,\n",
            "\n",
            "\n",
            "        [[[ 2.2977e-03,  2.0311e-02,  1.2875e-02],\n",
            "          [ 4.3286e-03,  1.3653e-02, -1.6166e-02],\n",
            "          [ 1.5350e-02,  6.4522e-03, -1.4855e-02]],\n",
            "\n",
            "         [[-1.6424e-02, -1.5899e-02, -6.5605e-04],\n",
            "          [ 7.9265e-03,  1.7346e-02, -1.2167e-02],\n",
            "          [ 1.9913e-02,  2.4914e-02, -1.6386e-02]],\n",
            "\n",
            "         [[-2.0828e-03, -1.0781e-02, -9.9908e-03],\n",
            "          [ 2.3202e-02,  1.8358e-02,  9.6369e-03],\n",
            "          [-2.4162e-02, -1.2332e-02, -1.4901e-02]],\n",
            "\n",
            "         ...,\n",
            "\n",
            "         [[ 1.3355e-02, -2.0295e-02, -1.8524e-02],\n",
            "          [ 1.7772e-02, -3.9463e-03,  2.6544e-02],\n",
            "          [-2.8239e-02, -1.8122e-02,  1.7611e-02]],\n",
            "\n",
            "         [[-1.6183e-02, -4.2131e-03,  1.5247e-02],\n",
            "          [ 2.1249e-02,  2.9151e-02,  4.8234e-03],\n",
            "          [-2.4976e-02,  2.1627e-02,  6.2062e-03]],\n",
            "\n",
            "         [[-6.9414e-03,  2.9121e-02,  2.2760e-02],\n",
            "          [-1.7950e-02, -7.9469e-03,  5.5922e-03],\n",
            "          [-1.1697e-02,  1.5884e-03, -2.6837e-02]]],\n",
            "\n",
            "\n",
            "        [[[-1.2100e-02,  9.3820e-03,  1.6690e-02],\n",
            "          [-1.8400e-02,  6.7676e-03,  1.2393e-02],\n",
            "          [ 4.3833e-03,  2.6250e-02, -2.8459e-02]],\n",
            "\n",
            "         [[-1.3609e-02,  2.4758e-02,  2.3078e-03],\n",
            "          [-1.6722e-02,  8.9221e-03,  1.5797e-03],\n",
            "          [-1.6237e-02, -1.9995e-02, -1.4691e-02]],\n",
            "\n",
            "         [[-8.5466e-04, -2.2944e-02, -1.2941e-03],\n",
            "          [ 9.5011e-03,  2.3202e-02,  9.5703e-03],\n",
            "          [ 1.8320e-02, -3.2110e-03,  5.6020e-03]],\n",
            "\n",
            "         ...,\n",
            "\n",
            "         [[ 2.8924e-02, -1.1593e-02,  1.1753e-02],\n",
            "          [ 1.0004e-02,  2.8518e-02, -1.0924e-02],\n",
            "          [-6.2780e-03, -2.1515e-02, -2.4744e-02]],\n",
            "\n",
            "         [[ 2.0347e-02, -2.0678e-03,  1.1869e-02],\n",
            "          [-1.7411e-02, -2.2858e-02,  2.7860e-02],\n",
            "          [-1.8985e-02, -2.4198e-02, -2.0107e-02]],\n",
            "\n",
            "         [[ 1.2210e-02,  2.6568e-02, -7.0590e-03],\n",
            "          [-1.8912e-02,  7.5545e-03, -2.4406e-02],\n",
            "          [-2.1100e-02, -2.4600e-02, -7.9155e-03]]],\n",
            "\n",
            "\n",
            "        [[[-1.7706e-03,  1.5264e-02, -1.8741e-02],\n",
            "          [ 6.7456e-05,  2.8607e-02,  1.5938e-02],\n",
            "          [ 1.4279e-02, -2.7769e-02,  1.1507e-02]],\n",
            "\n",
            "         [[ 1.1971e-02,  2.1007e-02,  1.7635e-02],\n",
            "          [ 1.2547e-02,  2.8176e-02, -1.2902e-03],\n",
            "          [ 6.3503e-03,  1.7124e-02,  1.7816e-02]],\n",
            "\n",
            "         [[-2.5884e-02, -2.6262e-02,  2.0787e-02],\n",
            "          [-1.2478e-02,  2.5401e-02, -2.1758e-02],\n",
            "          [-3.3265e-03,  1.2730e-03, -2.1472e-02]],\n",
            "\n",
            "         ...,\n",
            "\n",
            "         [[ 6.9268e-04,  1.0726e-02, -1.5672e-02],\n",
            "          [ 1.7482e-02,  1.9812e-02,  3.2176e-03],\n",
            "          [ 2.1011e-02, -1.7736e-02,  4.9650e-03]],\n",
            "\n",
            "         [[ 2.5824e-02, -1.0652e-02, -2.3797e-02],\n",
            "          [ 2.0201e-03, -4.1694e-03,  6.9285e-03],\n",
            "          [ 1.1619e-02,  1.6657e-02, -5.1485e-03]],\n",
            "\n",
            "         [[ 9.8951e-03,  7.3666e-05,  1.0113e-02],\n",
            "          [ 2.6634e-02, -2.3182e-02,  6.1016e-03],\n",
            "          [ 8.9595e-03,  2.5832e-02, -8.9708e-03]]]], requires_grad=True)\n",
            "Parameter containing:\n",
            "tensor([ 3.0210e-03, -1.3991e-02, -1.7514e-02,  2.1400e-02,  1.1934e-02,\n",
            "        -2.4286e-02, -1.9621e-02, -3.3075e-03,  1.6469e-02,  6.6064e-03,\n",
            "         7.2404e-03, -2.7834e-03, -1.6587e-02,  2.5812e-02, -1.8239e-02,\n",
            "         3.1841e-03, -4.0042e-03, -7.1370e-03, -1.8504e-02, -1.9597e-02,\n",
            "         1.6227e-02,  5.2189e-03,  1.4017e-02,  1.4723e-02, -2.9263e-02,\n",
            "         3.0901e-03, -2.0813e-02, -5.4743e-03,  2.3532e-02, -2.1951e-02,\n",
            "        -2.4392e-02,  1.8905e-02,  1.5794e-02, -1.3599e-02, -2.4888e-02,\n",
            "         7.2588e-03, -2.8003e-02, -1.3735e-02, -4.1918e-03,  2.1509e-02,\n",
            "         4.9982e-03,  1.0845e-02, -1.1817e-02, -2.3774e-02, -2.1911e-02,\n",
            "         1.2816e-02, -2.0455e-02, -2.0569e-02, -7.5815e-03, -2.7870e-02,\n",
            "        -2.4352e-02,  2.7952e-02, -1.3058e-02, -2.4958e-02, -9.2886e-03,\n",
            "         2.2596e-02, -2.9794e-03,  6.1432e-03, -9.4945e-03, -8.6682e-03,\n",
            "         9.0881e-03,  2.3841e-02,  2.9409e-02,  4.6968e-04,  2.8916e-02,\n",
            "         1.9002e-02, -2.3456e-02,  1.0690e-02, -2.0739e-03, -1.5573e-02,\n",
            "        -1.8458e-02, -1.9101e-02, -2.3075e-02,  2.4918e-02, -2.4788e-02,\n",
            "        -1.2857e-03, -1.0608e-02,  2.2761e-02, -9.7380e-05, -7.7053e-03,\n",
            "        -1.7871e-02,  1.1451e-02, -1.6964e-02,  7.5569e-03, -1.3077e-02,\n",
            "         3.0262e-03, -9.9747e-03,  2.4890e-02, -8.7704e-03, -2.4620e-02,\n",
            "         7.9224e-03, -2.0409e-02,  3.9205e-03, -2.7984e-02,  1.5455e-02,\n",
            "        -8.4502e-03,  3.8315e-04,  2.6626e-02,  5.4281e-03,  2.0396e-02,\n",
            "         2.3930e-02,  2.4681e-02,  8.1041e-03,  1.3941e-02, -2.1173e-02,\n",
            "        -2.8281e-02, -1.2599e-02, -6.4183e-03, -4.1370e-03,  1.9054e-02,\n",
            "         2.6204e-02,  4.7196e-03,  2.6745e-02, -7.6974e-03, -1.4969e-02,\n",
            "        -4.7117e-03, -1.6607e-02, -2.2904e-02, -1.2398e-02,  3.5726e-03,\n",
            "         2.0682e-02,  2.0157e-02, -1.9454e-02,  1.8320e-02, -2.4152e-02,\n",
            "        -8.4105e-03, -1.2346e-02,  2.6126e-02, -7.8522e-03,  4.6058e-03,\n",
            "         6.9492e-03,  1.8696e-02,  2.5438e-02, -2.9050e-02, -2.7976e-02,\n",
            "        -5.1536e-03, -1.3015e-02,  2.9319e-02,  2.5833e-02,  2.0598e-02,\n",
            "         2.7934e-02,  6.8012e-03, -4.6901e-03,  4.4461e-03, -1.8042e-02,\n",
            "         2.4689e-02,  2.7008e-02,  5.6162e-03, -2.0635e-02, -1.1418e-02,\n",
            "        -6.0671e-03,  2.7943e-03,  1.0838e-02, -4.1908e-03, -2.0138e-02,\n",
            "        -2.3450e-02, -2.6420e-03,  1.2818e-02, -1.3666e-02,  2.3027e-02,\n",
            "        -1.3814e-02, -1.8196e-02, -2.1443e-02,  1.1070e-02, -8.4144e-03,\n",
            "         4.2184e-03, -1.6019e-02,  1.1084e-02,  6.7103e-04, -2.4515e-02,\n",
            "         2.9074e-02, -1.8379e-02,  2.6290e-02, -1.5141e-02, -2.8305e-02,\n",
            "        -5.2916e-03,  2.6784e-02,  1.1888e-02,  1.1077e-02,  2.2102e-02,\n",
            "        -9.2761e-03, -1.9862e-03,  2.5043e-02, -1.6483e-03,  5.2461e-03,\n",
            "         2.5371e-02, -2.2263e-02, -4.6454e-04,  2.3903e-02, -5.0341e-03,\n",
            "         1.2662e-02, -1.2616e-02, -1.7134e-03,  2.8918e-02, -7.0463e-03,\n",
            "         2.9398e-02,  2.5447e-02,  1.7467e-03, -9.1373e-03,  1.5383e-02,\n",
            "        -1.9048e-02, -1.7754e-02, -1.3983e-02,  1.4629e-02,  2.4723e-02,\n",
            "         1.4036e-02, -2.1113e-02, -2.8603e-02, -1.1982e-02,  1.6672e-02,\n",
            "        -3.0363e-03, -2.7922e-02, -1.1734e-03,  9.9127e-03,  1.5379e-02,\n",
            "        -4.9592e-03,  4.6397e-03, -1.2397e-02, -3.7621e-03,  1.5938e-02,\n",
            "        -1.7895e-02,  2.1151e-02, -1.4654e-02, -1.8574e-03, -1.8536e-02,\n",
            "        -2.9357e-02, -2.8201e-02,  2.7805e-02, -8.4819e-04, -1.7950e-02,\n",
            "        -3.7109e-03,  4.4495e-03,  9.2457e-03, -5.8091e-03, -1.8092e-02,\n",
            "         2.2969e-02,  1.5844e-02,  2.3132e-02, -2.5888e-02,  1.4069e-02,\n",
            "         2.2285e-02,  4.5647e-03,  1.6212e-02, -1.3553e-02,  1.0446e-02,\n",
            "         1.5442e-02,  1.0588e-03, -9.1377e-03, -5.3699e-03, -5.7669e-03,\n",
            "        -1.2363e-02, -7.9752e-04,  1.2205e-02, -1.9910e-02,  7.6005e-03,\n",
            "         1.5141e-02], requires_grad=True)\n"
          ]
        }
      ]
    },
    {
      "cell_type": "code",
      "source": [
        "pip install wget"
      ],
      "metadata": {
        "colab": {
          "base_uri": "https://localhost:8080/"
        },
        "id": "u_J5d1hojusA",
        "outputId": "685d3e55-ece4-4647-8273-e4b4f72ad9bb"
      },
      "execution_count": null,
      "outputs": [
        {
          "output_type": "stream",
          "name": "stdout",
          "text": [
            "Looking in indexes: https://pypi.org/simple, https://us-python.pkg.dev/colab-wheels/public/simple/\n",
            "Collecting wget\n",
            "  Downloading wget-3.2.zip (10 kB)\n",
            "  Preparing metadata (setup.py) ... \u001b[?25l\u001b[?25hdone\n",
            "Building wheels for collected packages: wget\n",
            "  Building wheel for wget (setup.py) ... \u001b[?25l\u001b[?25hdone\n",
            "  Created wheel for wget: filename=wget-3.2-py3-none-any.whl size=9676 sha256=987436f8e0afbdb56d25ebf05b3c9514128b7f5bc472ff3916afcbac64d94954\n",
            "  Stored in directory: /root/.cache/pip/wheels/04/5f/3e/46cc37c5d698415694d83f607f833f83f0149e49b3af9d0f38\n",
            "Successfully built wget\n",
            "Installing collected packages: wget\n",
            "Successfully installed wget-3.2\n"
          ]
        }
      ]
    },
    {
      "cell_type": "code",
      "source": [
        "import wget\n",
        "\n",
        "url = \"http://cs231n.stanford.edu/tiny-imagenet-200.zip\"\n",
        "wget.download(url, \"./data/tiny-imagenet-200.zip\")\n",
        "\n",
        "import zipfile\n",
        "\n",
        "with zipfile.ZipFile(\"./data/tiny-imagenet-200.zip\", 'r') as zip_ref:\n",
        "    zip_ref.extractall(\"./data/tiny\")"
      ],
      "metadata": {
        "id": "M_6klarSizzP"
      },
      "execution_count": null,
      "outputs": []
    },
    {
      "cell_type": "code",
      "source": [
        "import os\n",
        "import numpy as np\n",
        "\n",
        "def load_labels():\n",
        "    label_file = os.path.join('./data/tiny/tiny-imagenet-200', 'words.txt')\n",
        "    with open(label_file) as f:\n",
        "        labels = dict(line.split('\\t') for line in f.readlines())\n",
        "    return labels\n",
        "\n",
        "labels = load_labels()"
      ],
      "metadata": {
        "id": "GUoWuwYiZdYM"
      },
      "execution_count": null,
      "outputs": []
    },
    {
      "cell_type": "code",
      "source": [
        "len(labels)"
      ],
      "metadata": {
        "colab": {
          "base_uri": "https://localhost:8080/"
        },
        "id": "rbY4875hZp7t",
        "outputId": "d0b9769b-7e8f-4652-aef7-9e240c5f8a6c"
      },
      "execution_count": null,
      "outputs": [
        {
          "output_type": "execute_result",
          "data": {
            "text/plain": [
              "82115"
            ]
          },
          "metadata": {},
          "execution_count": 25
        }
      ]
    },
    {
      "cell_type": "code",
      "source": [
        "import torchvision.datasets as datasets\n",
        "import torchvision.transforms as transforms\n",
        "\n",
        "# Define the path to the Tiny ImageNet dataset\n",
        "path = \"./data/tiny/tiny-imagenet-200\"\n",
        "\n",
        "# Define the image transformations\n",
        "transform = transforms.Compose([\n",
        "    transforms.Resize(256),\n",
        "    transforms.CenterCrop(224),\n",
        "    transforms.ToTensor(),\n",
        "    transforms.Normalize(\n",
        "        mean=[0.485, 0.456, 0.406],\n",
        "        std=[0.229, 0.224, 0.225]\n",
        "    )\n",
        "])\n",
        "\n",
        "# Load the Tiny ImageNet dataset\n",
        "tinyImageNetDataset = datasets.ImageFolder(path + \"/test\", transform=transform)\n",
        "trainLoaderImageNetDataset = torch.utils.data.DataLoader(tinyImageNetDataset, batch_size=4,\n",
        "                                          shuffle=True, num_workers=2)"
      ],
      "metadata": {
        "id": "tdwdY85RidPX"
      },
      "execution_count": null,
      "outputs": []
    },
    {
      "cell_type": "code",
      "source": [
        "imageNetModel = torchvision.models.resnet18(pretrained = True)"
      ],
      "metadata": {
        "id": "cyuBt2Bb00-m"
      },
      "execution_count": null,
      "outputs": []
    },
    {
      "cell_type": "code",
      "source": [],
      "metadata": {
        "colab": {
          "base_uri": "https://localhost:8080/"
        },
        "id": "uf_FnuS2fdOh",
        "outputId": "8dc96156-8d0c-4e77-e425-ec14c83efbcd"
      },
      "execution_count": null,
      "outputs": [
        {
          "output_type": "execute_result",
          "data": {
            "text/plain": [
              "Sequential(\n",
              "  (9): Linear(in_features=512, out_features=1000, bias=True)\n",
              ")"
            ]
          },
          "metadata": {},
          "execution_count": 44
        }
      ]
    },
    {
      "cell_type": "markdown",
      "source": [
        "The code below shows that the reconstructed Resnet18 model gives the same results as the original one. So there are no issues with the reconstruction."
      ],
      "metadata": {
        "id": "n3yDyw8SlPhI"
      }
    },
    {
      "cell_type": "code",
      "source": [
        "correct = 0\n",
        "total = 0\n",
        "index = 0\n",
        "# since we're not training, we don't need to calculate the gradients for our outputs\n",
        "with torch.no_grad():\n",
        "    for data in trainLoaderImageNetDataset:\n",
        "        images, labels = data\n",
        "        print(\"labels: \", labels)\n",
        "        # calculate outputs by running images through the network\n",
        "        originalModelOutputs = imageNetModel(images)\n",
        "        reconstructedModelOutputs = totalReconstructedImageNetModel[-1:](torch.squeeze(totalReconstructedImageNetModel[:-1](images)))\n",
        "        # the class with the highest energy is what we choose as prediction\n",
        "        if(index % 100 == 99):\n",
        "          print(\"index: \", index)\n",
        "        index = index + 1\n",
        "        _, originalModelPredicted = torch.max(originalModelOutputs.data, 1)\n",
        "        _, reconstructedModelPredicted = torch.max(reconstructedModelOutputs.data, 1)\n",
        "        print(\"originalModelPredicted: \", originalModelPredicted)\n",
        "        print(\"reconstructedModelPredicted: \", reconstructedModelPredicted)\n",
        "        total += labels.size(0)\n",
        "        correct += (predicted == labels).sum().item()\n",
        "\n",
        "print(f'Accuracy of the network on the 10000 test images: {100 * correct // total} %')"
      ],
      "metadata": {
        "colab": {
          "base_uri": "https://localhost:8080/",
          "height": 659
        },
        "id": "MzicpAppogvQ",
        "outputId": "159d7936-0ac7-44a2-bd3e-b2e89f52c0ee"
      },
      "execution_count": null,
      "outputs": [
        {
          "output_type": "stream",
          "name": "stdout",
          "text": [
            "labels:  tensor([0, 0, 0, 0])\n",
            "originalModelPredicted:  tensor([232,  74,   8, 864])\n",
            "reconstructedModelPredicted:  tensor([232,  74,   8, 864])\n",
            "labels:  tensor([0, 0, 0, 0])\n",
            "originalModelPredicted:  tensor([392, 355, 870,  78])\n",
            "reconstructedModelPredicted:  tensor([392, 355, 870,  78])\n",
            "labels:  tensor([0, 0, 0, 0])\n",
            "originalModelPredicted:  tensor([996, 412, 950,   9])\n",
            "reconstructedModelPredicted:  tensor([996, 412, 950,   9])\n",
            "labels:  tensor([0, 0, 0, 0])\n",
            "originalModelPredicted:  tensor([ 82, 423, 502, 677])\n",
            "reconstructedModelPredicted:  tensor([ 82, 423, 502, 677])\n",
            "labels:  tensor([0, 0, 0, 0])\n",
            "originalModelPredicted:  tensor([905, 390, 676, 998])\n",
            "reconstructedModelPredicted:  tensor([905, 390, 676, 998])\n",
            "labels:  tensor([0, 0, 0, 0])\n"
          ]
        },
        {
          "output_type": "error",
          "ename": "KeyboardInterrupt",
          "evalue": "ignored",
          "traceback": [
            "\u001b[0;31m---------------------------------------------------------------------------\u001b[0m",
            "\u001b[0;31mKeyboardInterrupt\u001b[0m                         Traceback (most recent call last)",
            "\u001b[0;32m<ipython-input-46-abf6df1131c3>\u001b[0m in \u001b[0;36m<cell line: 5>\u001b[0;34m()\u001b[0m\n\u001b[1;32m      8\u001b[0m         \u001b[0mprint\u001b[0m\u001b[0;34m(\u001b[0m\u001b[0;34m\"labels: \"\u001b[0m\u001b[0;34m,\u001b[0m \u001b[0mlabels\u001b[0m\u001b[0;34m)\u001b[0m\u001b[0;34m\u001b[0m\u001b[0;34m\u001b[0m\u001b[0m\n\u001b[1;32m      9\u001b[0m         \u001b[0;31m# calculate outputs by running images through the network\u001b[0m\u001b[0;34m\u001b[0m\u001b[0;34m\u001b[0m\u001b[0m\n\u001b[0;32m---> 10\u001b[0;31m         \u001b[0moriginalModelOutputs\u001b[0m \u001b[0;34m=\u001b[0m \u001b[0mimageNetModel\u001b[0m\u001b[0;34m(\u001b[0m\u001b[0mimages\u001b[0m\u001b[0;34m)\u001b[0m\u001b[0;34m\u001b[0m\u001b[0;34m\u001b[0m\u001b[0m\n\u001b[0m\u001b[1;32m     11\u001b[0m         \u001b[0mreconstructedModelOutputs\u001b[0m \u001b[0;34m=\u001b[0m \u001b[0mtotalReconstructedImageNetModel\u001b[0m\u001b[0;34m[\u001b[0m\u001b[0;34m-\u001b[0m\u001b[0;36m1\u001b[0m\u001b[0;34m:\u001b[0m\u001b[0;34m]\u001b[0m\u001b[0;34m(\u001b[0m\u001b[0mtorch\u001b[0m\u001b[0;34m.\u001b[0m\u001b[0msqueeze\u001b[0m\u001b[0;34m(\u001b[0m\u001b[0mtotalReconstructedImageNetModel\u001b[0m\u001b[0;34m[\u001b[0m\u001b[0;34m:\u001b[0m\u001b[0;34m-\u001b[0m\u001b[0;36m1\u001b[0m\u001b[0;34m]\u001b[0m\u001b[0;34m(\u001b[0m\u001b[0mimages\u001b[0m\u001b[0;34m)\u001b[0m\u001b[0;34m)\u001b[0m\u001b[0;34m)\u001b[0m\u001b[0;34m\u001b[0m\u001b[0;34m\u001b[0m\u001b[0m\n\u001b[1;32m     12\u001b[0m         \u001b[0;31m# the class with the highest energy is what we choose as prediction\u001b[0m\u001b[0;34m\u001b[0m\u001b[0;34m\u001b[0m\u001b[0m\n",
            "\u001b[0;32m/usr/local/lib/python3.9/dist-packages/torch/nn/modules/module.py\u001b[0m in \u001b[0;36m_call_impl\u001b[0;34m(self, *input, **kwargs)\u001b[0m\n\u001b[1;32m   1192\u001b[0m         if not (self._backward_hooks or self._forward_hooks or self._forward_pre_hooks or _global_backward_hooks\n\u001b[1;32m   1193\u001b[0m                 or _global_forward_hooks or _global_forward_pre_hooks):\n\u001b[0;32m-> 1194\u001b[0;31m             \u001b[0;32mreturn\u001b[0m \u001b[0mforward_call\u001b[0m\u001b[0;34m(\u001b[0m\u001b[0;34m*\u001b[0m\u001b[0minput\u001b[0m\u001b[0;34m,\u001b[0m \u001b[0;34m**\u001b[0m\u001b[0mkwargs\u001b[0m\u001b[0;34m)\u001b[0m\u001b[0;34m\u001b[0m\u001b[0;34m\u001b[0m\u001b[0m\n\u001b[0m\u001b[1;32m   1195\u001b[0m         \u001b[0;31m# Do not call functions when jit is used\u001b[0m\u001b[0;34m\u001b[0m\u001b[0;34m\u001b[0m\u001b[0m\n\u001b[1;32m   1196\u001b[0m         \u001b[0mfull_backward_hooks\u001b[0m\u001b[0;34m,\u001b[0m \u001b[0mnon_full_backward_hooks\u001b[0m \u001b[0;34m=\u001b[0m \u001b[0;34m[\u001b[0m\u001b[0;34m]\u001b[0m\u001b[0;34m,\u001b[0m \u001b[0;34m[\u001b[0m\u001b[0;34m]\u001b[0m\u001b[0;34m\u001b[0m\u001b[0;34m\u001b[0m\u001b[0m\n",
            "\u001b[0;32m/usr/local/lib/python3.9/dist-packages/torchvision/models/resnet.py\u001b[0m in \u001b[0;36mforward\u001b[0;34m(self, x)\u001b[0m\n\u001b[1;32m    283\u001b[0m \u001b[0;34m\u001b[0m\u001b[0m\n\u001b[1;32m    284\u001b[0m     \u001b[0;32mdef\u001b[0m \u001b[0mforward\u001b[0m\u001b[0;34m(\u001b[0m\u001b[0mself\u001b[0m\u001b[0;34m,\u001b[0m \u001b[0mx\u001b[0m\u001b[0;34m:\u001b[0m \u001b[0mTensor\u001b[0m\u001b[0;34m)\u001b[0m \u001b[0;34m->\u001b[0m \u001b[0mTensor\u001b[0m\u001b[0;34m:\u001b[0m\u001b[0;34m\u001b[0m\u001b[0;34m\u001b[0m\u001b[0m\n\u001b[0;32m--> 285\u001b[0;31m         \u001b[0;32mreturn\u001b[0m \u001b[0mself\u001b[0m\u001b[0;34m.\u001b[0m\u001b[0m_forward_impl\u001b[0m\u001b[0;34m(\u001b[0m\u001b[0mx\u001b[0m\u001b[0;34m)\u001b[0m\u001b[0;34m\u001b[0m\u001b[0;34m\u001b[0m\u001b[0m\n\u001b[0m\u001b[1;32m    286\u001b[0m \u001b[0;34m\u001b[0m\u001b[0m\n\u001b[1;32m    287\u001b[0m \u001b[0;34m\u001b[0m\u001b[0m\n",
            "\u001b[0;32m/usr/local/lib/python3.9/dist-packages/torchvision/models/resnet.py\u001b[0m in \u001b[0;36m_forward_impl\u001b[0;34m(self, x)\u001b[0m\n\u001b[1;32m    271\u001b[0m         \u001b[0mx\u001b[0m \u001b[0;34m=\u001b[0m \u001b[0mself\u001b[0m\u001b[0;34m.\u001b[0m\u001b[0mmaxpool\u001b[0m\u001b[0;34m(\u001b[0m\u001b[0mx\u001b[0m\u001b[0;34m)\u001b[0m\u001b[0;34m\u001b[0m\u001b[0;34m\u001b[0m\u001b[0m\n\u001b[1;32m    272\u001b[0m \u001b[0;34m\u001b[0m\u001b[0m\n\u001b[0;32m--> 273\u001b[0;31m         \u001b[0mx\u001b[0m \u001b[0;34m=\u001b[0m \u001b[0mself\u001b[0m\u001b[0;34m.\u001b[0m\u001b[0mlayer1\u001b[0m\u001b[0;34m(\u001b[0m\u001b[0mx\u001b[0m\u001b[0;34m)\u001b[0m\u001b[0;34m\u001b[0m\u001b[0;34m\u001b[0m\u001b[0m\n\u001b[0m\u001b[1;32m    274\u001b[0m         \u001b[0mx\u001b[0m \u001b[0;34m=\u001b[0m \u001b[0mself\u001b[0m\u001b[0;34m.\u001b[0m\u001b[0mlayer2\u001b[0m\u001b[0;34m(\u001b[0m\u001b[0mx\u001b[0m\u001b[0;34m)\u001b[0m\u001b[0;34m\u001b[0m\u001b[0;34m\u001b[0m\u001b[0m\n\u001b[1;32m    275\u001b[0m         \u001b[0mx\u001b[0m \u001b[0;34m=\u001b[0m \u001b[0mself\u001b[0m\u001b[0;34m.\u001b[0m\u001b[0mlayer3\u001b[0m\u001b[0;34m(\u001b[0m\u001b[0mx\u001b[0m\u001b[0;34m)\u001b[0m\u001b[0;34m\u001b[0m\u001b[0;34m\u001b[0m\u001b[0m\n",
            "\u001b[0;32m/usr/local/lib/python3.9/dist-packages/torch/nn/modules/module.py\u001b[0m in \u001b[0;36m_call_impl\u001b[0;34m(self, *input, **kwargs)\u001b[0m\n\u001b[1;32m   1192\u001b[0m         if not (self._backward_hooks or self._forward_hooks or self._forward_pre_hooks or _global_backward_hooks\n\u001b[1;32m   1193\u001b[0m                 or _global_forward_hooks or _global_forward_pre_hooks):\n\u001b[0;32m-> 1194\u001b[0;31m             \u001b[0;32mreturn\u001b[0m \u001b[0mforward_call\u001b[0m\u001b[0;34m(\u001b[0m\u001b[0;34m*\u001b[0m\u001b[0minput\u001b[0m\u001b[0;34m,\u001b[0m \u001b[0;34m**\u001b[0m\u001b[0mkwargs\u001b[0m\u001b[0;34m)\u001b[0m\u001b[0;34m\u001b[0m\u001b[0;34m\u001b[0m\u001b[0m\n\u001b[0m\u001b[1;32m   1195\u001b[0m         \u001b[0;31m# Do not call functions when jit is used\u001b[0m\u001b[0;34m\u001b[0m\u001b[0;34m\u001b[0m\u001b[0m\n\u001b[1;32m   1196\u001b[0m         \u001b[0mfull_backward_hooks\u001b[0m\u001b[0;34m,\u001b[0m \u001b[0mnon_full_backward_hooks\u001b[0m \u001b[0;34m=\u001b[0m \u001b[0;34m[\u001b[0m\u001b[0;34m]\u001b[0m\u001b[0;34m,\u001b[0m \u001b[0;34m[\u001b[0m\u001b[0;34m]\u001b[0m\u001b[0;34m\u001b[0m\u001b[0;34m\u001b[0m\u001b[0m\n",
            "\u001b[0;32m/usr/local/lib/python3.9/dist-packages/torch/nn/modules/container.py\u001b[0m in \u001b[0;36mforward\u001b[0;34m(self, input)\u001b[0m\n\u001b[1;32m    202\u001b[0m     \u001b[0;32mdef\u001b[0m \u001b[0mforward\u001b[0m\u001b[0;34m(\u001b[0m\u001b[0mself\u001b[0m\u001b[0;34m,\u001b[0m \u001b[0minput\u001b[0m\u001b[0;34m)\u001b[0m\u001b[0;34m:\u001b[0m\u001b[0;34m\u001b[0m\u001b[0;34m\u001b[0m\u001b[0m\n\u001b[1;32m    203\u001b[0m         \u001b[0;32mfor\u001b[0m \u001b[0mmodule\u001b[0m \u001b[0;32min\u001b[0m \u001b[0mself\u001b[0m\u001b[0;34m:\u001b[0m\u001b[0;34m\u001b[0m\u001b[0;34m\u001b[0m\u001b[0m\n\u001b[0;32m--> 204\u001b[0;31m             \u001b[0minput\u001b[0m \u001b[0;34m=\u001b[0m \u001b[0mmodule\u001b[0m\u001b[0;34m(\u001b[0m\u001b[0minput\u001b[0m\u001b[0;34m)\u001b[0m\u001b[0;34m\u001b[0m\u001b[0;34m\u001b[0m\u001b[0m\n\u001b[0m\u001b[1;32m    205\u001b[0m         \u001b[0;32mreturn\u001b[0m \u001b[0minput\u001b[0m\u001b[0;34m\u001b[0m\u001b[0;34m\u001b[0m\u001b[0m\n\u001b[1;32m    206\u001b[0m \u001b[0;34m\u001b[0m\u001b[0m\n",
            "\u001b[0;32m/usr/local/lib/python3.9/dist-packages/torch/nn/modules/module.py\u001b[0m in \u001b[0;36m_call_impl\u001b[0;34m(self, *input, **kwargs)\u001b[0m\n\u001b[1;32m   1192\u001b[0m         if not (self._backward_hooks or self._forward_hooks or self._forward_pre_hooks or _global_backward_hooks\n\u001b[1;32m   1193\u001b[0m                 or _global_forward_hooks or _global_forward_pre_hooks):\n\u001b[0;32m-> 1194\u001b[0;31m             \u001b[0;32mreturn\u001b[0m \u001b[0mforward_call\u001b[0m\u001b[0;34m(\u001b[0m\u001b[0;34m*\u001b[0m\u001b[0minput\u001b[0m\u001b[0;34m,\u001b[0m \u001b[0;34m**\u001b[0m\u001b[0mkwargs\u001b[0m\u001b[0;34m)\u001b[0m\u001b[0;34m\u001b[0m\u001b[0;34m\u001b[0m\u001b[0m\n\u001b[0m\u001b[1;32m   1195\u001b[0m         \u001b[0;31m# Do not call functions when jit is used\u001b[0m\u001b[0;34m\u001b[0m\u001b[0;34m\u001b[0m\u001b[0m\n\u001b[1;32m   1196\u001b[0m         \u001b[0mfull_backward_hooks\u001b[0m\u001b[0;34m,\u001b[0m \u001b[0mnon_full_backward_hooks\u001b[0m \u001b[0;34m=\u001b[0m \u001b[0;34m[\u001b[0m\u001b[0;34m]\u001b[0m\u001b[0;34m,\u001b[0m \u001b[0;34m[\u001b[0m\u001b[0;34m]\u001b[0m\u001b[0;34m\u001b[0m\u001b[0;34m\u001b[0m\u001b[0m\n",
            "\u001b[0;32m/usr/local/lib/python3.9/dist-packages/torchvision/models/resnet.py\u001b[0m in \u001b[0;36mforward\u001b[0;34m(self, x)\u001b[0m\n\u001b[1;32m     90\u001b[0m         \u001b[0midentity\u001b[0m \u001b[0;34m=\u001b[0m \u001b[0mx\u001b[0m\u001b[0;34m\u001b[0m\u001b[0;34m\u001b[0m\u001b[0m\n\u001b[1;32m     91\u001b[0m \u001b[0;34m\u001b[0m\u001b[0m\n\u001b[0;32m---> 92\u001b[0;31m         \u001b[0mout\u001b[0m \u001b[0;34m=\u001b[0m \u001b[0mself\u001b[0m\u001b[0;34m.\u001b[0m\u001b[0mconv1\u001b[0m\u001b[0;34m(\u001b[0m\u001b[0mx\u001b[0m\u001b[0;34m)\u001b[0m\u001b[0;34m\u001b[0m\u001b[0;34m\u001b[0m\u001b[0m\n\u001b[0m\u001b[1;32m     93\u001b[0m         \u001b[0mout\u001b[0m \u001b[0;34m=\u001b[0m \u001b[0mself\u001b[0m\u001b[0;34m.\u001b[0m\u001b[0mbn1\u001b[0m\u001b[0;34m(\u001b[0m\u001b[0mout\u001b[0m\u001b[0;34m)\u001b[0m\u001b[0;34m\u001b[0m\u001b[0;34m\u001b[0m\u001b[0m\n\u001b[1;32m     94\u001b[0m         \u001b[0mout\u001b[0m \u001b[0;34m=\u001b[0m \u001b[0mself\u001b[0m\u001b[0;34m.\u001b[0m\u001b[0mrelu\u001b[0m\u001b[0;34m(\u001b[0m\u001b[0mout\u001b[0m\u001b[0;34m)\u001b[0m\u001b[0;34m\u001b[0m\u001b[0;34m\u001b[0m\u001b[0m\n",
            "\u001b[0;32m/usr/local/lib/python3.9/dist-packages/torch/nn/modules/module.py\u001b[0m in \u001b[0;36m_call_impl\u001b[0;34m(self, *input, **kwargs)\u001b[0m\n\u001b[1;32m   1192\u001b[0m         if not (self._backward_hooks or self._forward_hooks or self._forward_pre_hooks or _global_backward_hooks\n\u001b[1;32m   1193\u001b[0m                 or _global_forward_hooks or _global_forward_pre_hooks):\n\u001b[0;32m-> 1194\u001b[0;31m             \u001b[0;32mreturn\u001b[0m \u001b[0mforward_call\u001b[0m\u001b[0;34m(\u001b[0m\u001b[0;34m*\u001b[0m\u001b[0minput\u001b[0m\u001b[0;34m,\u001b[0m \u001b[0;34m**\u001b[0m\u001b[0mkwargs\u001b[0m\u001b[0;34m)\u001b[0m\u001b[0;34m\u001b[0m\u001b[0;34m\u001b[0m\u001b[0m\n\u001b[0m\u001b[1;32m   1195\u001b[0m         \u001b[0;31m# Do not call functions when jit is used\u001b[0m\u001b[0;34m\u001b[0m\u001b[0;34m\u001b[0m\u001b[0m\n\u001b[1;32m   1196\u001b[0m         \u001b[0mfull_backward_hooks\u001b[0m\u001b[0;34m,\u001b[0m \u001b[0mnon_full_backward_hooks\u001b[0m \u001b[0;34m=\u001b[0m \u001b[0;34m[\u001b[0m\u001b[0;34m]\u001b[0m\u001b[0;34m,\u001b[0m \u001b[0;34m[\u001b[0m\u001b[0;34m]\u001b[0m\u001b[0;34m\u001b[0m\u001b[0;34m\u001b[0m\u001b[0m\n",
            "\u001b[0;32m/usr/local/lib/python3.9/dist-packages/torch/nn/modules/conv.py\u001b[0m in \u001b[0;36mforward\u001b[0;34m(self, input)\u001b[0m\n\u001b[1;32m    461\u001b[0m \u001b[0;34m\u001b[0m\u001b[0m\n\u001b[1;32m    462\u001b[0m     \u001b[0;32mdef\u001b[0m \u001b[0mforward\u001b[0m\u001b[0;34m(\u001b[0m\u001b[0mself\u001b[0m\u001b[0;34m,\u001b[0m \u001b[0minput\u001b[0m\u001b[0;34m:\u001b[0m \u001b[0mTensor\u001b[0m\u001b[0;34m)\u001b[0m \u001b[0;34m->\u001b[0m \u001b[0mTensor\u001b[0m\u001b[0;34m:\u001b[0m\u001b[0;34m\u001b[0m\u001b[0;34m\u001b[0m\u001b[0m\n\u001b[0;32m--> 463\u001b[0;31m         \u001b[0;32mreturn\u001b[0m \u001b[0mself\u001b[0m\u001b[0;34m.\u001b[0m\u001b[0m_conv_forward\u001b[0m\u001b[0;34m(\u001b[0m\u001b[0minput\u001b[0m\u001b[0;34m,\u001b[0m \u001b[0mself\u001b[0m\u001b[0;34m.\u001b[0m\u001b[0mweight\u001b[0m\u001b[0;34m,\u001b[0m \u001b[0mself\u001b[0m\u001b[0;34m.\u001b[0m\u001b[0mbias\u001b[0m\u001b[0;34m)\u001b[0m\u001b[0;34m\u001b[0m\u001b[0;34m\u001b[0m\u001b[0m\n\u001b[0m\u001b[1;32m    464\u001b[0m \u001b[0;34m\u001b[0m\u001b[0m\n\u001b[1;32m    465\u001b[0m \u001b[0;32mclass\u001b[0m \u001b[0mConv3d\u001b[0m\u001b[0;34m(\u001b[0m\u001b[0m_ConvNd\u001b[0m\u001b[0;34m)\u001b[0m\u001b[0;34m:\u001b[0m\u001b[0;34m\u001b[0m\u001b[0;34m\u001b[0m\u001b[0m\n",
            "\u001b[0;32m/usr/local/lib/python3.9/dist-packages/torch/nn/modules/conv.py\u001b[0m in \u001b[0;36m_conv_forward\u001b[0;34m(self, input, weight, bias)\u001b[0m\n\u001b[1;32m    457\u001b[0m                             \u001b[0mweight\u001b[0m\u001b[0;34m,\u001b[0m \u001b[0mbias\u001b[0m\u001b[0;34m,\u001b[0m \u001b[0mself\u001b[0m\u001b[0;34m.\u001b[0m\u001b[0mstride\u001b[0m\u001b[0;34m,\u001b[0m\u001b[0;34m\u001b[0m\u001b[0;34m\u001b[0m\u001b[0m\n\u001b[1;32m    458\u001b[0m                             _pair(0), self.dilation, self.groups)\n\u001b[0;32m--> 459\u001b[0;31m         return F.conv2d(input, weight, bias, self.stride,\n\u001b[0m\u001b[1;32m    460\u001b[0m                         self.padding, self.dilation, self.groups)\n\u001b[1;32m    461\u001b[0m \u001b[0;34m\u001b[0m\u001b[0m\n",
            "\u001b[0;31mKeyboardInterrupt\u001b[0m: "
          ]
        }
      ]
    },
    {
      "cell_type": "code",
      "source": [
        "torch.nn.Linear(512, 1000)(torch.zeros([4, 512, 1, 1]))"
      ],
      "metadata": {
        "colab": {
          "base_uri": "https://localhost:8080/",
          "height": 312
        },
        "id": "jeNSNvuaWM70",
        "outputId": "9c50641a-c673-4714-fede-ebd63d9dcd1b"
      },
      "execution_count": null,
      "outputs": [
        {
          "output_type": "error",
          "ename": "RuntimeError",
          "evalue": "ignored",
          "traceback": [
            "\u001b[0;31m---------------------------------------------------------------------------\u001b[0m",
            "\u001b[0;31mRuntimeError\u001b[0m                              Traceback (most recent call last)",
            "\u001b[0;32m<ipython-input-42-ed5e3e3bdc53>\u001b[0m in \u001b[0;36m<cell line: 1>\u001b[0;34m()\u001b[0m\n\u001b[0;32m----> 1\u001b[0;31m \u001b[0mtorch\u001b[0m\u001b[0;34m.\u001b[0m\u001b[0mnn\u001b[0m\u001b[0;34m.\u001b[0m\u001b[0mLinear\u001b[0m\u001b[0;34m(\u001b[0m\u001b[0;36m512\u001b[0m\u001b[0;34m,\u001b[0m \u001b[0;36m1000\u001b[0m\u001b[0;34m)\u001b[0m\u001b[0;34m(\u001b[0m\u001b[0mtorch\u001b[0m\u001b[0;34m.\u001b[0m\u001b[0mzeros\u001b[0m\u001b[0;34m(\u001b[0m\u001b[0;34m[\u001b[0m\u001b[0;36m4\u001b[0m\u001b[0;34m,\u001b[0m \u001b[0;36m512\u001b[0m\u001b[0;34m,\u001b[0m \u001b[0;36m1\u001b[0m\u001b[0;34m,\u001b[0m \u001b[0;36m1\u001b[0m\u001b[0;34m]\u001b[0m\u001b[0;34m)\u001b[0m\u001b[0;34m)\u001b[0m\u001b[0;34m\u001b[0m\u001b[0;34m\u001b[0m\u001b[0m\n\u001b[0m",
            "\u001b[0;32m/usr/local/lib/python3.9/dist-packages/torch/nn/modules/module.py\u001b[0m in \u001b[0;36m_call_impl\u001b[0;34m(self, *input, **kwargs)\u001b[0m\n\u001b[1;32m   1192\u001b[0m         if not (self._backward_hooks or self._forward_hooks or self._forward_pre_hooks or _global_backward_hooks\n\u001b[1;32m   1193\u001b[0m                 or _global_forward_hooks or _global_forward_pre_hooks):\n\u001b[0;32m-> 1194\u001b[0;31m             \u001b[0;32mreturn\u001b[0m \u001b[0mforward_call\u001b[0m\u001b[0;34m(\u001b[0m\u001b[0;34m*\u001b[0m\u001b[0minput\u001b[0m\u001b[0;34m,\u001b[0m \u001b[0;34m**\u001b[0m\u001b[0mkwargs\u001b[0m\u001b[0;34m)\u001b[0m\u001b[0;34m\u001b[0m\u001b[0;34m\u001b[0m\u001b[0m\n\u001b[0m\u001b[1;32m   1195\u001b[0m         \u001b[0;31m# Do not call functions when jit is used\u001b[0m\u001b[0;34m\u001b[0m\u001b[0;34m\u001b[0m\u001b[0m\n\u001b[1;32m   1196\u001b[0m         \u001b[0mfull_backward_hooks\u001b[0m\u001b[0;34m,\u001b[0m \u001b[0mnon_full_backward_hooks\u001b[0m \u001b[0;34m=\u001b[0m \u001b[0;34m[\u001b[0m\u001b[0;34m]\u001b[0m\u001b[0;34m,\u001b[0m \u001b[0;34m[\u001b[0m\u001b[0;34m]\u001b[0m\u001b[0;34m\u001b[0m\u001b[0;34m\u001b[0m\u001b[0m\n",
            "\u001b[0;32m/usr/local/lib/python3.9/dist-packages/torch/nn/modules/linear.py\u001b[0m in \u001b[0;36mforward\u001b[0;34m(self, input)\u001b[0m\n\u001b[1;32m    112\u001b[0m \u001b[0;34m\u001b[0m\u001b[0m\n\u001b[1;32m    113\u001b[0m     \u001b[0;32mdef\u001b[0m \u001b[0mforward\u001b[0m\u001b[0;34m(\u001b[0m\u001b[0mself\u001b[0m\u001b[0;34m,\u001b[0m \u001b[0minput\u001b[0m\u001b[0;34m:\u001b[0m \u001b[0mTensor\u001b[0m\u001b[0;34m)\u001b[0m \u001b[0;34m->\u001b[0m \u001b[0mTensor\u001b[0m\u001b[0;34m:\u001b[0m\u001b[0;34m\u001b[0m\u001b[0;34m\u001b[0m\u001b[0m\n\u001b[0;32m--> 114\u001b[0;31m         \u001b[0;32mreturn\u001b[0m \u001b[0mF\u001b[0m\u001b[0;34m.\u001b[0m\u001b[0mlinear\u001b[0m\u001b[0;34m(\u001b[0m\u001b[0minput\u001b[0m\u001b[0;34m,\u001b[0m \u001b[0mself\u001b[0m\u001b[0;34m.\u001b[0m\u001b[0mweight\u001b[0m\u001b[0;34m,\u001b[0m \u001b[0mself\u001b[0m\u001b[0;34m.\u001b[0m\u001b[0mbias\u001b[0m\u001b[0;34m)\u001b[0m\u001b[0;34m\u001b[0m\u001b[0;34m\u001b[0m\u001b[0m\n\u001b[0m\u001b[1;32m    115\u001b[0m \u001b[0;34m\u001b[0m\u001b[0m\n\u001b[1;32m    116\u001b[0m     \u001b[0;32mdef\u001b[0m \u001b[0mextra_repr\u001b[0m\u001b[0;34m(\u001b[0m\u001b[0mself\u001b[0m\u001b[0;34m)\u001b[0m \u001b[0;34m->\u001b[0m \u001b[0mstr\u001b[0m\u001b[0;34m:\u001b[0m\u001b[0;34m\u001b[0m\u001b[0;34m\u001b[0m\u001b[0m\n",
            "\u001b[0;31mRuntimeError\u001b[0m: mat1 and mat2 shapes cannot be multiplied (2048x1 and 512x1000)"
          ]
        }
      ]
    },
    {
      "cell_type": "code",
      "source": [
        "torch.nn.Linear(512, 1000)(torch.squeeze(torch.zeros([4, 512, 1, 1])))"
      ],
      "metadata": {
        "colab": {
          "base_uri": "https://localhost:8080/"
        },
        "id": "Ayt_2euUhszY",
        "outputId": "3d9f9f63-e531-47f8-f1b0-0be2625c03e8"
      },
      "execution_count": null,
      "outputs": [
        {
          "output_type": "execute_result",
          "data": {
            "text/plain": [
              "tensor([[ 0.0132, -0.0103, -0.0119,  ...,  0.0441, -0.0292,  0.0264],\n",
              "        [ 0.0132, -0.0103, -0.0119,  ...,  0.0441, -0.0292,  0.0264],\n",
              "        [ 0.0132, -0.0103, -0.0119,  ...,  0.0441, -0.0292,  0.0264],\n",
              "        [ 0.0132, -0.0103, -0.0119,  ...,  0.0441, -0.0292,  0.0264]],\n",
              "       grad_fn=<AddmmBackward0>)"
            ]
          },
          "metadata": {},
          "execution_count": 43
        }
      ]
    },
    {
      "cell_type": "code",
      "source": [],
      "metadata": {
        "id": "-HrlaZ9hiP10"
      },
      "execution_count": null,
      "outputs": []
    }
  ]
}